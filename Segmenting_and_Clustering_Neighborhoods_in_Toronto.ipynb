{
 "cells": [
  {
   "cell_type": "markdown",
   "metadata": {
    "button": false,
    "new_sheet": false,
    "run_control": {
     "read_only": false
    }
   },
   "source": [
    "<a href=\"https://de.linkedin.com/in/delafuenteaguilerapablo/de-de\"><img src=\"https://media-exp1.licdn.com/dms/image/C4D03AQElWBXe___WeQ/profile-displayphoto-shrink_200_200/0?e=1609372800&v=beta&t=IdUiY7Y78vTI3jcLbSWUboqDUTKDU2XgKg4KPptmGVY\" width=\"200\" align=\"right\"></a>\n",
    "\n",
    "# Segmenting and Clustering Neighborhoods in Toronto\n",
    "\n",
    "## Project from Pablo de la Fuente Aguilera\n",
    "### I´m an engineer and you can see my full background on my Linkedin profile: https://de.linkedin.com/in/delafuenteaguilerapablo/de-de\n",
    "### This Notebook is part of the Capstone Project.\n",
    "### This Project is the last Assignment of the IBM Professional Certificate in Data Science, offered by Coursera.org"
   ]
  },
  {
   "cell_type": "code",
   "execution_count": 455,
   "metadata": {
    "button": false,
    "new_sheet": false,
    "run_control": {
     "read_only": false
    }
   },
   "outputs": [
    {
     "output_type": "stream",
     "name": "stdout",
     "text": [
      "Libraries imported.\n"
     ]
    }
   ],
   "source": [
    "# All libraries are imported here\n",
    "import pandas as pd\n",
    "import numpy as np\n",
    "import geocoder\n",
    "import requests \n",
    "from bs4 import BeautifulSoup \n",
    "import matplotlib.cm as cm\n",
    "import matplotlib.colors as colors\n",
    "import folium \n",
    "import lxml\n",
    "from sklearn.cluster import KMeans\n",
    "import json\n",
    "from geopy.geocoders import Nominatim\n",
    "from pandas.io.json import json_normalize\n",
    "print('Libraries imported.')"
   ]
  },
  {
   "cell_type": "markdown",
   "metadata": {
    "button": false,
    "new_sheet": false,
    "run_control": {
     "read_only": false
    }
   },
   "source": [
    "## First Part of the Assignment"
   ]
  },
  {
   "cell_type": "code",
   "execution_count": 456,
   "metadata": {},
   "outputs": [
    {
     "output_type": "stream",
     "name": "stdout",
     "text": [
      "We read and scrape the table:\n"
     ]
    },
    {
     "output_type": "execute_result",
     "data": {
      "text/plain": [
       "  Postal Code           Borough              Neighbourhood\n",
       "0         M1A      Not assigned               Not assigned\n",
       "1         M2A      Not assigned               Not assigned\n",
       "2         M3A        North York                  Parkwoods\n",
       "3         M4A        North York           Victoria Village\n",
       "4         M5A  Downtown Toronto  Regent Park, Harbourfront"
      ],
      "text/html": "<div>\n<style scoped>\n    .dataframe tbody tr th:only-of-type {\n        vertical-align: middle;\n    }\n\n    .dataframe tbody tr th {\n        vertical-align: top;\n    }\n\n    .dataframe thead th {\n        text-align: right;\n    }\n</style>\n<table border=\"1\" class=\"dataframe\">\n  <thead>\n    <tr style=\"text-align: right;\">\n      <th></th>\n      <th>Postal Code</th>\n      <th>Borough</th>\n      <th>Neighbourhood</th>\n    </tr>\n  </thead>\n  <tbody>\n    <tr>\n      <th>0</th>\n      <td>M1A</td>\n      <td>Not assigned</td>\n      <td>Not assigned</td>\n    </tr>\n    <tr>\n      <th>1</th>\n      <td>M2A</td>\n      <td>Not assigned</td>\n      <td>Not assigned</td>\n    </tr>\n    <tr>\n      <th>2</th>\n      <td>M3A</td>\n      <td>North York</td>\n      <td>Parkwoods</td>\n    </tr>\n    <tr>\n      <th>3</th>\n      <td>M4A</td>\n      <td>North York</td>\n      <td>Victoria Village</td>\n    </tr>\n    <tr>\n      <th>4</th>\n      <td>M5A</td>\n      <td>Downtown Toronto</td>\n      <td>Regent Park, Harbourfront</td>\n    </tr>\n  </tbody>\n</table>\n</div>"
     },
     "metadata": {},
     "execution_count": 456
    }
   ],
   "source": [
    "print(\"We read and scrape the table:\")\n",
    "url = 'https://en.wikipedia.org/wiki/List_of_postal_codes_of_Canada:_M'\n",
    "tables = pd.read_html(url, header=0)\n",
    "table = tables[0]\n",
    "table.head()"
   ]
  },
  {
   "cell_type": "code",
   "execution_count": 457,
   "metadata": {},
   "outputs": [
    {
     "output_type": "stream",
     "name": "stdout",
     "text": [
      "The shape of the table is:\n"
     ]
    },
    {
     "output_type": "execute_result",
     "data": {
      "text/plain": [
       "(180, 3)"
      ]
     },
     "metadata": {},
     "execution_count": 457
    }
   ],
   "source": [
    "print('The shape of the table is:')\n",
    "table.shape"
   ]
  },
  {
   "cell_type": "code",
   "execution_count": 458,
   "metadata": {},
   "outputs": [
    {
     "output_type": "stream",
     "name": "stdout",
     "text": [
      "Check the number of \"Not assigned\" in Borough\n"
     ]
    },
    {
     "output_type": "execute_result",
     "data": {
      "text/plain": [
       "Not assigned        77\n",
       "North York          24\n",
       "Downtown Toronto    19\n",
       "Scarborough         17\n",
       "Etobicoke           12\n",
       "Central Toronto      9\n",
       "West Toronto         6\n",
       "York                 5\n",
       "East York            5\n",
       "East Toronto         5\n",
       "Mississauga          1\n",
       "Name: Borough, dtype: int64"
      ]
     },
     "metadata": {},
     "execution_count": 458
    }
   ],
   "source": [
    "print('Check the number of \"Not assigned\" in Borough')\n",
    "table.Borough.value_counts()"
   ]
  },
  {
   "cell_type": "code",
   "execution_count": 459,
   "metadata": {},
   "outputs": [
    {
     "output_type": "stream",
     "name": "stdout",
     "text": [
      "Check the number of \"Not assigned\" in Neighborhood\n"
     ]
    },
    {
     "output_type": "execute_result",
     "data": {
      "text/plain": [
       "Not assigned                                 77\n",
       "Downsview                                     4\n",
       "Don Mills                                     2\n",
       "India Bazaar, The Beaches West                1\n",
       "Wexford, Maryvale                             1\n",
       "                                             ..\n",
       "Davisville                                    1\n",
       "Kensington Market, Chinatown, Grange Park     1\n",
       "Lawrence Park                                 1\n",
       "Leaside                                       1\n",
       "Willowdale, Willowdale East                   1\n",
       "Name: Neighbourhood, Length: 100, dtype: int64"
      ]
     },
     "metadata": {},
     "execution_count": 459
    }
   ],
   "source": [
    "print('Check the number of \"Not assigned\" in Neighborhood')\n",
    "table.Neighbourhood.value_counts()"
   ]
  },
  {
   "cell_type": "code",
   "execution_count": 460,
   "metadata": {},
   "outputs": [
    {
     "output_type": "stream",
     "name": "stdout",
     "text": [
      "Not assigned are replaced and dropped in Borough\n"
     ]
    },
    {
     "output_type": "execute_result",
     "data": {
      "text/plain": [
       "   Postal Code           Borough  \\\n",
       "0          M3A        North York   \n",
       "1          M4A        North York   \n",
       "2          M5A  Downtown Toronto   \n",
       "3          M6A        North York   \n",
       "4          M7A  Downtown Toronto   \n",
       "5          M9A         Etobicoke   \n",
       "6          M1B       Scarborough   \n",
       "7          M3B        North York   \n",
       "8          M4B         East York   \n",
       "9          M5B  Downtown Toronto   \n",
       "10         M6B        North York   \n",
       "11         M9B         Etobicoke   \n",
       "12         M1C       Scarborough   \n",
       "13         M3C        North York   \n",
       "14         M4C         East York   \n",
       "15         M5C  Downtown Toronto   \n",
       "16         M6C              York   \n",
       "17         M9C         Etobicoke   \n",
       "18         M1E       Scarborough   \n",
       "19         M4E      East Toronto   \n",
       "\n",
       "                                        Neighbourhood  \n",
       "0                                           Parkwoods  \n",
       "1                                    Victoria Village  \n",
       "2                           Regent Park, Harbourfront  \n",
       "3                    Lawrence Manor, Lawrence Heights  \n",
       "4         Queen's Park, Ontario Provincial Government  \n",
       "5             Islington Avenue, Humber Valley Village  \n",
       "6                                      Malvern, Rouge  \n",
       "7                                           Don Mills  \n",
       "8                     Parkview Hill, Woodbine Gardens  \n",
       "9                            Garden District, Ryerson  \n",
       "10                                          Glencairn  \n",
       "11  West Deane Park, Princess Gardens, Martin Grov...  \n",
       "12             Rouge Hill, Port Union, Highland Creek  \n",
       "13                                          Don Mills  \n",
       "14                                   Woodbine Heights  \n",
       "15                                     St. James Town  \n",
       "16                                 Humewood-Cedarvale  \n",
       "17  Eringate, Bloordale Gardens, Old Burnhamthorpe...  \n",
       "18                  Guildwood, Morningside, West Hill  \n",
       "19                                        The Beaches  "
      ],
      "text/html": "<div>\n<style scoped>\n    .dataframe tbody tr th:only-of-type {\n        vertical-align: middle;\n    }\n\n    .dataframe tbody tr th {\n        vertical-align: top;\n    }\n\n    .dataframe thead th {\n        text-align: right;\n    }\n</style>\n<table border=\"1\" class=\"dataframe\">\n  <thead>\n    <tr style=\"text-align: right;\">\n      <th></th>\n      <th>Postal Code</th>\n      <th>Borough</th>\n      <th>Neighbourhood</th>\n    </tr>\n  </thead>\n  <tbody>\n    <tr>\n      <th>0</th>\n      <td>M3A</td>\n      <td>North York</td>\n      <td>Parkwoods</td>\n    </tr>\n    <tr>\n      <th>1</th>\n      <td>M4A</td>\n      <td>North York</td>\n      <td>Victoria Village</td>\n    </tr>\n    <tr>\n      <th>2</th>\n      <td>M5A</td>\n      <td>Downtown Toronto</td>\n      <td>Regent Park, Harbourfront</td>\n    </tr>\n    <tr>\n      <th>3</th>\n      <td>M6A</td>\n      <td>North York</td>\n      <td>Lawrence Manor, Lawrence Heights</td>\n    </tr>\n    <tr>\n      <th>4</th>\n      <td>M7A</td>\n      <td>Downtown Toronto</td>\n      <td>Queen's Park, Ontario Provincial Government</td>\n    </tr>\n    <tr>\n      <th>5</th>\n      <td>M9A</td>\n      <td>Etobicoke</td>\n      <td>Islington Avenue, Humber Valley Village</td>\n    </tr>\n    <tr>\n      <th>6</th>\n      <td>M1B</td>\n      <td>Scarborough</td>\n      <td>Malvern, Rouge</td>\n    </tr>\n    <tr>\n      <th>7</th>\n      <td>M3B</td>\n      <td>North York</td>\n      <td>Don Mills</td>\n    </tr>\n    <tr>\n      <th>8</th>\n      <td>M4B</td>\n      <td>East York</td>\n      <td>Parkview Hill, Woodbine Gardens</td>\n    </tr>\n    <tr>\n      <th>9</th>\n      <td>M5B</td>\n      <td>Downtown Toronto</td>\n      <td>Garden District, Ryerson</td>\n    </tr>\n    <tr>\n      <th>10</th>\n      <td>M6B</td>\n      <td>North York</td>\n      <td>Glencairn</td>\n    </tr>\n    <tr>\n      <th>11</th>\n      <td>M9B</td>\n      <td>Etobicoke</td>\n      <td>West Deane Park, Princess Gardens, Martin Grov...</td>\n    </tr>\n    <tr>\n      <th>12</th>\n      <td>M1C</td>\n      <td>Scarborough</td>\n      <td>Rouge Hill, Port Union, Highland Creek</td>\n    </tr>\n    <tr>\n      <th>13</th>\n      <td>M3C</td>\n      <td>North York</td>\n      <td>Don Mills</td>\n    </tr>\n    <tr>\n      <th>14</th>\n      <td>M4C</td>\n      <td>East York</td>\n      <td>Woodbine Heights</td>\n    </tr>\n    <tr>\n      <th>15</th>\n      <td>M5C</td>\n      <td>Downtown Toronto</td>\n      <td>St. James Town</td>\n    </tr>\n    <tr>\n      <th>16</th>\n      <td>M6C</td>\n      <td>York</td>\n      <td>Humewood-Cedarvale</td>\n    </tr>\n    <tr>\n      <th>17</th>\n      <td>M9C</td>\n      <td>Etobicoke</td>\n      <td>Eringate, Bloordale Gardens, Old Burnhamthorpe...</td>\n    </tr>\n    <tr>\n      <th>18</th>\n      <td>M1E</td>\n      <td>Scarborough</td>\n      <td>Guildwood, Morningside, West Hill</td>\n    </tr>\n    <tr>\n      <th>19</th>\n      <td>M4E</td>\n      <td>East Toronto</td>\n      <td>The Beaches</td>\n    </tr>\n  </tbody>\n</table>\n</div>"
     },
     "metadata": {},
     "execution_count": 460
    }
   ],
   "source": [
    "print('Not assigned are replaced and dropped in Borough')\n",
    "table.Borough.replace(\"Not assigned\", np.nan, inplace = True)\n",
    "table.dropna(axis=0, inplace=True)\n",
    "table = table.reset_index()\n",
    "table = table.drop(['index'], axis=1)\n",
    "table.head(20)"
   ]
  },
  {
   "cell_type": "code",
   "execution_count": 461,
   "metadata": {},
   "outputs": [
    {
     "output_type": "stream",
     "name": "stdout",
     "text": [
      "We group Neighbourhoods with the same Postal Code\n"
     ]
    },
    {
     "output_type": "execute_result",
     "data": {
      "text/plain": [
       "   Postal Code      Borough                                      Neighbourhood\n",
       "0          M1B  Scarborough                                     Malvern, Rouge\n",
       "1          M1C  Scarborough             Rouge Hill, Port Union, Highland Creek\n",
       "2          M1E  Scarborough                  Guildwood, Morningside, West Hill\n",
       "3          M1G  Scarborough                                             Woburn\n",
       "4          M1H  Scarborough                                          Cedarbrae\n",
       "5          M1J  Scarborough                                Scarborough Village\n",
       "6          M1K  Scarborough        Kennedy Park, Ionview, East Birchmount Park\n",
       "7          M1L  Scarborough                    Golden Mile, Clairlea, Oakridge\n",
       "8          M1M  Scarborough    Cliffside, Cliffcrest, Scarborough Village West\n",
       "9          M1N  Scarborough                        Birch Cliff, Cliffside West\n",
       "10         M1P  Scarborough  Dorset Park, Wexford Heights, Scarborough Town...\n",
       "11         M1R  Scarborough                                  Wexford, Maryvale\n",
       "12         M1S  Scarborough                                          Agincourt\n",
       "13         M1T  Scarborough            Clarks Corners, Tam O'Shanter, Sullivan\n",
       "14         M1V  Scarborough  Milliken, Agincourt North, Steeles East, L'Amo...\n",
       "15         M1W  Scarborough                      Steeles West, L'Amoreaux West\n",
       "16         M1X  Scarborough                                        Upper Rouge\n",
       "17         M2H   North York                                  Hillcrest Village\n",
       "18         M2J   North York                       Fairview, Henry Farm, Oriole\n",
       "19         M2K   North York                                    Bayview Village"
      ],
      "text/html": "<div>\n<style scoped>\n    .dataframe tbody tr th:only-of-type {\n        vertical-align: middle;\n    }\n\n    .dataframe tbody tr th {\n        vertical-align: top;\n    }\n\n    .dataframe thead th {\n        text-align: right;\n    }\n</style>\n<table border=\"1\" class=\"dataframe\">\n  <thead>\n    <tr style=\"text-align: right;\">\n      <th></th>\n      <th>Postal Code</th>\n      <th>Borough</th>\n      <th>Neighbourhood</th>\n    </tr>\n  </thead>\n  <tbody>\n    <tr>\n      <th>0</th>\n      <td>M1B</td>\n      <td>Scarborough</td>\n      <td>Malvern, Rouge</td>\n    </tr>\n    <tr>\n      <th>1</th>\n      <td>M1C</td>\n      <td>Scarborough</td>\n      <td>Rouge Hill, Port Union, Highland Creek</td>\n    </tr>\n    <tr>\n      <th>2</th>\n      <td>M1E</td>\n      <td>Scarborough</td>\n      <td>Guildwood, Morningside, West Hill</td>\n    </tr>\n    <tr>\n      <th>3</th>\n      <td>M1G</td>\n      <td>Scarborough</td>\n      <td>Woburn</td>\n    </tr>\n    <tr>\n      <th>4</th>\n      <td>M1H</td>\n      <td>Scarborough</td>\n      <td>Cedarbrae</td>\n    </tr>\n    <tr>\n      <th>5</th>\n      <td>M1J</td>\n      <td>Scarborough</td>\n      <td>Scarborough Village</td>\n    </tr>\n    <tr>\n      <th>6</th>\n      <td>M1K</td>\n      <td>Scarborough</td>\n      <td>Kennedy Park, Ionview, East Birchmount Park</td>\n    </tr>\n    <tr>\n      <th>7</th>\n      <td>M1L</td>\n      <td>Scarborough</td>\n      <td>Golden Mile, Clairlea, Oakridge</td>\n    </tr>\n    <tr>\n      <th>8</th>\n      <td>M1M</td>\n      <td>Scarborough</td>\n      <td>Cliffside, Cliffcrest, Scarborough Village West</td>\n    </tr>\n    <tr>\n      <th>9</th>\n      <td>M1N</td>\n      <td>Scarborough</td>\n      <td>Birch Cliff, Cliffside West</td>\n    </tr>\n    <tr>\n      <th>10</th>\n      <td>M1P</td>\n      <td>Scarborough</td>\n      <td>Dorset Park, Wexford Heights, Scarborough Town...</td>\n    </tr>\n    <tr>\n      <th>11</th>\n      <td>M1R</td>\n      <td>Scarborough</td>\n      <td>Wexford, Maryvale</td>\n    </tr>\n    <tr>\n      <th>12</th>\n      <td>M1S</td>\n      <td>Scarborough</td>\n      <td>Agincourt</td>\n    </tr>\n    <tr>\n      <th>13</th>\n      <td>M1T</td>\n      <td>Scarborough</td>\n      <td>Clarks Corners, Tam O'Shanter, Sullivan</td>\n    </tr>\n    <tr>\n      <th>14</th>\n      <td>M1V</td>\n      <td>Scarborough</td>\n      <td>Milliken, Agincourt North, Steeles East, L'Amo...</td>\n    </tr>\n    <tr>\n      <th>15</th>\n      <td>M1W</td>\n      <td>Scarborough</td>\n      <td>Steeles West, L'Amoreaux West</td>\n    </tr>\n    <tr>\n      <th>16</th>\n      <td>M1X</td>\n      <td>Scarborough</td>\n      <td>Upper Rouge</td>\n    </tr>\n    <tr>\n      <th>17</th>\n      <td>M2H</td>\n      <td>North York</td>\n      <td>Hillcrest Village</td>\n    </tr>\n    <tr>\n      <th>18</th>\n      <td>M2J</td>\n      <td>North York</td>\n      <td>Fairview, Henry Farm, Oriole</td>\n    </tr>\n    <tr>\n      <th>19</th>\n      <td>M2K</td>\n      <td>North York</td>\n      <td>Bayview Village</td>\n    </tr>\n  </tbody>\n</table>\n</div>"
     },
     "metadata": {},
     "execution_count": 461
    }
   ],
   "source": [
    "print('We group Neighbourhoods with the same Postal Code')\n",
    "table = table.groupby(['Postal Code', 'Borough'])['Neighbourhood'].apply(lambda x: \"%s\" % ', '.join(x))\n",
    "table = table.reset_index()\n",
    "table.head(20)"
   ]
  },
  {
   "cell_type": "code",
   "execution_count": 462,
   "metadata": {},
   "outputs": [
    {
     "output_type": "stream",
     "name": "stdout",
     "text": [
      "We replace the \"Not Assigned\" to \"Queen´s Park\" in Neighborhood\n"
     ]
    },
    {
     "output_type": "execute_result",
     "data": {
      "text/plain": [
       "  Postal Code      Borough                           Neighbourhood\n",
       "0         M1B  Scarborough                          Malvern, Rouge\n",
       "1         M1C  Scarborough  Rouge Hill, Port Union, Highland Creek\n",
       "2         M1E  Scarborough       Guildwood, Morningside, West Hill\n",
       "3         M1G  Scarborough                                  Woburn\n",
       "4         M1H  Scarborough                               Cedarbrae"
      ],
      "text/html": "<div>\n<style scoped>\n    .dataframe tbody tr th:only-of-type {\n        vertical-align: middle;\n    }\n\n    .dataframe tbody tr th {\n        vertical-align: top;\n    }\n\n    .dataframe thead th {\n        text-align: right;\n    }\n</style>\n<table border=\"1\" class=\"dataframe\">\n  <thead>\n    <tr style=\"text-align: right;\">\n      <th></th>\n      <th>Postal Code</th>\n      <th>Borough</th>\n      <th>Neighbourhood</th>\n    </tr>\n  </thead>\n  <tbody>\n    <tr>\n      <th>0</th>\n      <td>M1B</td>\n      <td>Scarborough</td>\n      <td>Malvern, Rouge</td>\n    </tr>\n    <tr>\n      <th>1</th>\n      <td>M1C</td>\n      <td>Scarborough</td>\n      <td>Rouge Hill, Port Union, Highland Creek</td>\n    </tr>\n    <tr>\n      <th>2</th>\n      <td>M1E</td>\n      <td>Scarborough</td>\n      <td>Guildwood, Morningside, West Hill</td>\n    </tr>\n    <tr>\n      <th>3</th>\n      <td>M1G</td>\n      <td>Scarborough</td>\n      <td>Woburn</td>\n    </tr>\n    <tr>\n      <th>4</th>\n      <td>M1H</td>\n      <td>Scarborough</td>\n      <td>Cedarbrae</td>\n    </tr>\n  </tbody>\n</table>\n</div>"
     },
     "metadata": {},
     "execution_count": 462
    }
   ],
   "source": [
    "print('We replace the \"Not Assigned\" to \"Queen´s Park\" in Neighborhood')\n",
    "table = table.replace({'Not assigned' : \"Queen's Park\"}) \n",
    "table.rename(columns={\"Postcode\": \"PostalCode\"}, inplace=True)\n",
    "table.head()"
   ]
  },
  {
   "cell_type": "code",
   "execution_count": 463,
   "metadata": {},
   "outputs": [
    {
     "output_type": "stream",
     "name": "stdout",
     "text": [
      "The shape of the new table is:\n"
     ]
    },
    {
     "output_type": "execute_result",
     "data": {
      "text/plain": [
       "(103, 3)"
      ]
     },
     "metadata": {},
     "execution_count": 463
    }
   ],
   "source": [
    "print('The shape of the new table is:')\n",
    "table.shape"
   ]
  },
  {
   "source": [
    "## Second Part of the Assignment"
   ],
   "cell_type": "markdown",
   "metadata": {}
  },
  {
   "cell_type": "code",
   "execution_count": 464,
   "metadata": {},
   "outputs": [
    {
     "output_type": "execute_result",
     "data": {
      "text/plain": [
       "  Postal Code   Latitude  Longitude\n",
       "0         M1B  43.806686 -79.194353\n",
       "1         M1C  43.784535 -79.160497\n",
       "2         M1E  43.763573 -79.188711\n",
       "3         M1G  43.770992 -79.216917\n",
       "4         M1H  43.773136 -79.239476"
      ],
      "text/html": "<div>\n<style scoped>\n    .dataframe tbody tr th:only-of-type {\n        vertical-align: middle;\n    }\n\n    .dataframe tbody tr th {\n        vertical-align: top;\n    }\n\n    .dataframe thead th {\n        text-align: right;\n    }\n</style>\n<table border=\"1\" class=\"dataframe\">\n  <thead>\n    <tr style=\"text-align: right;\">\n      <th></th>\n      <th>Postal Code</th>\n      <th>Latitude</th>\n      <th>Longitude</th>\n    </tr>\n  </thead>\n  <tbody>\n    <tr>\n      <th>0</th>\n      <td>M1B</td>\n      <td>43.806686</td>\n      <td>-79.194353</td>\n    </tr>\n    <tr>\n      <th>1</th>\n      <td>M1C</td>\n      <td>43.784535</td>\n      <td>-79.160497</td>\n    </tr>\n    <tr>\n      <th>2</th>\n      <td>M1E</td>\n      <td>43.763573</td>\n      <td>-79.188711</td>\n    </tr>\n    <tr>\n      <th>3</th>\n      <td>M1G</td>\n      <td>43.770992</td>\n      <td>-79.216917</td>\n    </tr>\n    <tr>\n      <th>4</th>\n      <td>M1H</td>\n      <td>43.773136</td>\n      <td>-79.239476</td>\n    </tr>\n  </tbody>\n</table>\n</div>"
     },
     "metadata": {},
     "execution_count": 464
    }
   ],
   "source": [
    "lat_lon = pd.read_csv('https://cocl.us/Geospatial_data')\n",
    "lat_lon.head()\n"
   ]
  },
  {
   "cell_type": "code",
   "execution_count": 465,
   "metadata": {},
   "outputs": [
    {
     "output_type": "execute_result",
     "data": {
      "text/plain": [
       "  Postal Code      Borough                           Neighbourhood   Latitude  \\\n",
       "0         M1B  Scarborough                          Malvern, Rouge  43.806686   \n",
       "1         M1C  Scarborough  Rouge Hill, Port Union, Highland Creek  43.784535   \n",
       "2         M1E  Scarborough       Guildwood, Morningside, West Hill  43.763573   \n",
       "3         M1G  Scarborough                                  Woburn  43.770992   \n",
       "4         M1H  Scarborough                               Cedarbrae  43.773136   \n",
       "\n",
       "   Longitude  \n",
       "0 -79.194353  \n",
       "1 -79.160497  \n",
       "2 -79.188711  \n",
       "3 -79.216917  \n",
       "4 -79.239476  "
      ],
      "text/html": "<div>\n<style scoped>\n    .dataframe tbody tr th:only-of-type {\n        vertical-align: middle;\n    }\n\n    .dataframe tbody tr th {\n        vertical-align: top;\n    }\n\n    .dataframe thead th {\n        text-align: right;\n    }\n</style>\n<table border=\"1\" class=\"dataframe\">\n  <thead>\n    <tr style=\"text-align: right;\">\n      <th></th>\n      <th>Postal Code</th>\n      <th>Borough</th>\n      <th>Neighbourhood</th>\n      <th>Latitude</th>\n      <th>Longitude</th>\n    </tr>\n  </thead>\n  <tbody>\n    <tr>\n      <th>0</th>\n      <td>M1B</td>\n      <td>Scarborough</td>\n      <td>Malvern, Rouge</td>\n      <td>43.806686</td>\n      <td>-79.194353</td>\n    </tr>\n    <tr>\n      <th>1</th>\n      <td>M1C</td>\n      <td>Scarborough</td>\n      <td>Rouge Hill, Port Union, Highland Creek</td>\n      <td>43.784535</td>\n      <td>-79.160497</td>\n    </tr>\n    <tr>\n      <th>2</th>\n      <td>M1E</td>\n      <td>Scarborough</td>\n      <td>Guildwood, Morningside, West Hill</td>\n      <td>43.763573</td>\n      <td>-79.188711</td>\n    </tr>\n    <tr>\n      <th>3</th>\n      <td>M1G</td>\n      <td>Scarborough</td>\n      <td>Woburn</td>\n      <td>43.770992</td>\n      <td>-79.216917</td>\n    </tr>\n    <tr>\n      <th>4</th>\n      <td>M1H</td>\n      <td>Scarborough</td>\n      <td>Cedarbrae</td>\n      <td>43.773136</td>\n      <td>-79.239476</td>\n    </tr>\n  </tbody>\n</table>\n</div>"
     },
     "metadata": {},
     "execution_count": 465
    }
   ],
   "source": [
    "lat_lon_list = pd.merge(table,lat_lon,on='Postal Code')\n",
    "lat_lon_list.head()"
   ]
  },
  {
   "source": [
    "## Third Part of the Assignment"
   ],
   "cell_type": "markdown",
   "metadata": {}
  },
  {
   "source": [
    "#### Setting the location on Toronto"
   ],
   "cell_type": "markdown",
   "metadata": {}
  },
  {
   "source": [
    "Find the location of: Toronto"
   ],
   "cell_type": "markdown",
   "metadata": {}
  },
  {
   "cell_type": "code",
   "execution_count": 466,
   "metadata": {},
   "outputs": [
    {
     "output_type": "stream",
     "name": "stdout",
     "text": [
      "The geograpical coordinate of Toronto are 43.6534817, -79.3839347.\n"
     ]
    }
   ],
   "source": [
    "address = 'Toronto'\n",
    "\n",
    "geolocator = Nominatim(user_agent=\"ny_explorer\")\n",
    "location = geolocator.geocode(address)\n",
    "latitude = location.latitude\n",
    "longitude = location.longitude\n",
    "print('The geograpical coordinate of Toronto are {}, {}.'.format(latitude, longitude))"
   ]
  },
  {
   "cell_type": "code",
   "execution_count": 467,
   "metadata": {},
   "outputs": [
    {
     "output_type": "stream",
     "name": "stdout",
     "text": [
      "Visualize the neighborhood of Toronto\n"
     ]
    },
    {
     "output_type": "execute_result",
     "data": {
      "text/plain": [
       "<folium.folium.Map at 0x1a91b6785b0>"
      ],
      "text/html": "<div style=\"width:100%;\"><div style=\"position:relative;width:100%;height:0;padding-bottom:60%;\"><span style=\"color:#565656\">Make this Notebook Trusted to load map: File -> Trust Notebook</span><iframe src=\"about:blank\" style=\"position:absolute;width:100%;height:100%;left:0;top:0;border:none !important;\" data-html=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 onload=\"this.contentDocument.open();this.contentDocument.write(atob(this.getAttribute('data-html')));this.contentDocument.close();\" allowfullscreen webkitallowfullscreen mozallowfullscreen></iframe></div></div>"
     },
     "metadata": {},
     "execution_count": 467
    }
   ],
   "source": [
    "print('Visualize the neighborhood of Toronto')\n",
    "map_toronto = folium.Map(location=[latitude, longitude], zoom_start=11)\n",
    "\n",
    "# add markers to map\n",
    "for lat, lng, label in zip(ta['Latitude'], ta['Longitude'], ta['Neighborhood']):\n",
    "    label = folium.Popup(label, parse_html=True)\n",
    "    folium.CircleMarker(\n",
    "        [lat, lng],\n",
    "        radius=5,\n",
    "        popup=label,\n",
    "        color='blue',\n",
    "        fill=True,\n",
    "        fill_color='#3186cc',\n",
    "        fill_opacity=0.7,\n",
    "        parse_html=False).add_to(map_toronto)  \n",
    "    \n",
    "map_toronto"
   ]
  },
  {
   "cell_type": "code",
   "execution_count": 468,
   "metadata": {},
   "outputs": [
    {
     "output_type": "stream",
     "name": "stdout",
     "text": [
      "The credentials of Foursquare are succesfully uploaded\n"
     ]
    }
   ],
   "source": [
    "print('The credentials of Foursquare are succesfully uploaded')\n",
    "CLIENT_ID = 'VMMI5O32REHM4WANU2TGS2WES3NKUKYDSKVFX3URVLHTVGJP' # your Foursquare ID\n",
    "CLIENT_SECRET = 'P50THBFK4CC0GZA2QBRD5CUNDAT5AX1IHF0MLSKJTNONGUSV' # your Foursquare Secret\n",
    "VERSION = '20180605' # Foursquare API version"
   ]
  },
  {
   "cell_type": "code",
   "execution_count": 469,
   "metadata": {},
   "outputs": [
    {
     "output_type": "stream",
     "name": "stdout",
     "text": [
      "We start with the first Neighborhood\n"
     ]
    },
    {
     "output_type": "error",
     "ename": "KeyError",
     "evalue": "'Neighbourhood'",
     "traceback": [
      "\u001b[1;31m---------------------------------------------------------------------------\u001b[0m",
      "\u001b[1;31mKeyError\u001b[0m                                  Traceback (most recent call last)",
      "\u001b[1;32m~\\AppData\\Local\\Packages\\PythonSoftwareFoundation.Python.3.8_qbz5n2kfra8p0\\LocalCache\\local-packages\\Python38\\site-packages\\pandas\\core\\indexes\\base.py\u001b[0m in \u001b[0;36mget_loc\u001b[1;34m(self, key, method, tolerance)\u001b[0m\n\u001b[0;32m   2890\u001b[0m             \u001b[1;32mtry\u001b[0m\u001b[1;33m:\u001b[0m\u001b[1;33m\u001b[0m\u001b[1;33m\u001b[0m\u001b[0m\n\u001b[1;32m-> 2891\u001b[1;33m                 \u001b[1;32mreturn\u001b[0m \u001b[0mself\u001b[0m\u001b[1;33m.\u001b[0m\u001b[0m_engine\u001b[0m\u001b[1;33m.\u001b[0m\u001b[0mget_loc\u001b[0m\u001b[1;33m(\u001b[0m\u001b[0mcasted_key\u001b[0m\u001b[1;33m)\u001b[0m\u001b[1;33m\u001b[0m\u001b[1;33m\u001b[0m\u001b[0m\n\u001b[0m\u001b[0;32m   2892\u001b[0m             \u001b[1;32mexcept\u001b[0m \u001b[0mKeyError\u001b[0m \u001b[1;32mas\u001b[0m \u001b[0merr\u001b[0m\u001b[1;33m:\u001b[0m\u001b[1;33m\u001b[0m\u001b[1;33m\u001b[0m\u001b[0m\n",
      "\u001b[1;32mpandas\\_libs\\index.pyx\u001b[0m in \u001b[0;36mpandas._libs.index.IndexEngine.get_loc\u001b[1;34m()\u001b[0m\n",
      "\u001b[1;32mpandas\\_libs\\index.pyx\u001b[0m in \u001b[0;36mpandas._libs.index.IndexEngine.get_loc\u001b[1;34m()\u001b[0m\n",
      "\u001b[1;32mpandas\\_libs\\index.pyx\u001b[0m in \u001b[0;36mpandas._libs.index.IndexEngine._get_loc_duplicates\u001b[1;34m()\u001b[0m\n",
      "\u001b[1;32mpandas\\_libs\\index.pyx\u001b[0m in \u001b[0;36mpandas._libs.index.IndexEngine._maybe_get_bool_indexer\u001b[1;34m()\u001b[0m\n",
      "\u001b[1;32mpandas\\_libs\\index.pyx\u001b[0m in \u001b[0;36mpandas._libs.index.IndexEngine._unpack_bool_indexer\u001b[1;34m()\u001b[0m\n",
      "\u001b[1;31mKeyError\u001b[0m: 'Neighbourhood'",
      "\nThe above exception was the direct cause of the following exception:\n",
      "\u001b[1;31mKeyError\u001b[0m                                  Traceback (most recent call last)",
      "\u001b[1;32m<ipython-input-469-1f278810982e>\u001b[0m in \u001b[0;36m<module>\u001b[1;34m\u001b[0m\n\u001b[0;32m      1\u001b[0m \u001b[0mprint\u001b[0m\u001b[1;33m(\u001b[0m\u001b[1;34m'We start with the first Neighborhood'\u001b[0m\u001b[1;33m)\u001b[0m\u001b[1;33m\u001b[0m\u001b[1;33m\u001b[0m\u001b[0m\n\u001b[1;32m----> 2\u001b[1;33m \u001b[0mta\u001b[0m\u001b[1;33m.\u001b[0m\u001b[0mloc\u001b[0m\u001b[1;33m[\u001b[0m\u001b[1;36m0\u001b[0m\u001b[1;33m,\u001b[0m \u001b[1;34m'Neighbourhood'\u001b[0m\u001b[1;33m]\u001b[0m\u001b[1;33m\u001b[0m\u001b[1;33m\u001b[0m\u001b[0m\n\u001b[0m",
      "\u001b[1;32m~\\AppData\\Local\\Packages\\PythonSoftwareFoundation.Python.3.8_qbz5n2kfra8p0\\LocalCache\\local-packages\\Python38\\site-packages\\pandas\\core\\indexing.py\u001b[0m in \u001b[0;36m__getitem__\u001b[1;34m(self, key)\u001b[0m\n\u001b[0;32m    871\u001b[0m                     \u001b[1;31m# AttributeError for IntervalTree get_value\u001b[0m\u001b[1;33m\u001b[0m\u001b[1;33m\u001b[0m\u001b[1;33m\u001b[0m\u001b[0m\n\u001b[0;32m    872\u001b[0m                     \u001b[1;32mpass\u001b[0m\u001b[1;33m\u001b[0m\u001b[1;33m\u001b[0m\u001b[0m\n\u001b[1;32m--> 873\u001b[1;33m             \u001b[1;32mreturn\u001b[0m \u001b[0mself\u001b[0m\u001b[1;33m.\u001b[0m\u001b[0m_getitem_tuple\u001b[0m\u001b[1;33m(\u001b[0m\u001b[0mkey\u001b[0m\u001b[1;33m)\u001b[0m\u001b[1;33m\u001b[0m\u001b[1;33m\u001b[0m\u001b[0m\n\u001b[0m\u001b[0;32m    874\u001b[0m         \u001b[1;32melse\u001b[0m\u001b[1;33m:\u001b[0m\u001b[1;33m\u001b[0m\u001b[1;33m\u001b[0m\u001b[0m\n\u001b[0;32m    875\u001b[0m             \u001b[1;31m# we by definition only have the 0th axis\u001b[0m\u001b[1;33m\u001b[0m\u001b[1;33m\u001b[0m\u001b[1;33m\u001b[0m\u001b[0m\n",
      "\u001b[1;32m~\\AppData\\Local\\Packages\\PythonSoftwareFoundation.Python.3.8_qbz5n2kfra8p0\\LocalCache\\local-packages\\Python38\\site-packages\\pandas\\core\\indexing.py\u001b[0m in \u001b[0;36m_getitem_tuple\u001b[1;34m(self, tup)\u001b[0m\n\u001b[0;32m   1042\u001b[0m     \u001b[1;32mdef\u001b[0m \u001b[0m_getitem_tuple\u001b[0m\u001b[1;33m(\u001b[0m\u001b[0mself\u001b[0m\u001b[1;33m,\u001b[0m \u001b[0mtup\u001b[0m\u001b[1;33m:\u001b[0m \u001b[0mTuple\u001b[0m\u001b[1;33m)\u001b[0m\u001b[1;33m:\u001b[0m\u001b[1;33m\u001b[0m\u001b[1;33m\u001b[0m\u001b[0m\n\u001b[0;32m   1043\u001b[0m         \u001b[1;32mtry\u001b[0m\u001b[1;33m:\u001b[0m\u001b[1;33m\u001b[0m\u001b[1;33m\u001b[0m\u001b[0m\n\u001b[1;32m-> 1044\u001b[1;33m             \u001b[1;32mreturn\u001b[0m \u001b[0mself\u001b[0m\u001b[1;33m.\u001b[0m\u001b[0m_getitem_lowerdim\u001b[0m\u001b[1;33m(\u001b[0m\u001b[0mtup\u001b[0m\u001b[1;33m)\u001b[0m\u001b[1;33m\u001b[0m\u001b[1;33m\u001b[0m\u001b[0m\n\u001b[0m\u001b[0;32m   1045\u001b[0m         \u001b[1;32mexcept\u001b[0m \u001b[0mIndexingError\u001b[0m\u001b[1;33m:\u001b[0m\u001b[1;33m\u001b[0m\u001b[1;33m\u001b[0m\u001b[0m\n\u001b[0;32m   1046\u001b[0m             \u001b[1;32mpass\u001b[0m\u001b[1;33m\u001b[0m\u001b[1;33m\u001b[0m\u001b[0m\n",
      "\u001b[1;32m~\\AppData\\Local\\Packages\\PythonSoftwareFoundation.Python.3.8_qbz5n2kfra8p0\\LocalCache\\local-packages\\Python38\\site-packages\\pandas\\core\\indexing.py\u001b[0m in \u001b[0;36m_getitem_lowerdim\u001b[1;34m(self, tup)\u001b[0m\n\u001b[0;32m    808\u001b[0m                     \u001b[1;32mreturn\u001b[0m \u001b[0msection\u001b[0m\u001b[1;33m\u001b[0m\u001b[1;33m\u001b[0m\u001b[0m\n\u001b[0;32m    809\u001b[0m                 \u001b[1;31m# This is an elided recursive call to iloc/loc\u001b[0m\u001b[1;33m\u001b[0m\u001b[1;33m\u001b[0m\u001b[1;33m\u001b[0m\u001b[0m\n\u001b[1;32m--> 810\u001b[1;33m                 \u001b[1;32mreturn\u001b[0m \u001b[0mgetattr\u001b[0m\u001b[1;33m(\u001b[0m\u001b[0msection\u001b[0m\u001b[1;33m,\u001b[0m \u001b[0mself\u001b[0m\u001b[1;33m.\u001b[0m\u001b[0mname\u001b[0m\u001b[1;33m)\u001b[0m\u001b[1;33m[\u001b[0m\u001b[0mnew_key\u001b[0m\u001b[1;33m]\u001b[0m\u001b[1;33m\u001b[0m\u001b[1;33m\u001b[0m\u001b[0m\n\u001b[0m\u001b[0;32m    811\u001b[0m \u001b[1;33m\u001b[0m\u001b[0m\n\u001b[0;32m    812\u001b[0m         \u001b[1;32mraise\u001b[0m \u001b[0mIndexingError\u001b[0m\u001b[1;33m(\u001b[0m\u001b[1;34m\"not applicable\"\u001b[0m\u001b[1;33m)\u001b[0m\u001b[1;33m\u001b[0m\u001b[1;33m\u001b[0m\u001b[0m\n",
      "\u001b[1;32m~\\AppData\\Local\\Packages\\PythonSoftwareFoundation.Python.3.8_qbz5n2kfra8p0\\LocalCache\\local-packages\\Python38\\site-packages\\pandas\\core\\indexing.py\u001b[0m in \u001b[0;36m__getitem__\u001b[1;34m(self, key)\u001b[0m\n\u001b[0;32m    877\u001b[0m \u001b[1;33m\u001b[0m\u001b[0m\n\u001b[0;32m    878\u001b[0m             \u001b[0mmaybe_callable\u001b[0m \u001b[1;33m=\u001b[0m \u001b[0mcom\u001b[0m\u001b[1;33m.\u001b[0m\u001b[0mapply_if_callable\u001b[0m\u001b[1;33m(\u001b[0m\u001b[0mkey\u001b[0m\u001b[1;33m,\u001b[0m \u001b[0mself\u001b[0m\u001b[1;33m.\u001b[0m\u001b[0mobj\u001b[0m\u001b[1;33m)\u001b[0m\u001b[1;33m\u001b[0m\u001b[1;33m\u001b[0m\u001b[0m\n\u001b[1;32m--> 879\u001b[1;33m             \u001b[1;32mreturn\u001b[0m \u001b[0mself\u001b[0m\u001b[1;33m.\u001b[0m\u001b[0m_getitem_axis\u001b[0m\u001b[1;33m(\u001b[0m\u001b[0mmaybe_callable\u001b[0m\u001b[1;33m,\u001b[0m \u001b[0maxis\u001b[0m\u001b[1;33m=\u001b[0m\u001b[0maxis\u001b[0m\u001b[1;33m)\u001b[0m\u001b[1;33m\u001b[0m\u001b[1;33m\u001b[0m\u001b[0m\n\u001b[0m\u001b[0;32m    880\u001b[0m \u001b[1;33m\u001b[0m\u001b[0m\n\u001b[0;32m    881\u001b[0m     \u001b[1;32mdef\u001b[0m \u001b[0m_is_scalar_access\u001b[0m\u001b[1;33m(\u001b[0m\u001b[0mself\u001b[0m\u001b[1;33m,\u001b[0m \u001b[0mkey\u001b[0m\u001b[1;33m:\u001b[0m \u001b[0mTuple\u001b[0m\u001b[1;33m)\u001b[0m\u001b[1;33m:\u001b[0m\u001b[1;33m\u001b[0m\u001b[1;33m\u001b[0m\u001b[0m\n",
      "\u001b[1;32m~\\AppData\\Local\\Packages\\PythonSoftwareFoundation.Python.3.8_qbz5n2kfra8p0\\LocalCache\\local-packages\\Python38\\site-packages\\pandas\\core\\indexing.py\u001b[0m in \u001b[0;36m_getitem_axis\u001b[1;34m(self, key, axis)\u001b[0m\n\u001b[0;32m   1108\u001b[0m         \u001b[1;31m# fall thru to straight lookup\u001b[0m\u001b[1;33m\u001b[0m\u001b[1;33m\u001b[0m\u001b[1;33m\u001b[0m\u001b[0m\n\u001b[0;32m   1109\u001b[0m         \u001b[0mself\u001b[0m\u001b[1;33m.\u001b[0m\u001b[0m_validate_key\u001b[0m\u001b[1;33m(\u001b[0m\u001b[0mkey\u001b[0m\u001b[1;33m,\u001b[0m \u001b[0maxis\u001b[0m\u001b[1;33m)\u001b[0m\u001b[1;33m\u001b[0m\u001b[1;33m\u001b[0m\u001b[0m\n\u001b[1;32m-> 1110\u001b[1;33m         \u001b[1;32mreturn\u001b[0m \u001b[0mself\u001b[0m\u001b[1;33m.\u001b[0m\u001b[0m_get_label\u001b[0m\u001b[1;33m(\u001b[0m\u001b[0mkey\u001b[0m\u001b[1;33m,\u001b[0m \u001b[0maxis\u001b[0m\u001b[1;33m=\u001b[0m\u001b[0maxis\u001b[0m\u001b[1;33m)\u001b[0m\u001b[1;33m\u001b[0m\u001b[1;33m\u001b[0m\u001b[0m\n\u001b[0m\u001b[0;32m   1111\u001b[0m \u001b[1;33m\u001b[0m\u001b[0m\n\u001b[0;32m   1112\u001b[0m     \u001b[1;32mdef\u001b[0m \u001b[0m_get_slice_axis\u001b[0m\u001b[1;33m(\u001b[0m\u001b[0mself\u001b[0m\u001b[1;33m,\u001b[0m \u001b[0mslice_obj\u001b[0m\u001b[1;33m:\u001b[0m \u001b[0mslice\u001b[0m\u001b[1;33m,\u001b[0m \u001b[0maxis\u001b[0m\u001b[1;33m:\u001b[0m \u001b[0mint\u001b[0m\u001b[1;33m)\u001b[0m\u001b[1;33m:\u001b[0m\u001b[1;33m\u001b[0m\u001b[1;33m\u001b[0m\u001b[0m\n",
      "\u001b[1;32m~\\AppData\\Local\\Packages\\PythonSoftwareFoundation.Python.3.8_qbz5n2kfra8p0\\LocalCache\\local-packages\\Python38\\site-packages\\pandas\\core\\indexing.py\u001b[0m in \u001b[0;36m_get_label\u001b[1;34m(self, label, axis)\u001b[0m\n\u001b[0;32m   1057\u001b[0m     \u001b[1;32mdef\u001b[0m \u001b[0m_get_label\u001b[0m\u001b[1;33m(\u001b[0m\u001b[0mself\u001b[0m\u001b[1;33m,\u001b[0m \u001b[0mlabel\u001b[0m\u001b[1;33m,\u001b[0m \u001b[0maxis\u001b[0m\u001b[1;33m:\u001b[0m \u001b[0mint\u001b[0m\u001b[1;33m)\u001b[0m\u001b[1;33m:\u001b[0m\u001b[1;33m\u001b[0m\u001b[1;33m\u001b[0m\u001b[0m\n\u001b[0;32m   1058\u001b[0m         \u001b[1;31m# GH#5667 this will fail if the label is not present in the axis.\u001b[0m\u001b[1;33m\u001b[0m\u001b[1;33m\u001b[0m\u001b[1;33m\u001b[0m\u001b[0m\n\u001b[1;32m-> 1059\u001b[1;33m         \u001b[1;32mreturn\u001b[0m \u001b[0mself\u001b[0m\u001b[1;33m.\u001b[0m\u001b[0mobj\u001b[0m\u001b[1;33m.\u001b[0m\u001b[0mxs\u001b[0m\u001b[1;33m(\u001b[0m\u001b[0mlabel\u001b[0m\u001b[1;33m,\u001b[0m \u001b[0maxis\u001b[0m\u001b[1;33m=\u001b[0m\u001b[0maxis\u001b[0m\u001b[1;33m)\u001b[0m\u001b[1;33m\u001b[0m\u001b[1;33m\u001b[0m\u001b[0m\n\u001b[0m\u001b[0;32m   1060\u001b[0m \u001b[1;33m\u001b[0m\u001b[0m\n\u001b[0;32m   1061\u001b[0m     \u001b[1;32mdef\u001b[0m \u001b[0m_handle_lowerdim_multi_index_axis0\u001b[0m\u001b[1;33m(\u001b[0m\u001b[0mself\u001b[0m\u001b[1;33m,\u001b[0m \u001b[0mtup\u001b[0m\u001b[1;33m:\u001b[0m \u001b[0mTuple\u001b[0m\u001b[1;33m)\u001b[0m\u001b[1;33m:\u001b[0m\u001b[1;33m\u001b[0m\u001b[1;33m\u001b[0m\u001b[0m\n",
      "\u001b[1;32m~\\AppData\\Local\\Packages\\PythonSoftwareFoundation.Python.3.8_qbz5n2kfra8p0\\LocalCache\\local-packages\\Python38\\site-packages\\pandas\\core\\generic.py\u001b[0m in \u001b[0;36mxs\u001b[1;34m(self, key, axis, level, drop_level)\u001b[0m\n\u001b[0;32m   3486\u001b[0m             \u001b[0mloc\u001b[0m\u001b[1;33m,\u001b[0m \u001b[0mnew_index\u001b[0m \u001b[1;33m=\u001b[0m \u001b[0mself\u001b[0m\u001b[1;33m.\u001b[0m\u001b[0mindex\u001b[0m\u001b[1;33m.\u001b[0m\u001b[0mget_loc_level\u001b[0m\u001b[1;33m(\u001b[0m\u001b[0mkey\u001b[0m\u001b[1;33m,\u001b[0m \u001b[0mdrop_level\u001b[0m\u001b[1;33m=\u001b[0m\u001b[0mdrop_level\u001b[0m\u001b[1;33m)\u001b[0m\u001b[1;33m\u001b[0m\u001b[1;33m\u001b[0m\u001b[0m\n\u001b[0;32m   3487\u001b[0m         \u001b[1;32melse\u001b[0m\u001b[1;33m:\u001b[0m\u001b[1;33m\u001b[0m\u001b[1;33m\u001b[0m\u001b[0m\n\u001b[1;32m-> 3488\u001b[1;33m             \u001b[0mloc\u001b[0m \u001b[1;33m=\u001b[0m \u001b[0mself\u001b[0m\u001b[1;33m.\u001b[0m\u001b[0mindex\u001b[0m\u001b[1;33m.\u001b[0m\u001b[0mget_loc\u001b[0m\u001b[1;33m(\u001b[0m\u001b[0mkey\u001b[0m\u001b[1;33m)\u001b[0m\u001b[1;33m\u001b[0m\u001b[1;33m\u001b[0m\u001b[0m\n\u001b[0m\u001b[0;32m   3489\u001b[0m \u001b[1;33m\u001b[0m\u001b[0m\n\u001b[0;32m   3490\u001b[0m             \u001b[1;32mif\u001b[0m \u001b[0misinstance\u001b[0m\u001b[1;33m(\u001b[0m\u001b[0mloc\u001b[0m\u001b[1;33m,\u001b[0m \u001b[0mnp\u001b[0m\u001b[1;33m.\u001b[0m\u001b[0mndarray\u001b[0m\u001b[1;33m)\u001b[0m\u001b[1;33m:\u001b[0m\u001b[1;33m\u001b[0m\u001b[1;33m\u001b[0m\u001b[0m\n",
      "\u001b[1;32m~\\AppData\\Local\\Packages\\PythonSoftwareFoundation.Python.3.8_qbz5n2kfra8p0\\LocalCache\\local-packages\\Python38\\site-packages\\pandas\\core\\indexes\\base.py\u001b[0m in \u001b[0;36mget_loc\u001b[1;34m(self, key, method, tolerance)\u001b[0m\n\u001b[0;32m   2891\u001b[0m                 \u001b[1;32mreturn\u001b[0m \u001b[0mself\u001b[0m\u001b[1;33m.\u001b[0m\u001b[0m_engine\u001b[0m\u001b[1;33m.\u001b[0m\u001b[0mget_loc\u001b[0m\u001b[1;33m(\u001b[0m\u001b[0mcasted_key\u001b[0m\u001b[1;33m)\u001b[0m\u001b[1;33m\u001b[0m\u001b[1;33m\u001b[0m\u001b[0m\n\u001b[0;32m   2892\u001b[0m             \u001b[1;32mexcept\u001b[0m \u001b[0mKeyError\u001b[0m \u001b[1;32mas\u001b[0m \u001b[0merr\u001b[0m\u001b[1;33m:\u001b[0m\u001b[1;33m\u001b[0m\u001b[1;33m\u001b[0m\u001b[0m\n\u001b[1;32m-> 2893\u001b[1;33m                 \u001b[1;32mraise\u001b[0m \u001b[0mKeyError\u001b[0m\u001b[1;33m(\u001b[0m\u001b[0mkey\u001b[0m\u001b[1;33m)\u001b[0m \u001b[1;32mfrom\u001b[0m \u001b[0merr\u001b[0m\u001b[1;33m\u001b[0m\u001b[1;33m\u001b[0m\u001b[0m\n\u001b[0m\u001b[0;32m   2894\u001b[0m \u001b[1;33m\u001b[0m\u001b[0m\n\u001b[0;32m   2895\u001b[0m         \u001b[1;32mif\u001b[0m \u001b[0mtolerance\u001b[0m \u001b[1;32mis\u001b[0m \u001b[1;32mnot\u001b[0m \u001b[1;32mNone\u001b[0m\u001b[1;33m:\u001b[0m\u001b[1;33m\u001b[0m\u001b[1;33m\u001b[0m\u001b[0m\n",
      "\u001b[1;31mKeyError\u001b[0m: 'Neighbourhood'"
     ]
    }
   ],
   "source": [
    "print('We start with the first Neighborhood')\n",
    "ta.loc[0, 'Neighbourhood']"
   ]
  },
  {
   "source": [
    "We get all its data"
   ],
   "cell_type": "markdown",
   "metadata": {}
  },
  {
   "cell_type": "code",
   "execution_count": 422,
   "metadata": {},
   "outputs": [
    {
     "output_type": "stream",
     "name": "stdout",
     "text": [
      "Latitude and longitude values of Malvern, Rouge are 43.806686299999996, -79.19435340000001.\n"
     ]
    }
   ],
   "source": [
    "neighborhood_latitude = ta.loc[0, 'Latitude'] # neighborhood latitude value\n",
    "neighborhood_longitude = ta.loc[0, 'Longitude'] # neighborhood longitude value\n",
    "\n",
    "neighborhood_name = ta.loc[0, 'Neighbourhood'] # neighborhood name\n",
    "\n",
    "print('Latitude and longitude values of {} are {}, {}.'.format(neighborhood_name, neighborhood_latitude, neighborhood_longitude))"
   ]
  },
  {
   "source": [
    "#### Getting the Venues"
   ],
   "cell_type": "markdown",
   "metadata": {}
  },
  {
   "source": [
    "We get the top 100 venues that are in this Neighborhood within a radius of 500 meters."
   ],
   "cell_type": "markdown",
   "metadata": {}
  },
  {
   "cell_type": "code",
   "execution_count": 423,
   "metadata": {},
   "outputs": [
    {
     "output_type": "execute_result",
     "data": {
      "text/plain": [
       "'https://api.foursquare.com/v2/venues/explore?&client_id=VMMI5O32REHM4WANU2TGS2WES3NKUKYDSKVFX3URVLHTVGJP&client_secret=P50THBFK4CC0GZA2QBRD5CUNDAT5AX1IHF0MLSKJTNONGUSV&v=20180605&ll=43.806686299999996,-79.19435340000001&radius=500&limit=100'"
      ]
     },
     "metadata": {},
     "execution_count": 423
    }
   ],
   "source": [
    "limit = 100\n",
    "radius = 500\n",
    "\n",
    "url = 'https://api.foursquare.com/v2/venues/explore?&client_id={}&client_secret={}&v={}&ll={},{}&radius={}&limit={}'.format(\n",
    "    CLIENT_ID, \n",
    "    CLIENT_SECRET, \n",
    "    VERSION, \n",
    "    neighborhood_latitude,\n",
    "    neighborhood_longitude,\n",
    "    radius,\n",
    "    limit)\n",
    "url"
   ]
  },
  {
   "cell_type": "code",
   "execution_count": 424,
   "metadata": {},
   "outputs": [
    {
     "output_type": "execute_result",
     "data": {
      "text/plain": [
       "{'meta': {'code': 429,\n",
       "  'errorType': 'quota_exceeded',\n",
       "  'errorDetail': 'Quota exceeded',\n",
       "  'requestId': '5fb81c14e2d2433c210a47dd'},\n",
       " 'response': {}}"
      ]
     },
     "metadata": {},
     "execution_count": 424
    }
   ],
   "source": [
    "results = requests.get(url).json()\n",
    "results"
   ]
  },
  {
   "source": [
    "We define a function to process and show the venues"
   ],
   "cell_type": "markdown",
   "metadata": {}
  },
  {
   "cell_type": "code",
   "execution_count": 425,
   "metadata": {},
   "outputs": [],
   "source": [
    "def get_category_type(row):\n",
    "    try:\n",
    "        categories_list = row['categories']\n",
    "    except:\n",
    "        categories_list = row['venue.categories']\n",
    "        \n",
    "    if len(categories_list) == 0:\n",
    "        return None\n",
    "    else:\n",
    "        return categories_list[0]['name']"
   ]
  },
  {
   "cell_type": "code",
   "execution_count": 426,
   "metadata": {},
   "outputs": [
    {
     "output_type": "error",
     "ename": "KeyError",
     "evalue": "'groups'",
     "traceback": [
      "\u001b[1;31m---------------------------------------------------------------------------\u001b[0m",
      "\u001b[1;31mKeyError\u001b[0m                                  Traceback (most recent call last)",
      "\u001b[1;32m<ipython-input-426-561c05f0fdd1>\u001b[0m in \u001b[0;36m<module>\u001b[1;34m\u001b[0m\n\u001b[1;32m----> 1\u001b[1;33m \u001b[0mvenues\u001b[0m \u001b[1;33m=\u001b[0m \u001b[0mresults\u001b[0m\u001b[1;33m[\u001b[0m\u001b[1;34m'response'\u001b[0m\u001b[1;33m]\u001b[0m\u001b[1;33m[\u001b[0m\u001b[1;34m'groups'\u001b[0m\u001b[1;33m]\u001b[0m\u001b[1;33m[\u001b[0m\u001b[1;36m0\u001b[0m\u001b[1;33m]\u001b[0m\u001b[1;33m[\u001b[0m\u001b[1;34m'items'\u001b[0m\u001b[1;33m]\u001b[0m\u001b[1;33m\u001b[0m\u001b[1;33m\u001b[0m\u001b[0m\n\u001b[0m\u001b[0;32m      2\u001b[0m \u001b[1;33m\u001b[0m\u001b[0m\n\u001b[0;32m      3\u001b[0m \u001b[0mnearby_venues\u001b[0m \u001b[1;33m=\u001b[0m \u001b[0mjson_normalize\u001b[0m\u001b[1;33m(\u001b[0m\u001b[0mvenues\u001b[0m\u001b[1;33m)\u001b[0m \u001b[1;31m# flatten JSON\u001b[0m\u001b[1;33m\u001b[0m\u001b[1;33m\u001b[0m\u001b[0m\n\u001b[0;32m      4\u001b[0m \u001b[1;33m\u001b[0m\u001b[0m\n\u001b[0;32m      5\u001b[0m \u001b[1;31m# filter columns\u001b[0m\u001b[1;33m\u001b[0m\u001b[1;33m\u001b[0m\u001b[1;33m\u001b[0m\u001b[0m\n",
      "\u001b[1;31mKeyError\u001b[0m: 'groups'"
     ]
    }
   ],
   "source": [
    "venues = results['response']['groups'][0]['items']\n",
    "    \n",
    "nearby_venues = json_normalize(venues) # flatten JSON\n",
    "\n",
    "# filter columns\n",
    "filtered_columns = ['venue.name', 'venue.categories', 'venue.location.lat', 'venue.location.lng']\n",
    "nearby_venues =nearby_venues.loc[:, filtered_columns]\n",
    "\n",
    "# filter the category for each row\n",
    "nearby_venues['venue.categories'] = nearby_venues.apply(get_category_type, axis=1)\n",
    "\n",
    "# clean columns\n",
    "nearby_venues.columns = [col.split(\".\")[-1] for col in nearby_venues.columns]\n",
    "\n",
    "nearby_venues.head()"
   ]
  },
  {
   "cell_type": "code",
   "execution_count": 332,
   "metadata": {},
   "outputs": [
    {
     "output_type": "stream",
     "name": "stdout",
     "text": [
      "1 venue/s were returned by Foursquare.\n"
     ]
    }
   ],
   "source": [
    "print('{} venue/s were returned by Foursquare.'.format(nearby_venues.shape[0]))"
   ]
  },
  {
   "source": [
    "We define a function to explore the neighborhood of Toronto"
   ],
   "cell_type": "markdown",
   "metadata": {}
  },
  {
   "cell_type": "code",
   "execution_count": 333,
   "metadata": {},
   "outputs": [
    {
     "output_type": "stream",
     "name": "stdout",
     "text": [
      "And we execute it:\n",
      "Malvern, Rouge\n",
      "Rouge Hill, Port Union, Highland Creek\n",
      "Guildwood, Morningside, West Hill\n",
      "Woburn\n",
      "Cedarbrae\n",
      "Scarborough Village\n",
      "Kennedy Park, Ionview, East Birchmount Park\n",
      "Golden Mile, Clairlea, Oakridge\n",
      "Cliffside, Cliffcrest, Scarborough Village West\n",
      "Birch Cliff, Cliffside West\n",
      "Dorset Park, Wexford Heights, Scarborough Town Centre\n",
      "Wexford, Maryvale\n",
      "Agincourt\n",
      "Clarks Corners, Tam O'Shanter, Sullivan\n",
      "Milliken, Agincourt North, Steeles East, L'Amoreaux East\n",
      "Steeles West, L'Amoreaux West\n",
      "Upper Rouge\n",
      "Hillcrest Village\n",
      "Fairview, Henry Farm, Oriole\n",
      "Bayview Village\n",
      "York Mills, Silver Hills\n",
      "Willowdale, Newtonbrook\n",
      "Willowdale, Willowdale East\n",
      "York Mills West\n",
      "Willowdale, Willowdale West\n",
      "Parkwoods\n",
      "Don Mills\n",
      "Don Mills\n",
      "Bathurst Manor, Wilson Heights, Downsview North\n",
      "Northwood Park, York University\n",
      "Downsview\n",
      "Downsview\n",
      "Downsview\n",
      "Downsview\n",
      "Victoria Village\n",
      "Parkview Hill, Woodbine Gardens\n",
      "Woodbine Heights\n",
      "The Beaches\n",
      "Leaside\n",
      "Thorncliffe Park\n"
     ]
    },
    {
     "output_type": "error",
     "ename": "KeyError",
     "evalue": "'groups'",
     "traceback": [
      "\u001b[1;31m---------------------------------------------------------------------------\u001b[0m",
      "\u001b[1;31mKeyError\u001b[0m                                  Traceback (most recent call last)",
      "\u001b[1;32m<ipython-input-333-df906658c54a>\u001b[0m in \u001b[0;36m<module>\u001b[1;34m\u001b[0m\n\u001b[0;32m     41\u001b[0m \u001b[0mprint\u001b[0m\u001b[1;33m(\u001b[0m\u001b[1;34m'And we execute it:'\u001b[0m\u001b[1;33m)\u001b[0m\u001b[1;33m\u001b[0m\u001b[1;33m\u001b[0m\u001b[0m\n\u001b[0;32m     42\u001b[0m \u001b[1;33m\u001b[0m\u001b[0m\n\u001b[1;32m---> 43\u001b[1;33m Toronto_venues = getNearbyVenues(names=ta['Neighbourhood'],\n\u001b[0m\u001b[0;32m     44\u001b[0m                                    \u001b[0mlatitudes\u001b[0m\u001b[1;33m=\u001b[0m\u001b[0mta\u001b[0m\u001b[1;33m[\u001b[0m\u001b[1;34m'Latitude'\u001b[0m\u001b[1;33m]\u001b[0m\u001b[1;33m,\u001b[0m\u001b[1;33m\u001b[0m\u001b[1;33m\u001b[0m\u001b[0m\n\u001b[0;32m     45\u001b[0m                                    \u001b[0mlongitudes\u001b[0m\u001b[1;33m=\u001b[0m\u001b[0mta\u001b[0m\u001b[1;33m[\u001b[0m\u001b[1;34m'Longitude'\u001b[0m\u001b[1;33m]\u001b[0m\u001b[1;33m\u001b[0m\u001b[1;33m\u001b[0m\u001b[0m\n",
      "\u001b[1;32m<ipython-input-333-df906658c54a>\u001b[0m in \u001b[0;36mgetNearbyVenues\u001b[1;34m(names, latitudes, longitudes, radius)\u001b[0m\n\u001b[0;32m     16\u001b[0m \u001b[1;33m\u001b[0m\u001b[0m\n\u001b[0;32m     17\u001b[0m         \u001b[1;31m# make the GET request\u001b[0m\u001b[1;33m\u001b[0m\u001b[1;33m\u001b[0m\u001b[1;33m\u001b[0m\u001b[0m\n\u001b[1;32m---> 18\u001b[1;33m         \u001b[0mresults\u001b[0m \u001b[1;33m=\u001b[0m \u001b[0mrequests\u001b[0m\u001b[1;33m.\u001b[0m\u001b[0mget\u001b[0m\u001b[1;33m(\u001b[0m\u001b[0murl\u001b[0m\u001b[1;33m)\u001b[0m\u001b[1;33m.\u001b[0m\u001b[0mjson\u001b[0m\u001b[1;33m(\u001b[0m\u001b[1;33m)\u001b[0m\u001b[1;33m[\u001b[0m\u001b[1;34m\"response\"\u001b[0m\u001b[1;33m]\u001b[0m\u001b[1;33m[\u001b[0m\u001b[1;34m'groups'\u001b[0m\u001b[1;33m]\u001b[0m\u001b[1;33m[\u001b[0m\u001b[1;36m0\u001b[0m\u001b[1;33m]\u001b[0m\u001b[1;33m[\u001b[0m\u001b[1;34m'items'\u001b[0m\u001b[1;33m]\u001b[0m\u001b[1;33m\u001b[0m\u001b[1;33m\u001b[0m\u001b[0m\n\u001b[0m\u001b[0;32m     19\u001b[0m \u001b[1;33m\u001b[0m\u001b[0m\n\u001b[0;32m     20\u001b[0m         \u001b[1;31m# return only relevant information for each nearby venue\u001b[0m\u001b[1;33m\u001b[0m\u001b[1;33m\u001b[0m\u001b[1;33m\u001b[0m\u001b[0m\n",
      "\u001b[1;31mKeyError\u001b[0m: 'groups'"
     ]
    }
   ],
   "source": [
    "def getNearbyVenues(names, latitudes, longitudes, radius=500):\n",
    "    \n",
    "    venues_list=[]\n",
    "    for name, lat, lng in zip(names, latitudes, longitudes):\n",
    "        print(name)\n",
    "            \n",
    "        # create the API request URL\n",
    "        url = 'https://api.foursquare.com/v2/venues/explore?&client_id={}&client_secret={}&v={}&ll={},{}&radius={}&limit={}'.format(\n",
    "            CLIENT_ID, \n",
    "            CLIENT_SECRET, \n",
    "            VERSION, \n",
    "            lat, \n",
    "            lng, \n",
    "            radius, \n",
    "            limit)\n",
    "            \n",
    "        # make the GET request\n",
    "        results = requests.get(url).json()[\"response\"]['groups'][0]['items']\n",
    "        \n",
    "        # return only relevant information for each nearby venue\n",
    "        venues_list.append([(\n",
    "            name, \n",
    "            lat, \n",
    "            lng, \n",
    "            v['venue']['name'], \n",
    "            v['venue']['location']['lat'], \n",
    "            v['venue']['location']['lng'],  \n",
    "            v['venue']['categories'][0]['name']) for v in results])\n",
    "\n",
    "    nearby_venues = pd.DataFrame([item for venue_list in venues_list for item in venue_list])\n",
    "    nearby_venues.columns = ['Neighborhood', \n",
    "                  'Neighborhood Latitude', \n",
    "                  'Neighborhood Longitude', \n",
    "                  'Venue', \n",
    "                  'Venue Latitude', \n",
    "                  'Venue Longitude', \n",
    "                  'Venue Category']\n",
    "    \n",
    "    return(nearby_venues)\n",
    "\n",
    "print('And we execute it:')\n",
    "\n",
    "Toronto_venues = getNearbyVenues(names=ta['Neighbourhood'],\n",
    "                                   latitudes=ta['Latitude'],\n",
    "                                   longitudes=ta['Longitude']\n",
    "                                  )"
   ]
  },
  {
   "cell_type": "code",
   "execution_count": 285,
   "metadata": {},
   "outputs": [
    {
     "output_type": "stream",
     "name": "stdout",
     "text": [
      "The shape is (2167, 7)\nThere are 277 uniques categories.\n"
     ]
    },
    {
     "output_type": "execute_result",
     "data": {
      "text/plain": [
       "                             Neighborhood  Neighborhood Latitude  \\\n",
       "0                          Malvern, Rouge              43.806686   \n",
       "1  Rouge Hill, Port Union, Highland Creek              43.784535   \n",
       "2  Rouge Hill, Port Union, Highland Creek              43.784535   \n",
       "3       Guildwood, Morningside, West Hill              43.763573   \n",
       "4       Guildwood, Morningside, West Hill              43.763573   \n",
       "\n",
       "   Neighborhood Longitude                                              Venue  \\\n",
       "0              -79.194353                                            Wendy’s   \n",
       "1              -79.160497                              Royal Canadian Legion   \n",
       "2              -79.160497  SEBS Engineering Inc. (Sustainable Energy and ...   \n",
       "3              -79.188711                                     RBC Royal Bank   \n",
       "4              -79.188711                                  G & G Electronics   \n",
       "\n",
       "   Venue Latitude  Venue Longitude              Venue Category  \n",
       "0       43.807448       -79.199056        Fast Food Restaurant  \n",
       "1       43.782533       -79.163085                         Bar  \n",
       "2       43.782371       -79.156820  Construction & Landscaping  \n",
       "3       43.766790       -79.191151                        Bank  \n",
       "4       43.765309       -79.191537           Electronics Store  "
      ],
      "text/html": "<div>\n<style scoped>\n    .dataframe tbody tr th:only-of-type {\n        vertical-align: middle;\n    }\n\n    .dataframe tbody tr th {\n        vertical-align: top;\n    }\n\n    .dataframe thead th {\n        text-align: right;\n    }\n</style>\n<table border=\"1\" class=\"dataframe\">\n  <thead>\n    <tr style=\"text-align: right;\">\n      <th></th>\n      <th>Neighborhood</th>\n      <th>Neighborhood Latitude</th>\n      <th>Neighborhood Longitude</th>\n      <th>Venue</th>\n      <th>Venue Latitude</th>\n      <th>Venue Longitude</th>\n      <th>Venue Category</th>\n    </tr>\n  </thead>\n  <tbody>\n    <tr>\n      <th>0</th>\n      <td>Malvern, Rouge</td>\n      <td>43.806686</td>\n      <td>-79.194353</td>\n      <td>Wendy’s</td>\n      <td>43.807448</td>\n      <td>-79.199056</td>\n      <td>Fast Food Restaurant</td>\n    </tr>\n    <tr>\n      <th>1</th>\n      <td>Rouge Hill, Port Union, Highland Creek</td>\n      <td>43.784535</td>\n      <td>-79.160497</td>\n      <td>Royal Canadian Legion</td>\n      <td>43.782533</td>\n      <td>-79.163085</td>\n      <td>Bar</td>\n    </tr>\n    <tr>\n      <th>2</th>\n      <td>Rouge Hill, Port Union, Highland Creek</td>\n      <td>43.784535</td>\n      <td>-79.160497</td>\n      <td>SEBS Engineering Inc. (Sustainable Energy and ...</td>\n      <td>43.782371</td>\n      <td>-79.156820</td>\n      <td>Construction &amp; Landscaping</td>\n    </tr>\n    <tr>\n      <th>3</th>\n      <td>Guildwood, Morningside, West Hill</td>\n      <td>43.763573</td>\n      <td>-79.188711</td>\n      <td>RBC Royal Bank</td>\n      <td>43.766790</td>\n      <td>-79.191151</td>\n      <td>Bank</td>\n    </tr>\n    <tr>\n      <th>4</th>\n      <td>Guildwood, Morningside, West Hill</td>\n      <td>43.763573</td>\n      <td>-79.188711</td>\n      <td>G &amp; G Electronics</td>\n      <td>43.765309</td>\n      <td>-79.191537</td>\n      <td>Electronics Store</td>\n    </tr>\n  </tbody>\n</table>\n</div>"
     },
     "metadata": {},
     "execution_count": 285
    }
   ],
   "source": [
    "print('The shape is',Toronto_venues.shape)\n",
    "print('There are {} uniques categories.'.format(len(Toronto_venues['Venue Category'].unique())))\n",
    "Toronto_venues.head()"
   ]
  },
  {
   "source": [
    "We group the result by neighborhood"
   ],
   "cell_type": "markdown",
   "metadata": {}
  },
  {
   "cell_type": "code",
   "execution_count": 287,
   "metadata": {},
   "outputs": [
    {
     "output_type": "execute_result",
     "data": {
      "text/plain": [
       "                                                 Neighborhood Latitude  \\\n",
       "Neighborhood                                                             \n",
       "Agincourt                                                            5   \n",
       "Alderwood, Long Branch                                               7   \n",
       "Bathurst Manor, Wilson Heights, Downsview North                     21   \n",
       "Bayview Village                                                      4   \n",
       "Bedford Park, Lawrence Manor East                                   22   \n",
       "...                                                                ...   \n",
       "Willowdale, Willowdale West                                          5   \n",
       "Woburn                                                               4   \n",
       "Woodbine Heights                                                     9   \n",
       "York Mills West                                                      2   \n",
       "York Mills, Silver Hills                                             1   \n",
       "\n",
       "                                                 Neighborhood Longitude  \\\n",
       "Neighborhood                                                              \n",
       "Agincourt                                                             5   \n",
       "Alderwood, Long Branch                                                7   \n",
       "Bathurst Manor, Wilson Heights, Downsview North                      21   \n",
       "Bayview Village                                                       4   \n",
       "Bedford Park, Lawrence Manor East                                    22   \n",
       "...                                                                 ...   \n",
       "Willowdale, Willowdale West                                           5   \n",
       "Woburn                                                                4   \n",
       "Woodbine Heights                                                      9   \n",
       "York Mills West                                                       2   \n",
       "York Mills, Silver Hills                                              1   \n",
       "\n",
       "                                                 Venue  Venue Latitude  \\\n",
       "Neighborhood                                                             \n",
       "Agincourt                                            5               5   \n",
       "Alderwood, Long Branch                               7               7   \n",
       "Bathurst Manor, Wilson Heights, Downsview North     21              21   \n",
       "Bayview Village                                      4               4   \n",
       "Bedford Park, Lawrence Manor East                   22              22   \n",
       "...                                                ...             ...   \n",
       "Willowdale, Willowdale West                          5               5   \n",
       "Woburn                                               4               4   \n",
       "Woodbine Heights                                     9               9   \n",
       "York Mills West                                      2               2   \n",
       "York Mills, Silver Hills                             1               1   \n",
       "\n",
       "                                                 Venue Longitude  \\\n",
       "Neighborhood                                                       \n",
       "Agincourt                                                      5   \n",
       "Alderwood, Long Branch                                         7   \n",
       "Bathurst Manor, Wilson Heights, Downsview North               21   \n",
       "Bayview Village                                                4   \n",
       "Bedford Park, Lawrence Manor East                             22   \n",
       "...                                                          ...   \n",
       "Willowdale, Willowdale West                                    5   \n",
       "Woburn                                                         4   \n",
       "Woodbine Heights                                               9   \n",
       "York Mills West                                                2   \n",
       "York Mills, Silver Hills                                       1   \n",
       "\n",
       "                                                 Venue Category  \n",
       "Neighborhood                                                     \n",
       "Agincourt                                                     5  \n",
       "Alderwood, Long Branch                                        7  \n",
       "Bathurst Manor, Wilson Heights, Downsview North              21  \n",
       "Bayview Village                                               4  \n",
       "Bedford Park, Lawrence Manor East                            22  \n",
       "...                                                         ...  \n",
       "Willowdale, Willowdale West                                   5  \n",
       "Woburn                                                        4  \n",
       "Woodbine Heights                                              9  \n",
       "York Mills West                                               2  \n",
       "York Mills, Silver Hills                                      1  \n",
       "\n",
       "[96 rows x 6 columns]"
      ],
      "text/html": "<div>\n<style scoped>\n    .dataframe tbody tr th:only-of-type {\n        vertical-align: middle;\n    }\n\n    .dataframe tbody tr th {\n        vertical-align: top;\n    }\n\n    .dataframe thead th {\n        text-align: right;\n    }\n</style>\n<table border=\"1\" class=\"dataframe\">\n  <thead>\n    <tr style=\"text-align: right;\">\n      <th></th>\n      <th>Neighborhood Latitude</th>\n      <th>Neighborhood Longitude</th>\n      <th>Venue</th>\n      <th>Venue Latitude</th>\n      <th>Venue Longitude</th>\n      <th>Venue Category</th>\n    </tr>\n    <tr>\n      <th>Neighborhood</th>\n      <th></th>\n      <th></th>\n      <th></th>\n      <th></th>\n      <th></th>\n      <th></th>\n    </tr>\n  </thead>\n  <tbody>\n    <tr>\n      <th>Agincourt</th>\n      <td>5</td>\n      <td>5</td>\n      <td>5</td>\n      <td>5</td>\n      <td>5</td>\n      <td>5</td>\n    </tr>\n    <tr>\n      <th>Alderwood, Long Branch</th>\n      <td>7</td>\n      <td>7</td>\n      <td>7</td>\n      <td>7</td>\n      <td>7</td>\n      <td>7</td>\n    </tr>\n    <tr>\n      <th>Bathurst Manor, Wilson Heights, Downsview North</th>\n      <td>21</td>\n      <td>21</td>\n      <td>21</td>\n      <td>21</td>\n      <td>21</td>\n      <td>21</td>\n    </tr>\n    <tr>\n      <th>Bayview Village</th>\n      <td>4</td>\n      <td>4</td>\n      <td>4</td>\n      <td>4</td>\n      <td>4</td>\n      <td>4</td>\n    </tr>\n    <tr>\n      <th>Bedford Park, Lawrence Manor East</th>\n      <td>22</td>\n      <td>22</td>\n      <td>22</td>\n      <td>22</td>\n      <td>22</td>\n      <td>22</td>\n    </tr>\n    <tr>\n      <th>...</th>\n      <td>...</td>\n      <td>...</td>\n      <td>...</td>\n      <td>...</td>\n      <td>...</td>\n      <td>...</td>\n    </tr>\n    <tr>\n      <th>Willowdale, Willowdale West</th>\n      <td>5</td>\n      <td>5</td>\n      <td>5</td>\n      <td>5</td>\n      <td>5</td>\n      <td>5</td>\n    </tr>\n    <tr>\n      <th>Woburn</th>\n      <td>4</td>\n      <td>4</td>\n      <td>4</td>\n      <td>4</td>\n      <td>4</td>\n      <td>4</td>\n    </tr>\n    <tr>\n      <th>Woodbine Heights</th>\n      <td>9</td>\n      <td>9</td>\n      <td>9</td>\n      <td>9</td>\n      <td>9</td>\n      <td>9</td>\n    </tr>\n    <tr>\n      <th>York Mills West</th>\n      <td>2</td>\n      <td>2</td>\n      <td>2</td>\n      <td>2</td>\n      <td>2</td>\n      <td>2</td>\n    </tr>\n    <tr>\n      <th>York Mills, Silver Hills</th>\n      <td>1</td>\n      <td>1</td>\n      <td>1</td>\n      <td>1</td>\n      <td>1</td>\n      <td>1</td>\n    </tr>\n  </tbody>\n</table>\n<p>96 rows × 6 columns</p>\n</div>"
     },
     "metadata": {},
     "execution_count": 287
    }
   ],
   "source": [
    "Toronto_venues.groupby('Neighborhood').count()"
   ]
  },
  {
   "source": [
    "#### Analysis by Neighborhoods"
   ],
   "cell_type": "markdown",
   "metadata": {}
  },
  {
   "source": [
    "We start analyzing every Neighborhood"
   ],
   "cell_type": "markdown",
   "metadata": {}
  },
  {
   "cell_type": "code",
   "execution_count": 289,
   "metadata": {},
   "outputs": [
    {
     "output_type": "execute_result",
     "data": {
      "text/plain": [
       "   Yoga Studio  Accessories Store  Afghan Restaurant  Airport  \\\n",
       "0            0                  0                  0        0   \n",
       "1            0                  0                  0        0   \n",
       "2            0                  0                  0        0   \n",
       "3            0                  0                  0        0   \n",
       "4            0                  0                  0        0   \n",
       "5            0                  0                  0        0   \n",
       "6            0                  0                  0        0   \n",
       "7            0                  0                  0        0   \n",
       "8            0                  0                  0        0   \n",
       "9            0                  0                  0        0   \n",
       "\n",
       "   Airport Food Court  Airport Gate  Airport Lounge  Airport Service  \\\n",
       "0                   0             0               0                0   \n",
       "1                   0             0               0                0   \n",
       "2                   0             0               0                0   \n",
       "3                   0             0               0                0   \n",
       "4                   0             0               0                0   \n",
       "5                   0             0               0                0   \n",
       "6                   0             0               0                0   \n",
       "7                   0             0               0                0   \n",
       "8                   0             0               0                0   \n",
       "9                   0             0               0                0   \n",
       "\n",
       "   Airport Terminal  American Restaurant  ...  Trail  Train Station  \\\n",
       "0                 0                    0  ...      0              0   \n",
       "1                 0                    0  ...      0              0   \n",
       "2                 0                    0  ...      0              0   \n",
       "3                 0                    0  ...      0              0   \n",
       "4                 0                    0  ...      0              0   \n",
       "5                 0                    0  ...      0              0   \n",
       "6                 0                    0  ...      0              0   \n",
       "7                 0                    0  ...      0              0   \n",
       "8                 0                    0  ...      0              0   \n",
       "9                 0                    0  ...      0              0   \n",
       "\n",
       "   Turkish Restaurant  Vegetarian / Vegan Restaurant  Video Game Store  \\\n",
       "0                   0                              0                 0   \n",
       "1                   0                              0                 0   \n",
       "2                   0                              0                 0   \n",
       "3                   0                              0                 0   \n",
       "4                   0                              0                 0   \n",
       "5                   0                              0                 0   \n",
       "6                   0                              0                 0   \n",
       "7                   0                              0                 0   \n",
       "8                   0                              0                 0   \n",
       "9                   0                              0                 0   \n",
       "\n",
       "   Vietnamese Restaurant  Warehouse Store  Wine Bar  Wings Joint  \\\n",
       "0                      0                0         0            0   \n",
       "1                      0                0         0            0   \n",
       "2                      0                0         0            0   \n",
       "3                      0                0         0            0   \n",
       "4                      0                0         0            0   \n",
       "5                      0                0         0            0   \n",
       "6                      0                0         0            0   \n",
       "7                      0                0         0            0   \n",
       "8                      0                0         0            0   \n",
       "9                      0                0         0            0   \n",
       "\n",
       "   Women's Store  \n",
       "0              0  \n",
       "1              0  \n",
       "2              0  \n",
       "3              0  \n",
       "4              0  \n",
       "5              0  \n",
       "6              0  \n",
       "7              0  \n",
       "8              0  \n",
       "9              0  \n",
       "\n",
       "[10 rows x 277 columns]"
      ],
      "text/html": "<div>\n<style scoped>\n    .dataframe tbody tr th:only-of-type {\n        vertical-align: middle;\n    }\n\n    .dataframe tbody tr th {\n        vertical-align: top;\n    }\n\n    .dataframe thead th {\n        text-align: right;\n    }\n</style>\n<table border=\"1\" class=\"dataframe\">\n  <thead>\n    <tr style=\"text-align: right;\">\n      <th></th>\n      <th>Yoga Studio</th>\n      <th>Accessories Store</th>\n      <th>Afghan Restaurant</th>\n      <th>Airport</th>\n      <th>Airport Food Court</th>\n      <th>Airport Gate</th>\n      <th>Airport Lounge</th>\n      <th>Airport Service</th>\n      <th>Airport Terminal</th>\n      <th>American Restaurant</th>\n      <th>...</th>\n      <th>Trail</th>\n      <th>Train Station</th>\n      <th>Turkish Restaurant</th>\n      <th>Vegetarian / Vegan Restaurant</th>\n      <th>Video Game Store</th>\n      <th>Vietnamese Restaurant</th>\n      <th>Warehouse Store</th>\n      <th>Wine Bar</th>\n      <th>Wings Joint</th>\n      <th>Women's Store</th>\n    </tr>\n  </thead>\n  <tbody>\n    <tr>\n      <th>0</th>\n      <td>0</td>\n      <td>0</td>\n      <td>0</td>\n      <td>0</td>\n      <td>0</td>\n      <td>0</td>\n      <td>0</td>\n      <td>0</td>\n      <td>0</td>\n      <td>0</td>\n      <td>...</td>\n      <td>0</td>\n      <td>0</td>\n      <td>0</td>\n      <td>0</td>\n      <td>0</td>\n      <td>0</td>\n      <td>0</td>\n      <td>0</td>\n      <td>0</td>\n      <td>0</td>\n    </tr>\n    <tr>\n      <th>1</th>\n      <td>0</td>\n      <td>0</td>\n      <td>0</td>\n      <td>0</td>\n      <td>0</td>\n      <td>0</td>\n      <td>0</td>\n      <td>0</td>\n      <td>0</td>\n      <td>0</td>\n      <td>...</td>\n      <td>0</td>\n      <td>0</td>\n      <td>0</td>\n      <td>0</td>\n      <td>0</td>\n      <td>0</td>\n      <td>0</td>\n      <td>0</td>\n      <td>0</td>\n      <td>0</td>\n    </tr>\n    <tr>\n      <th>2</th>\n      <td>0</td>\n      <td>0</td>\n      <td>0</td>\n      <td>0</td>\n      <td>0</td>\n      <td>0</td>\n      <td>0</td>\n      <td>0</td>\n      <td>0</td>\n      <td>0</td>\n      <td>...</td>\n      <td>0</td>\n      <td>0</td>\n      <td>0</td>\n      <td>0</td>\n      <td>0</td>\n      <td>0</td>\n      <td>0</td>\n      <td>0</td>\n      <td>0</td>\n      <td>0</td>\n    </tr>\n    <tr>\n      <th>3</th>\n      <td>0</td>\n      <td>0</td>\n      <td>0</td>\n      <td>0</td>\n      <td>0</td>\n      <td>0</td>\n      <td>0</td>\n      <td>0</td>\n      <td>0</td>\n      <td>0</td>\n      <td>...</td>\n      <td>0</td>\n      <td>0</td>\n      <td>0</td>\n      <td>0</td>\n      <td>0</td>\n      <td>0</td>\n      <td>0</td>\n      <td>0</td>\n      <td>0</td>\n      <td>0</td>\n    </tr>\n    <tr>\n      <th>4</th>\n      <td>0</td>\n      <td>0</td>\n      <td>0</td>\n      <td>0</td>\n      <td>0</td>\n      <td>0</td>\n      <td>0</td>\n      <td>0</td>\n      <td>0</td>\n      <td>0</td>\n      <td>...</td>\n      <td>0</td>\n      <td>0</td>\n      <td>0</td>\n      <td>0</td>\n      <td>0</td>\n      <td>0</td>\n      <td>0</td>\n      <td>0</td>\n      <td>0</td>\n      <td>0</td>\n    </tr>\n    <tr>\n      <th>5</th>\n      <td>0</td>\n      <td>0</td>\n      <td>0</td>\n      <td>0</td>\n      <td>0</td>\n      <td>0</td>\n      <td>0</td>\n      <td>0</td>\n      <td>0</td>\n      <td>0</td>\n      <td>...</td>\n      <td>0</td>\n      <td>0</td>\n      <td>0</td>\n      <td>0</td>\n      <td>0</td>\n      <td>0</td>\n      <td>0</td>\n      <td>0</td>\n      <td>0</td>\n      <td>0</td>\n    </tr>\n    <tr>\n      <th>6</th>\n      <td>0</td>\n      <td>0</td>\n      <td>0</td>\n      <td>0</td>\n      <td>0</td>\n      <td>0</td>\n      <td>0</td>\n      <td>0</td>\n      <td>0</td>\n      <td>0</td>\n      <td>...</td>\n      <td>0</td>\n      <td>0</td>\n      <td>0</td>\n      <td>0</td>\n      <td>0</td>\n      <td>0</td>\n      <td>0</td>\n      <td>0</td>\n      <td>0</td>\n      <td>0</td>\n    </tr>\n    <tr>\n      <th>7</th>\n      <td>0</td>\n      <td>0</td>\n      <td>0</td>\n      <td>0</td>\n      <td>0</td>\n      <td>0</td>\n      <td>0</td>\n      <td>0</td>\n      <td>0</td>\n      <td>0</td>\n      <td>...</td>\n      <td>0</td>\n      <td>0</td>\n      <td>0</td>\n      <td>0</td>\n      <td>0</td>\n      <td>0</td>\n      <td>0</td>\n      <td>0</td>\n      <td>0</td>\n      <td>0</td>\n    </tr>\n    <tr>\n      <th>8</th>\n      <td>0</td>\n      <td>0</td>\n      <td>0</td>\n      <td>0</td>\n      <td>0</td>\n      <td>0</td>\n      <td>0</td>\n      <td>0</td>\n      <td>0</td>\n      <td>0</td>\n      <td>...</td>\n      <td>0</td>\n      <td>0</td>\n      <td>0</td>\n      <td>0</td>\n      <td>0</td>\n      <td>0</td>\n      <td>0</td>\n      <td>0</td>\n      <td>0</td>\n      <td>0</td>\n    </tr>\n    <tr>\n      <th>9</th>\n      <td>0</td>\n      <td>0</td>\n      <td>0</td>\n      <td>0</td>\n      <td>0</td>\n      <td>0</td>\n      <td>0</td>\n      <td>0</td>\n      <td>0</td>\n      <td>0</td>\n      <td>...</td>\n      <td>0</td>\n      <td>0</td>\n      <td>0</td>\n      <td>0</td>\n      <td>0</td>\n      <td>0</td>\n      <td>0</td>\n      <td>0</td>\n      <td>0</td>\n      <td>0</td>\n    </tr>\n  </tbody>\n</table>\n<p>10 rows × 277 columns</p>\n</div>"
     },
     "metadata": {},
     "execution_count": 289
    }
   ],
   "source": [
    "# one hot encoding\n",
    "Toronto_onehot = pd.get_dummies(Toronto_venues[['Venue Category']], prefix=\"\", prefix_sep=\"\")\n",
    "# add neighborhood column back to dataframe\n",
    "Toronto_onehot['Neighborhood'] = Toronto_venues['Neighborhood'] \n",
    "# move neighborhood column to the first column\n",
    "fixed_columns = [Toronto_onehot.columns[-1]] + list(Toronto_onehot.columns[:-1])\n",
    "Toronto_onehot = Toronto_onehot[fixed_columns]\n",
    "\n",
    "Toronto_onehot.head(10)"
   ]
  },
  {
   "source": [
    "We group by neighborhoods and take the frecuency of ocurrence of every category"
   ],
   "cell_type": "markdown",
   "metadata": {}
  },
  {
   "cell_type": "code",
   "execution_count": 291,
   "metadata": {},
   "outputs": [
    {
     "output_type": "execute_result",
     "data": {
      "text/plain": [
       "                                      Neighborhood  Yoga Studio  \\\n",
       "0                                        Agincourt          0.0   \n",
       "1                           Alderwood, Long Branch          0.0   \n",
       "2  Bathurst Manor, Wilson Heights, Downsview North          0.0   \n",
       "3                                  Bayview Village          0.0   \n",
       "4                Bedford Park, Lawrence Manor East          0.0   \n",
       "\n",
       "   Accessories Store  Afghan Restaurant  Airport  Airport Food Court  \\\n",
       "0                0.0                0.0      0.0                 0.0   \n",
       "1                0.0                0.0      0.0                 0.0   \n",
       "2                0.0                0.0      0.0                 0.0   \n",
       "3                0.0                0.0      0.0                 0.0   \n",
       "4                0.0                0.0      0.0                 0.0   \n",
       "\n",
       "   Airport Gate  Airport Lounge  Airport Service  Airport Terminal  ...  \\\n",
       "0           0.0             0.0              0.0               0.0  ...   \n",
       "1           0.0             0.0              0.0               0.0  ...   \n",
       "2           0.0             0.0              0.0               0.0  ...   \n",
       "3           0.0             0.0              0.0               0.0  ...   \n",
       "4           0.0             0.0              0.0               0.0  ...   \n",
       "\n",
       "   Trail  Train Station  Turkish Restaurant  Vegetarian / Vegan Restaurant  \\\n",
       "0    0.0            0.0                 0.0                            0.0   \n",
       "1    0.0            0.0                 0.0                            0.0   \n",
       "2    0.0            0.0                 0.0                            0.0   \n",
       "3    0.0            0.0                 0.0                            0.0   \n",
       "4    0.0            0.0                 0.0                            0.0   \n",
       "\n",
       "   Video Game Store  Vietnamese Restaurant  Warehouse Store  Wine Bar  \\\n",
       "0               0.0                    0.0              0.0       0.0   \n",
       "1               0.0                    0.0              0.0       0.0   \n",
       "2               0.0                    0.0              0.0       0.0   \n",
       "3               0.0                    0.0              0.0       0.0   \n",
       "4               0.0                    0.0              0.0       0.0   \n",
       "\n",
       "   Wings Joint  Women's Store  \n",
       "0          0.0            0.0  \n",
       "1          0.0            0.0  \n",
       "2          0.0            0.0  \n",
       "3          0.0            0.0  \n",
       "4          0.0            0.0  \n",
       "\n",
       "[5 rows x 277 columns]"
      ],
      "text/html": "<div>\n<style scoped>\n    .dataframe tbody tr th:only-of-type {\n        vertical-align: middle;\n    }\n\n    .dataframe tbody tr th {\n        vertical-align: top;\n    }\n\n    .dataframe thead th {\n        text-align: right;\n    }\n</style>\n<table border=\"1\" class=\"dataframe\">\n  <thead>\n    <tr style=\"text-align: right;\">\n      <th></th>\n      <th>Neighborhood</th>\n      <th>Yoga Studio</th>\n      <th>Accessories Store</th>\n      <th>Afghan Restaurant</th>\n      <th>Airport</th>\n      <th>Airport Food Court</th>\n      <th>Airport Gate</th>\n      <th>Airport Lounge</th>\n      <th>Airport Service</th>\n      <th>Airport Terminal</th>\n      <th>...</th>\n      <th>Trail</th>\n      <th>Train Station</th>\n      <th>Turkish Restaurant</th>\n      <th>Vegetarian / Vegan Restaurant</th>\n      <th>Video Game Store</th>\n      <th>Vietnamese Restaurant</th>\n      <th>Warehouse Store</th>\n      <th>Wine Bar</th>\n      <th>Wings Joint</th>\n      <th>Women's Store</th>\n    </tr>\n  </thead>\n  <tbody>\n    <tr>\n      <th>0</th>\n      <td>Agincourt</td>\n      <td>0.0</td>\n      <td>0.0</td>\n      <td>0.0</td>\n      <td>0.0</td>\n      <td>0.0</td>\n      <td>0.0</td>\n      <td>0.0</td>\n      <td>0.0</td>\n      <td>0.0</td>\n      <td>...</td>\n      <td>0.0</td>\n      <td>0.0</td>\n      <td>0.0</td>\n      <td>0.0</td>\n      <td>0.0</td>\n      <td>0.0</td>\n      <td>0.0</td>\n      <td>0.0</td>\n      <td>0.0</td>\n      <td>0.0</td>\n    </tr>\n    <tr>\n      <th>1</th>\n      <td>Alderwood, Long Branch</td>\n      <td>0.0</td>\n      <td>0.0</td>\n      <td>0.0</td>\n      <td>0.0</td>\n      <td>0.0</td>\n      <td>0.0</td>\n      <td>0.0</td>\n      <td>0.0</td>\n      <td>0.0</td>\n      <td>...</td>\n      <td>0.0</td>\n      <td>0.0</td>\n      <td>0.0</td>\n      <td>0.0</td>\n      <td>0.0</td>\n      <td>0.0</td>\n      <td>0.0</td>\n      <td>0.0</td>\n      <td>0.0</td>\n      <td>0.0</td>\n    </tr>\n    <tr>\n      <th>2</th>\n      <td>Bathurst Manor, Wilson Heights, Downsview North</td>\n      <td>0.0</td>\n      <td>0.0</td>\n      <td>0.0</td>\n      <td>0.0</td>\n      <td>0.0</td>\n      <td>0.0</td>\n      <td>0.0</td>\n      <td>0.0</td>\n      <td>0.0</td>\n      <td>...</td>\n      <td>0.0</td>\n      <td>0.0</td>\n      <td>0.0</td>\n      <td>0.0</td>\n      <td>0.0</td>\n      <td>0.0</td>\n      <td>0.0</td>\n      <td>0.0</td>\n      <td>0.0</td>\n      <td>0.0</td>\n    </tr>\n    <tr>\n      <th>3</th>\n      <td>Bayview Village</td>\n      <td>0.0</td>\n      <td>0.0</td>\n      <td>0.0</td>\n      <td>0.0</td>\n      <td>0.0</td>\n      <td>0.0</td>\n      <td>0.0</td>\n      <td>0.0</td>\n      <td>0.0</td>\n      <td>...</td>\n      <td>0.0</td>\n      <td>0.0</td>\n      <td>0.0</td>\n      <td>0.0</td>\n      <td>0.0</td>\n      <td>0.0</td>\n      <td>0.0</td>\n      <td>0.0</td>\n      <td>0.0</td>\n      <td>0.0</td>\n    </tr>\n    <tr>\n      <th>4</th>\n      <td>Bedford Park, Lawrence Manor East</td>\n      <td>0.0</td>\n      <td>0.0</td>\n      <td>0.0</td>\n      <td>0.0</td>\n      <td>0.0</td>\n      <td>0.0</td>\n      <td>0.0</td>\n      <td>0.0</td>\n      <td>0.0</td>\n      <td>...</td>\n      <td>0.0</td>\n      <td>0.0</td>\n      <td>0.0</td>\n      <td>0.0</td>\n      <td>0.0</td>\n      <td>0.0</td>\n      <td>0.0</td>\n      <td>0.0</td>\n      <td>0.0</td>\n      <td>0.0</td>\n    </tr>\n  </tbody>\n</table>\n<p>5 rows × 277 columns</p>\n</div>"
     },
     "metadata": {},
     "execution_count": 291
    }
   ],
   "source": [
    "Toronto_grouped = Toronto_onehot.groupby('Neighborhood').mean().reset_index()\n",
    "Toronto_grouped.head()"
   ]
  },
  {
   "cell_type": "code",
   "execution_count": 293,
   "metadata": {},
   "outputs": [
    {
     "output_type": "execute_result",
     "data": {
      "text/plain": [
       "(96, 277)"
      ]
     },
     "metadata": {},
     "execution_count": 293
    }
   ],
   "source": [
    "Toronto_grouped.shape"
   ]
  },
  {
   "source": [
    "We print the 6 most common venues of every neighborhood"
   ],
   "cell_type": "markdown",
   "metadata": {}
  },
  {
   "cell_type": "code",
   "execution_count": 295,
   "metadata": {
    "tags": [
     "outputPrepend"
    ]
   },
   "outputs": [
    {
     "output_type": "stream",
     "name": "stdout",
     "text": [
      "      Turkish Restaurant  0.25\n",
      "3             Discount Store  0.25\n",
      "4                Yoga Studio  0.00\n",
      "5  Middle Eastern Restaurant  0.00\n",
      "\n",
      "\n",
      "----Don Mills----\n",
      "                 venue  freq\n",
      "0                  Gym  0.12\n",
      "1          Coffee Shop  0.08\n",
      "2           Beer Store  0.08\n",
      "3  Japanese Restaurant  0.08\n",
      "4     Asian Restaurant  0.04\n",
      "5          Supermarket  0.04\n",
      "\n",
      "\n",
      "----Dorset Park, Wexford Heights, Scarborough Town Centre----\n",
      "                       venue  freq\n",
      "0          Indian Restaurant   0.4\n",
      "1                  Pet Store   0.2\n",
      "2      Vietnamese Restaurant   0.2\n",
      "3         Chinese Restaurant   0.2\n",
      "4                Yoga Studio   0.0\n",
      "5  Middle Eastern Restaurant   0.0\n",
      "\n",
      "\n",
      "----Downsview----\n",
      "           venue  freq\n",
      "0  Grocery Store  0.18\n",
      "1      Speakeasy  0.12\n",
      "2           Park  0.12\n",
      "3        Airport  0.06\n",
      "4           Bank  0.06\n",
      "5          Hotel  0.06\n",
      "\n",
      "\n",
      "----Dufferin, Dovercourt Village----\n",
      "      venue  freq\n",
      "0  Pharmacy  0.15\n",
      "1    Bakery  0.15\n",
      "2      Bank  0.08\n",
      "3   Brewery  0.08\n",
      "4       Bar  0.08\n",
      "5      Park  0.08\n",
      "\n",
      "\n",
      "----East Toronto, Broadview North (Old East York)----\n",
      "                       venue  freq\n",
      "0               Intersection  0.33\n",
      "1                       Park  0.33\n",
      "2          Convenience Store  0.33\n",
      "3                Yoga Studio  0.00\n",
      "4  Middle Eastern Restaurant  0.00\n",
      "5        Monument / Landmark  0.00\n",
      "\n",
      "\n",
      "----Eringate, Bloordale Gardens, Old Burnhamthorpe, Markland Wood----\n",
      "               venue  freq\n",
      "0        Pizza Place  0.12\n",
      "1         Beer Store  0.12\n",
      "2     Shopping Plaza  0.12\n",
      "3        Coffee Shop  0.12\n",
      "4       Liquor Store  0.12\n",
      "5  Convenience Store  0.12\n",
      "\n",
      "\n",
      "----Fairview, Henry Farm, Oriole----\n",
      "                  venue  freq\n",
      "0        Clothing Store  0.08\n",
      "1           Coffee Shop  0.07\n",
      "2  Fast Food Restaurant  0.06\n",
      "3         Women's Store  0.04\n",
      "4   Japanese Restaurant  0.04\n",
      "5             Juice Bar  0.04\n",
      "\n",
      "\n",
      "----First Canadian Place, Underground city----\n",
      "                 venue  freq\n",
      "0          Coffee Shop  0.11\n",
      "1                 Café  0.07\n",
      "2                Hotel  0.05\n",
      "3                  Gym  0.04\n",
      "4           Restaurant  0.04\n",
      "5  Japanese Restaurant  0.04\n",
      "\n",
      "\n",
      "----Forest Hill North & West, Forest Hill Road Park----\n",
      "                venue  freq\n",
      "0               Trail   0.2\n",
      "1    Sushi Restaurant   0.2\n",
      "2                Park   0.2\n",
      "3       Jewelry Store   0.2\n",
      "4  Mexican Restaurant   0.2\n",
      "5         Yoga Studio   0.0\n",
      "\n",
      "\n",
      "----Garden District, Ryerson----\n",
      "                 venue  freq\n",
      "0       Clothing Store  0.09\n",
      "1          Coffee Shop  0.09\n",
      "2                 Café  0.04\n",
      "3       Cosmetics Shop  0.03\n",
      "4      Bubble Tea Shop  0.03\n",
      "5  Japanese Restaurant  0.03\n",
      "\n",
      "\n",
      "----Glencairn----\n",
      "                       venue  freq\n",
      "0                Pizza Place   0.2\n",
      "1                     Bakery   0.2\n",
      "2                       Park   0.2\n",
      "3                        Pub   0.2\n",
      "4        Japanese Restaurant   0.2\n",
      "5  Middle Eastern Restaurant   0.0\n",
      "\n",
      "\n",
      "----Golden Mile, Clairlea, Oakridge----\n",
      "            venue  freq\n",
      "0          Bakery   0.2\n",
      "1        Bus Line   0.2\n",
      "2    Soccer Field   0.1\n",
      "3  Ice Cream Shop   0.1\n",
      "4            Park   0.1\n",
      "5    Intersection   0.1\n",
      "\n",
      "\n",
      "----Guildwood, Morningside, West Hill----\n",
      "                 venue  freq\n",
      "0  Rental Car Location  0.12\n",
      "1       Medical Center  0.12\n",
      "2       Breakfast Spot  0.12\n",
      "3                 Bank  0.12\n",
      "4         Intersection  0.12\n",
      "5    Electronics Store  0.12\n",
      "\n",
      "\n",
      "----Harbourfront East, Union Station, Toronto Islands----\n",
      "                 venue  freq\n",
      "0          Coffee Shop  0.13\n",
      "1             Aquarium  0.05\n",
      "2                Hotel  0.04\n",
      "3                 Café  0.04\n",
      "4       Scenic Lookout  0.03\n",
      "5  Fried Chicken Joint  0.03\n",
      "\n",
      "\n",
      "----High Park, The Junction South----\n",
      "                venue  freq\n",
      "0                 Bar  0.08\n",
      "1  Mexican Restaurant  0.08\n",
      "2                Café  0.08\n",
      "3     Thai Restaurant  0.08\n",
      "4              Bakery  0.04\n",
      "5           Speakeasy  0.04\n",
      "\n",
      "\n",
      "----Hillcrest Village----\n",
      "                      venue  freq\n",
      "0        Athletics & Sports   0.2\n",
      "1                      Pool   0.2\n",
      "2                   Dog Run   0.2\n",
      "3  Mediterranean Restaurant   0.2\n",
      "4               Golf Course   0.2\n",
      "5               Yoga Studio   0.0\n",
      "\n",
      "\n",
      "----Humber Summit----\n",
      "                             venue  freq\n",
      "0                      Pizza Place   0.5\n",
      "1           Furniture / Home Store   0.5\n",
      "2               Mexican Restaurant   0.0\n",
      "3  Molecular Gastronomy Restaurant   0.0\n",
      "4       Modern European Restaurant   0.0\n",
      "5                Mobile Phone Shop   0.0\n",
      "\n",
      "\n",
      "----Humberlea, Emery----\n",
      "                             venue  freq\n",
      "0                   Baseball Field   1.0\n",
      "1                      Yoga Studio   0.0\n",
      "2               Mexican Restaurant   0.0\n",
      "3  Molecular Gastronomy Restaurant   0.0\n",
      "4       Modern European Restaurant   0.0\n",
      "5                Mobile Phone Shop   0.0\n",
      "\n",
      "\n",
      "----Humewood-Cedarvale----\n",
      "                venue  freq\n",
      "0               Trail   0.2\n",
      "1               Field   0.2\n",
      "2        Hockey Arena   0.2\n",
      "3        Tennis Court   0.2\n",
      "4             Dog Run   0.2\n",
      "5  Mexican Restaurant   0.0\n",
      "\n",
      "\n",
      "----India Bazaar, The Beaches West----\n",
      "                  venue  freq\n",
      "0                  Park  0.11\n",
      "1     Fish & Chips Shop  0.05\n",
      "2           Coffee Shop  0.05\n",
      "3  Fast Food Restaurant  0.05\n",
      "4             Pet Store  0.05\n",
      "5         Burrito Place  0.05\n",
      "\n",
      "\n",
      "----Kennedy Park, Ionview, East Birchmount Park----\n",
      "                       venue  freq\n",
      "0                 Hobby Shop  0.25\n",
      "1           Department Store  0.25\n",
      "2                Coffee Shop  0.25\n",
      "3              Train Station  0.25\n",
      "4                Yoga Studio  0.00\n",
      "5  Middle Eastern Restaurant  0.00\n",
      "\n",
      "\n",
      "----Kensington Market, Chinatown, Grange Park----\n",
      "                           venue  freq\n",
      "0                    Coffee Shop  0.05\n",
      "1                            Bar  0.05\n",
      "2                           Café  0.05\n",
      "3             Mexican Restaurant  0.05\n",
      "4  Vegetarian / Vegan Restaurant  0.05\n",
      "5          Vietnamese Restaurant  0.04\n",
      "\n",
      "\n",
      "----Kingsview Village, St. Phillips, Martin Grove Gardens, Richview Gardens----\n",
      "                             venue  freq\n",
      "0                      Pizza Place  0.25\n",
      "1                   Sandwich Place  0.25\n",
      "2                             Park  0.25\n",
      "3                         Bus Line  0.25\n",
      "4        Middle Eastern Restaurant  0.00\n",
      "5  Molecular Gastronomy Restaurant  0.00\n",
      "\n",
      "\n",
      "----Lawrence Manor, Lawrence Heights----\n",
      "                    venue  freq\n",
      "0          Clothing Store  0.38\n",
      "1           Women's Store  0.08\n",
      "2             Coffee Shop  0.08\n",
      "3             Event Space  0.08\n",
      "4  Furniture / Home Store  0.08\n",
      "5               Gift Shop  0.08\n",
      "\n",
      "\n",
      "----Lawrence Park----\n",
      "                             venue  freq\n",
      "0                      Swim School  0.33\n",
      "1                             Park  0.33\n",
      "2                         Bus Line  0.33\n",
      "3                      Yoga Studio  0.00\n",
      "4        Middle Eastern Restaurant  0.00\n",
      "5  Molecular Gastronomy Restaurant  0.00\n",
      "\n",
      "\n",
      "----Leaside----\n",
      "                    venue  freq\n",
      "0             Coffee Shop  0.09\n",
      "1     Sporting Goods Shop  0.09\n",
      "2  Furniture / Home Store  0.06\n",
      "3           Shopping Mall  0.06\n",
      "4                    Bank  0.06\n",
      "5            Burger Joint  0.06\n",
      "\n",
      "\n",
      "----Little Portugal, Trinity----\n",
      "                   venue  freq\n",
      "0                    Bar  0.09\n",
      "1            Coffee Shop  0.07\n",
      "2  Vietnamese Restaurant  0.04\n",
      "3            Men's Store  0.04\n",
      "4             Restaurant  0.04\n",
      "5       Asian Restaurant  0.04\n",
      "\n",
      "\n",
      "----Malvern, Rouge----\n",
      "                             venue  freq\n",
      "0             Fast Food Restaurant   1.0\n",
      "1                      Yoga Studio   0.0\n",
      "2               Mexican Restaurant   0.0\n",
      "3              Monument / Landmark   0.0\n",
      "4  Molecular Gastronomy Restaurant   0.0\n",
      "5       Modern European Restaurant   0.0\n",
      "\n",
      "\n",
      "----Milliken, Agincourt North, Steeles East, L'Amoreaux East----\n",
      "                             venue  freq\n",
      "0                       Playground  0.25\n",
      "1                     Intersection  0.25\n",
      "2                           Bakery  0.25\n",
      "3                             Park  0.25\n",
      "4        Middle Eastern Restaurant  0.00\n",
      "5  Molecular Gastronomy Restaurant  0.00\n",
      "\n",
      "\n",
      "----Mimico NW, The Queensway West, South of Bloor, Kingsway Park South West, Royal York South West----\n",
      "               venue  freq\n",
      "0  Convenience Store  0.06\n",
      "1                Gym  0.06\n",
      "2    Supplement Shop  0.06\n",
      "3             Bakery  0.06\n",
      "4     Discount Store  0.06\n",
      "5      Tanning Salon  0.06\n",
      "\n",
      "\n",
      "----Moore Park, Summerhill East----\n",
      "                             venue  freq\n",
      "0                            Trail   0.5\n",
      "1                       Playground   0.5\n",
      "2                      Yoga Studio   0.0\n",
      "3  Molecular Gastronomy Restaurant   0.0\n",
      "4       Modern European Restaurant   0.0\n",
      "5                Mobile Phone Shop   0.0\n",
      "\n",
      "\n",
      "----New Toronto, Mimico South, Humber Bay Shores----\n",
      "                venue  freq\n",
      "0                Café  0.13\n",
      "1         Coffee Shop  0.13\n",
      "2            Pharmacy  0.07\n",
      "3                 Gym  0.07\n",
      "4         Pizza Place  0.07\n",
      "5  Mexican Restaurant  0.07\n",
      "\n",
      "\n",
      "----North Park, Maple Leaf Park, Upwood Park----\n",
      "                             venue  freq\n",
      "0                           Bakery  0.33\n",
      "1       Construction & Landscaping  0.33\n",
      "2                             Park  0.33\n",
      "3                      Yoga Studio  0.00\n",
      "4               Mexican Restaurant  0.00\n",
      "5  Molecular Gastronomy Restaurant  0.00\n",
      "\n",
      "\n",
      "----North Toronto West, Lawrence Park----\n",
      "                    venue  freq\n",
      "0          Clothing Store  0.11\n",
      "1             Coffee Shop  0.11\n",
      "2             Yoga Studio  0.06\n",
      "3     Sporting Goods Shop  0.06\n",
      "4  Furniture / Home Store  0.06\n",
      "5              Bagel Shop  0.06\n",
      "\n",
      "\n",
      "----Northwest, West Humber - Clairville----\n",
      "                             venue  freq\n",
      "0                    Garden Center  0.25\n",
      "1                              Bar  0.25\n",
      "2              Rental Car Location  0.25\n",
      "3                        Drugstore  0.25\n",
      "4                      Yoga Studio  0.00\n",
      "5  Molecular Gastronomy Restaurant  0.00\n",
      "\n",
      "\n",
      "----Northwood Park, York University----\n",
      "                    venue  freq\n",
      "0          Massage Studio  0.14\n",
      "1    Caribbean Restaurant  0.14\n",
      "2           Metro Station  0.14\n",
      "3  Furniture / Home Store  0.14\n",
      "4             Coffee Shop  0.14\n",
      "5                     Bar  0.14\n",
      "\n",
      "\n",
      "----Old Mill South, King's Mill Park, Sunnylea, Humber Bay, Mimico NE, The Queensway East, Royal York South East, Kingsway Park South East----\n",
      "                             venue  freq\n",
      "0       Construction & Landscaping   0.5\n",
      "1                   Baseball Field   0.5\n",
      "2                      Yoga Studio   0.0\n",
      "3        Middle Eastern Restaurant   0.0\n",
      "4              Monument / Landmark   0.0\n",
      "5  Molecular Gastronomy Restaurant   0.0\n",
      "\n",
      "\n",
      "----Parkdale, Roncesvalles----\n",
      "            venue  freq\n",
      "0  Breakfast Spot  0.14\n",
      "1       Gift Shop  0.14\n",
      "2       Bookstore  0.07\n",
      "3     Coffee Shop  0.07\n",
      "4         Dog Run  0.07\n",
      "5             Bar  0.07\n",
      "\n",
      "\n",
      "----Parkview Hill, Woodbine Gardens----\n",
      "         venue  freq\n",
      "0  Pizza Place  0.14\n",
      "1  Coffee Shop  0.14\n",
      "2     Bus Line  0.07\n",
      "3         Bank  0.07\n",
      "4    Gastropub  0.07\n",
      "5         Road  0.07\n",
      "\n",
      "\n",
      "----Parkwoods----\n",
      "                             venue  freq\n",
      "0                             Park   0.5\n",
      "1                Food & Drink Shop   0.5\n",
      "2                      Yoga Studio   0.0\n",
      "3                    Metro Station   0.0\n",
      "4  Molecular Gastronomy Restaurant   0.0\n",
      "5       Modern European Restaurant   0.0\n",
      "\n",
      "\n",
      "----Queen's Park, Ontario Provincial Government----\n",
      "                 venue  freq\n",
      "0          Coffee Shop  0.24\n",
      "1    College Cafeteria  0.03\n",
      "2        Smoothie Shop  0.03\n",
      "3                 Café  0.03\n",
      "4  Fried Chicken Joint  0.03\n",
      "5       Sandwich Place  0.03\n",
      "\n",
      "\n",
      "----Regent Park, Harbourfront----\n",
      "            venue  freq\n",
      "0     Coffee Shop  0.18\n",
      "1            Park  0.09\n",
      "2             Pub  0.07\n",
      "3          Bakery  0.07\n",
      "4  Breakfast Spot  0.04\n",
      "5            Café  0.04\n",
      "\n",
      "\n",
      "----Richmond, Adelaide, King----\n",
      "         venue  freq\n",
      "0  Coffee Shop  0.08\n",
      "1         Café  0.05\n",
      "2   Restaurant  0.04\n",
      "3        Hotel  0.04\n",
      "4          Gym  0.04\n",
      "5          Bar  0.03\n",
      "\n",
      "\n",
      "----Rosedale----\n",
      "                        venue  freq\n",
      "0                        Park   0.4\n",
      "1                       Trail   0.2\n",
      "2                  Playground   0.2\n",
      "3                Tennis Court   0.2\n",
      "4                 Men's Store   0.0\n",
      "5  Modern European Restaurant   0.0\n",
      "\n",
      "\n",
      "----Roselawn----\n",
      "                        venue  freq\n",
      "0                      Garden  0.33\n",
      "1                    Dive Bar  0.33\n",
      "2                 Music Venue  0.33\n",
      "3                 Yoga Studio  0.00\n",
      "4         Monument / Landmark  0.00\n",
      "5  Modern European Restaurant  0.00\n",
      "\n",
      "\n",
      "----Rouge Hill, Port Union, Highland Creek----\n",
      "                             venue  freq\n",
      "0       Construction & Landscaping   0.5\n",
      "1                              Bar   0.5\n",
      "2                      Yoga Studio   0.0\n",
      "3        Middle Eastern Restaurant   0.0\n",
      "4              Monument / Landmark   0.0\n",
      "5  Molecular Gastronomy Restaurant   0.0\n",
      "\n",
      "\n",
      "----Runnymede, Swansea----\n",
      "                venue  freq\n",
      "0                Café  0.09\n",
      "1         Coffee Shop  0.09\n",
      "2    Sushi Restaurant  0.06\n",
      "3         Pizza Place  0.06\n",
      "4  Italian Restaurant  0.06\n",
      "5                 Pub  0.06\n",
      "\n",
      "\n",
      "----Runnymede, The Junction North----\n",
      "                venue  freq\n",
      "0   Convenience Store  0.25\n",
      "1      Breakfast Spot  0.25\n",
      "2             Brewery  0.25\n",
      "3            Bus Line  0.25\n",
      "4         Yoga Studio  0.00\n",
      "5  Miscellaneous Shop  0.00\n",
      "\n",
      "\n",
      "----Scarborough Village----\n",
      "                             venue  freq\n",
      "0                       Playground  0.33\n",
      "1                       Smoke Shop  0.33\n",
      "2                    Jewelry Store  0.33\n",
      "3                      Yoga Studio  0.00\n",
      "4               Mexican Restaurant  0.00\n",
      "5  Molecular Gastronomy Restaurant  0.00\n",
      "\n",
      "\n",
      "----South Steeles, Silverstone, Humbergate, Jamestown, Mount Olive, Beaumond Heights, Thistletown, Albion Gardens----\n",
      "                 venue  freq\n",
      "0          Pizza Place   0.2\n",
      "1        Grocery Store   0.2\n",
      "2             Pharmacy   0.1\n",
      "3           Beer Store   0.1\n",
      "4       Sandwich Place   0.1\n",
      "5  Fried Chicken Joint   0.1\n",
      "\n",
      "\n",
      "----St. James Town----\n",
      "          venue  freq\n",
      "0   Coffee Shop  0.07\n",
      "1          Café  0.06\n",
      "2  Cocktail Bar  0.05\n",
      "3    Restaurant  0.05\n",
      "4      Beer Bar  0.04\n",
      "5     Gastropub  0.04\n",
      "\n",
      "\n",
      "----St. James Town, Cabbagetown----\n",
      "                venue  freq\n",
      "0         Coffee Shop  0.08\n",
      "1         Pizza Place  0.06\n",
      "2                Café  0.06\n",
      "3          Restaurant  0.06\n",
      "4  Italian Restaurant  0.04\n",
      "5              Market  0.04\n",
      "\n",
      "\n",
      "----Steeles West, L'Amoreaux West----\n",
      "                  venue  freq\n",
      "0  Fast Food Restaurant  0.15\n",
      "1            Playground  0.08\n",
      "2         Grocery Store  0.08\n",
      "3           Pizza Place  0.08\n",
      "4        Sandwich Place  0.08\n",
      "5                  Bank  0.08\n",
      "\n",
      "\n",
      "----Stn A PO Boxes----\n",
      "                 venue  freq\n",
      "0          Coffee Shop  0.10\n",
      "1   Italian Restaurant  0.04\n",
      "2           Restaurant  0.03\n",
      "3  Japanese Restaurant  0.03\n",
      "4             Beer Bar  0.03\n",
      "5                Hotel  0.03\n",
      "\n",
      "\n",
      "----Studio District----\n",
      "                 venue  freq\n",
      "0          Coffee Shop  0.08\n",
      "1              Brewery  0.05\n",
      "2            Gastropub  0.05\n",
      "3                 Café  0.05\n",
      "4  American Restaurant  0.05\n",
      "5               Bakery  0.05\n",
      "\n",
      "\n",
      "----Summerhill West, Rathnelly, South Hill, Forest Hill SE, Deer Park----\n",
      "                 venue  freq\n",
      "0          Coffee Shop  0.14\n",
      "1          Pizza Place  0.07\n",
      "2                  Pub  0.07\n",
      "3         Liquor Store  0.07\n",
      "4   Light Rail Station  0.07\n",
      "5  Fried Chicken Joint  0.07\n",
      "\n",
      "\n",
      "----The Annex, North Midtown, Yorkville----\n",
      "                       venue  freq\n",
      "0                       Café  0.16\n",
      "1             Sandwich Place  0.16\n",
      "2                Coffee Shop  0.11\n",
      "3                   Pharmacy  0.05\n",
      "4                Pizza Place  0.05\n",
      "5  Middle Eastern Restaurant  0.05\n",
      "\n",
      "\n",
      "----The Beaches----\n",
      "                 venue  freq\n",
      "0    Health Food Store  0.25\n",
      "1                Trail  0.25\n",
      "2                  Pub  0.25\n",
      "3  Martial Arts School  0.00\n",
      "4       Massage Studio  0.00\n",
      "5       Medical Center  0.00\n",
      "\n",
      "\n",
      "----The Danforth West, Riverdale----\n",
      "                    venue  freq\n",
      "0        Greek Restaurant  0.16\n",
      "1             Coffee Shop  0.09\n",
      "2      Italian Restaurant  0.07\n",
      "3          Cosmetics Shop  0.05\n",
      "4  Furniture / Home Store  0.05\n",
      "5          Ice Cream Shop  0.05\n",
      "\n",
      "\n",
      "----The Kingsway, Montgomery Road, Old Mill North----\n",
      "                             venue  freq\n",
      "0                            River   0.5\n",
      "1                             Pool   0.5\n",
      "2                      Yoga Studio   0.0\n",
      "3               Mexican Restaurant   0.0\n",
      "4  Molecular Gastronomy Restaurant   0.0\n",
      "5       Modern European Restaurant   0.0\n",
      "\n",
      "\n",
      "----Thorncliffe Park----\n",
      "               venue  freq\n",
      "0     Sandwich Place  0.08\n",
      "1  Indian Restaurant  0.08\n",
      "2        Yoga Studio  0.04\n",
      "3               Bank  0.04\n",
      "4        Pizza Place  0.04\n",
      "5               Park  0.04\n",
      "\n",
      "\n",
      "----Toronto Dominion Centre, Design Exchange----\n",
      "                 venue  freq\n",
      "0          Coffee Shop  0.14\n",
      "1                Hotel  0.08\n",
      "2                 Café  0.05\n",
      "3           Restaurant  0.05\n",
      "4  Japanese Restaurant  0.03\n",
      "5   Seafood Restaurant  0.03\n",
      "\n",
      "\n",
      "----University of Toronto, Harbord----\n",
      "                 venue  freq\n",
      "0                 Café  0.15\n",
      "1            Bookstore  0.09\n",
      "2                  Bar  0.06\n",
      "3  Japanese Restaurant  0.06\n",
      "4       Sandwich Place  0.06\n",
      "5               Bakery  0.06\n",
      "\n",
      "\n",
      "----Victoria Village----\n",
      "                   venue  freq\n",
      "0            Pizza Place  0.17\n",
      "1           Hockey Arena  0.17\n",
      "2  Portuguese Restaurant  0.17\n",
      "3           Intersection  0.17\n",
      "4            Coffee Shop  0.17\n",
      "5      French Restaurant  0.17\n",
      "\n",
      "\n",
      "----West Deane Park, Princess Gardens, Martin Grove, Islington, Cloverdale----\n",
      "                             venue  freq\n",
      "0                       Print Shop   1.0\n",
      "1                      Yoga Studio   0.0\n",
      "2                    Metro Station   0.0\n",
      "3  Molecular Gastronomy Restaurant   0.0\n",
      "4       Modern European Restaurant   0.0\n",
      "5                Mobile Phone Shop   0.0\n",
      "\n",
      "\n",
      "----Westmount----\n",
      "                venue  freq\n",
      "0         Pizza Place  0.17\n",
      "1      Sandwich Place  0.17\n",
      "2        Intersection  0.17\n",
      "3  Chinese Restaurant  0.17\n",
      "4         Coffee Shop  0.17\n",
      "5      Discount Store  0.17\n",
      "\n",
      "\n",
      "----Weston----\n",
      "                             venue  freq\n",
      "0                             Park   1.0\n",
      "1                      Yoga Studio   0.0\n",
      "2                    Metro Station   0.0\n",
      "3  Molecular Gastronomy Restaurant   0.0\n",
      "4       Modern European Restaurant   0.0\n",
      "5                Mobile Phone Shop   0.0\n",
      "\n",
      "\n",
      "----Wexford, Maryvale----\n",
      "                       venue  freq\n",
      "0          Accessories Store  0.17\n",
      "1                 Smoke Shop  0.17\n",
      "2             Sandwich Place  0.17\n",
      "3                     Bakery  0.17\n",
      "4  Middle Eastern Restaurant  0.17\n",
      "5                Auto Garage  0.17\n",
      "\n",
      "\n",
      "----Willowdale, Willowdale East----\n",
      "                 venue  freq\n",
      "0     Ramen Restaurant  0.09\n",
      "1       Sandwich Place  0.06\n",
      "2     Sushi Restaurant  0.06\n",
      "3                 Café  0.06\n",
      "4          Coffee Shop  0.06\n",
      "5  Japanese Restaurant  0.06\n",
      "\n",
      "\n",
      "----Willowdale, Willowdale West----\n",
      "                       venue  freq\n",
      "0                Pizza Place   0.2\n",
      "1                   Pharmacy   0.2\n",
      "2                    Butcher   0.2\n",
      "3              Grocery Store   0.2\n",
      "4                Coffee Shop   0.2\n",
      "5  Middle Eastern Restaurant   0.0\n",
      "\n",
      "\n",
      "----Woburn----\n",
      "                             venue  freq\n",
      "0                      Coffee Shop  0.50\n",
      "1               Mexican Restaurant  0.25\n",
      "2            Korean BBQ Restaurant  0.25\n",
      "3        Middle Eastern Restaurant  0.00\n",
      "4              Monument / Landmark  0.00\n",
      "5  Molecular Gastronomy Restaurant  0.00\n",
      "\n",
      "\n",
      "----Woodbine Heights----\n",
      "          venue  freq\n",
      "0  Skating Rink  0.22\n",
      "1  Dance Studio  0.11\n",
      "2   Snack Place  0.11\n",
      "3          Park  0.11\n",
      "4    Beer Store  0.11\n",
      "5   Curling Ice  0.11\n",
      "\n",
      "\n",
      "----York Mills West----\n",
      "                             venue  freq\n",
      "0                             Park   0.5\n",
      "1                Convenience Store   0.5\n",
      "2                      Yoga Studio   0.0\n",
      "3               Mexican Restaurant   0.0\n",
      "4              Monument / Landmark   0.0\n",
      "5  Molecular Gastronomy Restaurant   0.0\n",
      "\n",
      "\n",
      "----York Mills, Silver Hills----\n",
      "                             venue  freq\n",
      "0              Martial Arts School   1.0\n",
      "1                      Yoga Studio   0.0\n",
      "2               Mexican Restaurant   0.0\n",
      "3              Monument / Landmark   0.0\n",
      "4  Molecular Gastronomy Restaurant   0.0\n",
      "5       Modern European Restaurant   0.0\n",
      "\n",
      "\n"
     ]
    }
   ],
   "source": [
    "num_top_venues = 6\n",
    "\n",
    "for hood in Toronto_grouped['Neighborhood']:\n",
    "    print(\"----\"+hood+\"----\")\n",
    "    temp = Toronto_grouped[Toronto_grouped['Neighborhood'] == hood].T.reset_index()\n",
    "    temp.columns = ['venue','freq']\n",
    "    temp = temp.iloc[1:]\n",
    "    temp['freq'] = temp['freq'].astype(float)\n",
    "    temp = temp.round({'freq': 2})\n",
    "    print(temp.sort_values('freq', ascending=False).reset_index(drop=True).head(num_top_venues))\n",
    "    print('\\n')"
   ]
  },
  {
   "source": [
    "We move it to a Pandas Dataframe"
   ],
   "cell_type": "markdown",
   "metadata": {}
  },
  {
   "cell_type": "code",
   "execution_count": 297,
   "metadata": {},
   "outputs": [
    {
     "output_type": "execute_result",
     "data": {
      "text/plain": [
       "                                        Neighborhood 1st Most Common Venue  \\\n",
       "0                                          Agincourt                Lounge   \n",
       "1                             Alderwood, Long Branch           Pizza Place   \n",
       "2    Bathurst Manor, Wilson Heights, Downsview North           Coffee Shop   \n",
       "3                                    Bayview Village                  Café   \n",
       "4                  Bedford Park, Lawrence Manor East           Coffee Shop   \n",
       "5                                        Berczy Park           Coffee Shop   \n",
       "6                        Birch Cliff, Cliffside West       College Stadium   \n",
       "7       Brockton, Parkdale Village, Exhibition Place                  Café   \n",
       "8  Business reply mail Processing Centre, South C...  Fast Food Restaurant   \n",
       "9  CN Tower, King and Spadina, Railway Lands, Har...        Airport Lounge   \n",
       "\n",
       "  2nd Most Common Venue      3rd Most Common Venue 4th Most Common Venue  \\\n",
       "0          Skating Rink  Latin American Restaurant        Breakfast Spot   \n",
       "1              Pharmacy                        Gym           Coffee Shop   \n",
       "2                  Bank         Chinese Restaurant           Bridal Shop   \n",
       "3   Japanese Restaurant                       Bank    Chinese Restaurant   \n",
       "4        Sandwich Place         Italian Restaurant      Greek Restaurant   \n",
       "5    Seafood Restaurant                     Bakery        Farmers Market   \n",
       "6          Skating Rink      General Entertainment                  Café   \n",
       "7           Coffee Shop             Breakfast Spot             Nightclub   \n",
       "8        Farmers Market                 Restaurant      Recording Studio   \n",
       "9       Airport Service            Harbor / Marina         Historic Site   \n",
       "\n",
       "  5th Most Common Venue 6th Most Common Venue 7th Most Common Venue  \\\n",
       "0        Clothing Store            Donut Shop        Discount Store   \n",
       "1        Sandwich Place                   Pub   Distribution Center   \n",
       "2        Sandwich Place                 Diner            Restaurant   \n",
       "3                 Diner   Distribution Center              Dive Bar   \n",
       "4      Sushi Restaurant              Pharmacy           Pizza Place   \n",
       "5           Cheese Shop            Restaurant              Beer Bar   \n",
       "6               Dog Run    Dim Sum Restaurant                 Diner   \n",
       "7             Pet Store               Stadium             Bookstore   \n",
       "8            Skate Park         Auto Workshop         Burrito Place   \n",
       "9                 Plane           Coffee Shop   Rental Car Location   \n",
       "\n",
       "  8th Most Common Venue      9th Most Common Venue 10th Most Common Venue  \n",
       "0   Distribution Center                   Dive Bar                Dog Run  \n",
       "1          Dessert Shop         Dim Sum Restaurant                  Diner  \n",
       "2         Deli / Bodega  Middle Eastern Restaurant            Supermarket  \n",
       "3               Dog Run           Doner Restaurant             Donut Shop  \n",
       "4                   Pub                       Café             Restaurant  \n",
       "5          Cocktail Bar           Department Store              Jazz Club  \n",
       "6        Discount Store        Distribution Center               Dive Bar  \n",
       "7         Burrito Place                 Restaurant           Climbing Gym  \n",
       "8                Garden              Garden Center                Butcher  \n",
       "9      Sculpture Garden              Boat or Ferry                    Bar  "
      ],
      "text/html": "<div>\n<style scoped>\n    .dataframe tbody tr th:only-of-type {\n        vertical-align: middle;\n    }\n\n    .dataframe tbody tr th {\n        vertical-align: top;\n    }\n\n    .dataframe thead th {\n        text-align: right;\n    }\n</style>\n<table border=\"1\" class=\"dataframe\">\n  <thead>\n    <tr style=\"text-align: right;\">\n      <th></th>\n      <th>Neighborhood</th>\n      <th>1st Most Common Venue</th>\n      <th>2nd Most Common Venue</th>\n      <th>3rd Most Common Venue</th>\n      <th>4th Most Common Venue</th>\n      <th>5th Most Common Venue</th>\n      <th>6th Most Common Venue</th>\n      <th>7th Most Common Venue</th>\n      <th>8th Most Common Venue</th>\n      <th>9th Most Common Venue</th>\n      <th>10th Most Common Venue</th>\n    </tr>\n  </thead>\n  <tbody>\n    <tr>\n      <th>0</th>\n      <td>Agincourt</td>\n      <td>Lounge</td>\n      <td>Skating Rink</td>\n      <td>Latin American Restaurant</td>\n      <td>Breakfast Spot</td>\n      <td>Clothing Store</td>\n      <td>Donut Shop</td>\n      <td>Discount Store</td>\n      <td>Distribution Center</td>\n      <td>Dive Bar</td>\n      <td>Dog Run</td>\n    </tr>\n    <tr>\n      <th>1</th>\n      <td>Alderwood, Long Branch</td>\n      <td>Pizza Place</td>\n      <td>Pharmacy</td>\n      <td>Gym</td>\n      <td>Coffee Shop</td>\n      <td>Sandwich Place</td>\n      <td>Pub</td>\n      <td>Distribution Center</td>\n      <td>Dessert Shop</td>\n      <td>Dim Sum Restaurant</td>\n      <td>Diner</td>\n    </tr>\n    <tr>\n      <th>2</th>\n      <td>Bathurst Manor, Wilson Heights, Downsview North</td>\n      <td>Coffee Shop</td>\n      <td>Bank</td>\n      <td>Chinese Restaurant</td>\n      <td>Bridal Shop</td>\n      <td>Sandwich Place</td>\n      <td>Diner</td>\n      <td>Restaurant</td>\n      <td>Deli / Bodega</td>\n      <td>Middle Eastern Restaurant</td>\n      <td>Supermarket</td>\n    </tr>\n    <tr>\n      <th>3</th>\n      <td>Bayview Village</td>\n      <td>Café</td>\n      <td>Japanese Restaurant</td>\n      <td>Bank</td>\n      <td>Chinese Restaurant</td>\n      <td>Diner</td>\n      <td>Distribution Center</td>\n      <td>Dive Bar</td>\n      <td>Dog Run</td>\n      <td>Doner Restaurant</td>\n      <td>Donut Shop</td>\n    </tr>\n    <tr>\n      <th>4</th>\n      <td>Bedford Park, Lawrence Manor East</td>\n      <td>Coffee Shop</td>\n      <td>Sandwich Place</td>\n      <td>Italian Restaurant</td>\n      <td>Greek Restaurant</td>\n      <td>Sushi Restaurant</td>\n      <td>Pharmacy</td>\n      <td>Pizza Place</td>\n      <td>Pub</td>\n      <td>Café</td>\n      <td>Restaurant</td>\n    </tr>\n    <tr>\n      <th>5</th>\n      <td>Berczy Park</td>\n      <td>Coffee Shop</td>\n      <td>Seafood Restaurant</td>\n      <td>Bakery</td>\n      <td>Farmers Market</td>\n      <td>Cheese Shop</td>\n      <td>Restaurant</td>\n      <td>Beer Bar</td>\n      <td>Cocktail Bar</td>\n      <td>Department Store</td>\n      <td>Jazz Club</td>\n    </tr>\n    <tr>\n      <th>6</th>\n      <td>Birch Cliff, Cliffside West</td>\n      <td>College Stadium</td>\n      <td>Skating Rink</td>\n      <td>General Entertainment</td>\n      <td>Café</td>\n      <td>Dog Run</td>\n      <td>Dim Sum Restaurant</td>\n      <td>Diner</td>\n      <td>Discount Store</td>\n      <td>Distribution Center</td>\n      <td>Dive Bar</td>\n    </tr>\n    <tr>\n      <th>7</th>\n      <td>Brockton, Parkdale Village, Exhibition Place</td>\n      <td>Café</td>\n      <td>Coffee Shop</td>\n      <td>Breakfast Spot</td>\n      <td>Nightclub</td>\n      <td>Pet Store</td>\n      <td>Stadium</td>\n      <td>Bookstore</td>\n      <td>Burrito Place</td>\n      <td>Restaurant</td>\n      <td>Climbing Gym</td>\n    </tr>\n    <tr>\n      <th>8</th>\n      <td>Business reply mail Processing Centre, South C...</td>\n      <td>Fast Food Restaurant</td>\n      <td>Farmers Market</td>\n      <td>Restaurant</td>\n      <td>Recording Studio</td>\n      <td>Skate Park</td>\n      <td>Auto Workshop</td>\n      <td>Burrito Place</td>\n      <td>Garden</td>\n      <td>Garden Center</td>\n      <td>Butcher</td>\n    </tr>\n    <tr>\n      <th>9</th>\n      <td>CN Tower, King and Spadina, Railway Lands, Har...</td>\n      <td>Airport Lounge</td>\n      <td>Airport Service</td>\n      <td>Harbor / Marina</td>\n      <td>Historic Site</td>\n      <td>Plane</td>\n      <td>Coffee Shop</td>\n      <td>Rental Car Location</td>\n      <td>Sculpture Garden</td>\n      <td>Boat or Ferry</td>\n      <td>Bar</td>\n    </tr>\n  </tbody>\n</table>\n</div>"
     },
     "metadata": {},
     "execution_count": 297
    }
   ],
   "source": [
    "def return_most_common_venues(row, num_top_venues):\n",
    "    row_categories = row.iloc[1:]\n",
    "    row_categories_sorted = row_categories.sort_values(ascending=False)\n",
    "    \n",
    "    return row_categories_sorted.index.values[0:num_top_venues]\n",
    "\n",
    "num_top_venues = 10\n",
    "\n",
    "indicators = ['st', 'nd', 'rd']\n",
    "\n",
    "# create columns according to number of top venues\n",
    "columns = ['Neighborhood']\n",
    "for ind in np.arange(num_top_venues):\n",
    "    try:\n",
    "        columns.append('{}{} Most Common Venue'.format(ind+1, indicators[ind]))\n",
    "    except:\n",
    "        columns.append('{}th Most Common Venue'.format(ind+1))\n",
    "\n",
    "# create a new dataframe\n",
    "neighborhoods_venues_sorted = pd.DataFrame(columns=columns)\n",
    "neighborhoods_venues_sorted['Neighborhood'] = Toronto_grouped['Neighborhood']\n",
    "\n",
    "for ind in np.arange(Toronto_grouped.shape[0]):\n",
    "    neighborhoods_venues_sorted.iloc[ind, 1:] = return_most_common_venues(Toronto_grouped.iloc[ind, :], num_top_venues)\n",
    "\n",
    "neighborhoods_venues_sorted.head(10)"
   ]
  },
  {
   "source": [
    "#### Cluster Neighborhoods--Running k-means"
   ],
   "cell_type": "markdown",
   "metadata": {}
  },
  {
   "cell_type": "code",
   "execution_count": 427,
   "metadata": {},
   "outputs": [
    {
     "output_type": "stream",
     "name": "stdout",
     "text": [
      "We set number of clusters in 6\n"
     ]
    },
    {
     "output_type": "execute_result",
     "data": {
      "text/plain": [
       "array([1, 1, 1, 1, 1, 1, 1, 1, 1, 1, 0, 1, 1, 1, 1, 1, 1, 1, 1, 1, 1, 1,\n",
       "       1, 1, 1, 1, 0, 1, 1, 1, 1, 1, 1, 1, 1, 1, 1, 1, 1, 5, 1, 1, 1, 1,\n",
       "       1, 1, 0, 1, 1, 4, 0, 1, 1, 1, 0, 1, 1, 1, 5, 1, 1, 0, 1, 1, 1, 0,\n",
       "       1, 1, 1, 1, 1, 1, 1, 1, 1, 1, 1, 1, 1, 1, 1, 1, 1, 1, 1, 1, 3, 1,\n",
       "       0, 1, 1, 1, 1, 1, 0, 2])"
      ]
     },
     "metadata": {},
     "execution_count": 427
    }
   ],
   "source": [
    "print('We set number of clusters in 6')\n",
    "kclusters = 6\n",
    "\n",
    "Toronto_grouped_clustering = Toronto_grouped.drop('Neighborhood', 1)\n",
    "\n",
    "kmeans = KMeans(n_clusters=kclusters, random_state=0).fit(Toronto_grouped_clustering)\n",
    "\n",
    "kmeans.labels_[0:100]"
   ]
  },
  {
   "source": [
    "Take the Top 10 venues of every Neighborhood"
   ],
   "cell_type": "markdown",
   "metadata": {}
  },
  {
   "cell_type": "code",
   "execution_count": 428,
   "metadata": {},
   "outputs": [
    {
     "output_type": "execute_result",
     "data": {
      "text/plain": [
       "  Postal Code      Borough                            Neighborhood  \\\n",
       "0         M1B  Scarborough                          Malvern, Rouge   \n",
       "1         M1C  Scarborough  Rouge Hill, Port Union, Highland Creek   \n",
       "2         M1E  Scarborough       Guildwood, Morningside, West Hill   \n",
       "3         M1G  Scarborough                                  Woburn   \n",
       "4         M1H  Scarborough                               Cedarbrae   \n",
       "\n",
       "  Postal Code   Latitude  Longitude  \n",
       "0         M1B  43.806686 -79.194353  \n",
       "1         M1C  43.784535 -79.160497  \n",
       "2         M1E  43.763573 -79.188711  \n",
       "3         M1G  43.770992 -79.216917  \n",
       "4         M1H  43.773136 -79.239476  "
      ],
      "text/html": "<div>\n<style scoped>\n    .dataframe tbody tr th:only-of-type {\n        vertical-align: middle;\n    }\n\n    .dataframe tbody tr th {\n        vertical-align: top;\n    }\n\n    .dataframe thead th {\n        text-align: right;\n    }\n</style>\n<table border=\"1\" class=\"dataframe\">\n  <thead>\n    <tr style=\"text-align: right;\">\n      <th></th>\n      <th>Postal Code</th>\n      <th>Borough</th>\n      <th>Neighborhood</th>\n      <th>Postal Code</th>\n      <th>Latitude</th>\n      <th>Longitude</th>\n    </tr>\n  </thead>\n  <tbody>\n    <tr>\n      <th>0</th>\n      <td>M1B</td>\n      <td>Scarborough</td>\n      <td>Malvern, Rouge</td>\n      <td>M1B</td>\n      <td>43.806686</td>\n      <td>-79.194353</td>\n    </tr>\n    <tr>\n      <th>1</th>\n      <td>M1C</td>\n      <td>Scarborough</td>\n      <td>Rouge Hill, Port Union, Highland Creek</td>\n      <td>M1C</td>\n      <td>43.784535</td>\n      <td>-79.160497</td>\n    </tr>\n    <tr>\n      <th>2</th>\n      <td>M1E</td>\n      <td>Scarborough</td>\n      <td>Guildwood, Morningside, West Hill</td>\n      <td>M1E</td>\n      <td>43.763573</td>\n      <td>-79.188711</td>\n    </tr>\n    <tr>\n      <th>3</th>\n      <td>M1G</td>\n      <td>Scarborough</td>\n      <td>Woburn</td>\n      <td>M1G</td>\n      <td>43.770992</td>\n      <td>-79.216917</td>\n    </tr>\n    <tr>\n      <th>4</th>\n      <td>M1H</td>\n      <td>Scarborough</td>\n      <td>Cedarbrae</td>\n      <td>M1H</td>\n      <td>43.773136</td>\n      <td>-79.239476</td>\n    </tr>\n  </tbody>\n</table>\n</div>"
     },
     "metadata": {},
     "execution_count": 428
    }
   ],
   "source": [
    "ta.rename(columns={'Neighbourhood': 'Neighborhood'}, inplace=True)\n",
    "ta.head()"
   ]
  },
  {
   "source": [
    "We merge everything into a Dataframe"
   ],
   "cell_type": "markdown",
   "metadata": {}
  },
  {
   "cell_type": "code",
   "execution_count": 429,
   "metadata": {},
   "outputs": [
    {
     "output_type": "execute_result",
     "data": {
      "text/plain": [
       "   Postal Code      Borough  \\\n",
       "0          M1B  Scarborough   \n",
       "1          M1C  Scarborough   \n",
       "2          M1E  Scarborough   \n",
       "3          M1G  Scarborough   \n",
       "4          M1H  Scarborough   \n",
       "5          M1J  Scarborough   \n",
       "6          M1K  Scarborough   \n",
       "7          M1L  Scarborough   \n",
       "8          M1M  Scarborough   \n",
       "9          M1N  Scarborough   \n",
       "10         M1P  Scarborough   \n",
       "11         M1R  Scarborough   \n",
       "12         M1S  Scarborough   \n",
       "13         M1T  Scarborough   \n",
       "14         M1V  Scarborough   \n",
       "15         M1W  Scarborough   \n",
       "16         M1X  Scarborough   \n",
       "17         M2H   North York   \n",
       "18         M2J   North York   \n",
       "19         M2K   North York   \n",
       "\n",
       "                                         Neighborhood Postal Code   Latitude  \\\n",
       "0                                      Malvern, Rouge         M1B  43.806686   \n",
       "1              Rouge Hill, Port Union, Highland Creek         M1C  43.784535   \n",
       "2                   Guildwood, Morningside, West Hill         M1E  43.763573   \n",
       "3                                              Woburn         M1G  43.770992   \n",
       "4                                           Cedarbrae         M1H  43.773136   \n",
       "5                                 Scarborough Village         M1J  43.744734   \n",
       "6         Kennedy Park, Ionview, East Birchmount Park         M1K  43.727929   \n",
       "7                     Golden Mile, Clairlea, Oakridge         M1L  43.711112   \n",
       "8     Cliffside, Cliffcrest, Scarborough Village West         M1M  43.716316   \n",
       "9                         Birch Cliff, Cliffside West         M1N  43.692657   \n",
       "10  Dorset Park, Wexford Heights, Scarborough Town...         M1P  43.757410   \n",
       "11                                  Wexford, Maryvale         M1R  43.750072   \n",
       "12                                          Agincourt         M1S  43.794200   \n",
       "13            Clarks Corners, Tam O'Shanter, Sullivan         M1T  43.781638   \n",
       "14  Milliken, Agincourt North, Steeles East, L'Amo...         M1V  43.815252   \n",
       "15                      Steeles West, L'Amoreaux West         M1W  43.799525   \n",
       "16                                        Upper Rouge         M1X  43.836125   \n",
       "17                                  Hillcrest Village         M2H  43.803762   \n",
       "18                       Fairview, Henry Farm, Oriole         M2J  43.778517   \n",
       "19                                    Bayview Village         M2K  43.786947   \n",
       "\n",
       "    Longitude  Cluster Labels       1st Most Common Venue  \\\n",
       "0  -79.194353             4.0        Fast Food Restaurant   \n",
       "1  -79.160497             1.0  Construction & Landscaping   \n",
       "2  -79.188711             1.0          Mexican Restaurant   \n",
       "3  -79.216917             1.0                 Coffee Shop   \n",
       "4  -79.239476             1.0            Hakka Restaurant   \n",
       "5  -79.239476             1.0                  Playground   \n",
       "6  -79.262029             1.0            Department Store   \n",
       "7  -79.284577             1.0                    Bus Line   \n",
       "8  -79.239476             1.0                       Motel   \n",
       "9  -79.264848             1.0             College Stadium   \n",
       "10 -79.273304             1.0           Indian Restaurant   \n",
       "11 -79.295849             1.0                 Auto Garage   \n",
       "12 -79.262029             1.0                      Lounge   \n",
       "13 -79.304302             1.0                 Pizza Place   \n",
       "14 -79.284577             0.0                        Park   \n",
       "15 -79.318389             1.0        Fast Food Restaurant   \n",
       "16 -79.205636             NaN                         NaN   \n",
       "17 -79.363452             1.0          Athletics & Sports   \n",
       "18 -79.346556             1.0              Clothing Store   \n",
       "19 -79.385975             1.0                        Café   \n",
       "\n",
       "        2nd Most Common Venue      3rd Most Common Venue  \\\n",
       "0                  Donut Shop                      Diner   \n",
       "1                         Bar              Women's Store   \n",
       "2           Electronics Store                 Restaurant   \n",
       "3          Mexican Restaurant      Korean BBQ Restaurant   \n",
       "4          Athletics & Sports                     Bakery   \n",
       "5                  Smoke Shop              Jewelry Store   \n",
       "6                 Coffee Shop                 Hobby Shop   \n",
       "7                      Bakery               Soccer Field   \n",
       "8         American Restaurant              Women's Store   \n",
       "9                Skating Rink      General Entertainment   \n",
       "10                  Pet Store      Vietnamese Restaurant   \n",
       "11  Middle Eastern Restaurant             Sandwich Place   \n",
       "12               Skating Rink  Latin American Restaurant   \n",
       "13                   Pharmacy                Gas Station   \n",
       "14                 Playground                     Bakery   \n",
       "15                   Pharmacy                       Bank   \n",
       "16                        NaN                        NaN   \n",
       "17                       Pool                Golf Course   \n",
       "18                Coffee Shop       Fast Food Restaurant   \n",
       "19        Japanese Restaurant                       Bank   \n",
       "\n",
       "   4th Most Common Venue     5th Most Common Venue 6th Most Common Venue  \\\n",
       "0         Discount Store       Distribution Center              Dive Bar   \n",
       "1              Drugstore       Distribution Center              Dive Bar   \n",
       "2         Breakfast Spot       Rental Car Location        Medical Center   \n",
       "3          Women's Store                Donut Shop        Discount Store   \n",
       "4            Gas Station      Caribbean Restaurant       Thai Restaurant   \n",
       "5          Women's Store          Doner Restaurant                 Diner   \n",
       "6          Train Station                 Drugstore        Discount Store   \n",
       "7         Ice Cream Shop               Bus Station         Metro Station   \n",
       "8     Dim Sum Restaurant            Discount Store   Distribution Center   \n",
       "9                   Café                   Dog Run    Dim Sum Restaurant   \n",
       "10    Chinese Restaurant          Doner Restaurant                 Diner   \n",
       "11                Bakery                Smoke Shop     Accessories Store   \n",
       "12        Breakfast Spot            Clothing Store            Donut Shop   \n",
       "13   Fried Chicken Joint        Italian Restaurant                  Bank   \n",
       "14          Intersection             Women's Store      Doner Restaurant   \n",
       "15         Grocery Store         Indian Restaurant           Pizza Place   \n",
       "16                   NaN                       NaN                   NaN   \n",
       "17               Dog Run  Mediterranean Restaurant         Women's Store   \n",
       "18   Japanese Restaurant                 Juice Bar         Women's Store   \n",
       "19    Chinese Restaurant                     Diner   Distribution Center   \n",
       "\n",
       "   7th Most Common Venue       8th Most Common Venue 9th Most Common Venue  \\\n",
       "0                Dog Run            Doner Restaurant             Drugstore   \n",
       "1                Dog Run            Doner Restaurant            Donut Shop   \n",
       "2           Intersection                        Bank         Women's Store   \n",
       "3    Distribution Center                    Dive Bar               Dog Run   \n",
       "4                   Bank         Fried Chicken Joint              Dive Bar   \n",
       "5         Discount Store         Distribution Center              Dive Bar   \n",
       "6    Distribution Center                    Dive Bar               Dog Run   \n",
       "7           Intersection                        Park     German Restaurant   \n",
       "8               Dive Bar                     Dog Run      Doner Restaurant   \n",
       "9                  Diner              Discount Store   Distribution Center   \n",
       "10        Discount Store         Distribution Center              Dive Bar   \n",
       "11          Concert Hall  Construction & Landscaping  Ethiopian Restaurant   \n",
       "12        Discount Store         Distribution Center              Dive Bar   \n",
       "13    Chinese Restaurant             Thai Restaurant          Intersection   \n",
       "14                 Diner              Discount Store   Distribution Center   \n",
       "15            Playground                 Coffee Shop    Chinese Restaurant   \n",
       "16                   NaN                         NaN                   NaN   \n",
       "17            Donut Shop              Discount Store   Distribution Center   \n",
       "18            Food Court                  Shoe Store                  Bank   \n",
       "19              Dive Bar                     Dog Run      Doner Restaurant   \n",
       "\n",
       "   10th Most Common Venue  \n",
       "0          Farmers Market  \n",
       "1     Dumpling Restaurant  \n",
       "2          Discount Store  \n",
       "3        Doner Restaurant  \n",
       "4     Distribution Center  \n",
       "5                 Dog Run  \n",
       "6        Doner Restaurant  \n",
       "7          General Travel  \n",
       "8              Donut Shop  \n",
       "9                Dive Bar  \n",
       "10                Dog Run  \n",
       "11            Escape Room  \n",
       "12                Dog Run  \n",
       "13           Noodle House  \n",
       "14               Dive Bar  \n",
       "15         Sandwich Place  \n",
       "16                    NaN  \n",
       "17               Dive Bar  \n",
       "18                 Bakery  \n",
       "19             Donut Shop  "
      ],
      "text/html": "<div>\n<style scoped>\n    .dataframe tbody tr th:only-of-type {\n        vertical-align: middle;\n    }\n\n    .dataframe tbody tr th {\n        vertical-align: top;\n    }\n\n    .dataframe thead th {\n        text-align: right;\n    }\n</style>\n<table border=\"1\" class=\"dataframe\">\n  <thead>\n    <tr style=\"text-align: right;\">\n      <th></th>\n      <th>Postal Code</th>\n      <th>Borough</th>\n      <th>Neighborhood</th>\n      <th>Postal Code</th>\n      <th>Latitude</th>\n      <th>Longitude</th>\n      <th>Cluster Labels</th>\n      <th>1st Most Common Venue</th>\n      <th>2nd Most Common Venue</th>\n      <th>3rd Most Common Venue</th>\n      <th>4th Most Common Venue</th>\n      <th>5th Most Common Venue</th>\n      <th>6th Most Common Venue</th>\n      <th>7th Most Common Venue</th>\n      <th>8th Most Common Venue</th>\n      <th>9th Most Common Venue</th>\n      <th>10th Most Common Venue</th>\n    </tr>\n  </thead>\n  <tbody>\n    <tr>\n      <th>0</th>\n      <td>M1B</td>\n      <td>Scarborough</td>\n      <td>Malvern, Rouge</td>\n      <td>M1B</td>\n      <td>43.806686</td>\n      <td>-79.194353</td>\n      <td>4.0</td>\n      <td>Fast Food Restaurant</td>\n      <td>Donut Shop</td>\n      <td>Diner</td>\n      <td>Discount Store</td>\n      <td>Distribution Center</td>\n      <td>Dive Bar</td>\n      <td>Dog Run</td>\n      <td>Doner Restaurant</td>\n      <td>Drugstore</td>\n      <td>Farmers Market</td>\n    </tr>\n    <tr>\n      <th>1</th>\n      <td>M1C</td>\n      <td>Scarborough</td>\n      <td>Rouge Hill, Port Union, Highland Creek</td>\n      <td>M1C</td>\n      <td>43.784535</td>\n      <td>-79.160497</td>\n      <td>1.0</td>\n      <td>Construction &amp; Landscaping</td>\n      <td>Bar</td>\n      <td>Women's Store</td>\n      <td>Drugstore</td>\n      <td>Distribution Center</td>\n      <td>Dive Bar</td>\n      <td>Dog Run</td>\n      <td>Doner Restaurant</td>\n      <td>Donut Shop</td>\n      <td>Dumpling Restaurant</td>\n    </tr>\n    <tr>\n      <th>2</th>\n      <td>M1E</td>\n      <td>Scarborough</td>\n      <td>Guildwood, Morningside, West Hill</td>\n      <td>M1E</td>\n      <td>43.763573</td>\n      <td>-79.188711</td>\n      <td>1.0</td>\n      <td>Mexican Restaurant</td>\n      <td>Electronics Store</td>\n      <td>Restaurant</td>\n      <td>Breakfast Spot</td>\n      <td>Rental Car Location</td>\n      <td>Medical Center</td>\n      <td>Intersection</td>\n      <td>Bank</td>\n      <td>Women's Store</td>\n      <td>Discount Store</td>\n    </tr>\n    <tr>\n      <th>3</th>\n      <td>M1G</td>\n      <td>Scarborough</td>\n      <td>Woburn</td>\n      <td>M1G</td>\n      <td>43.770992</td>\n      <td>-79.216917</td>\n      <td>1.0</td>\n      <td>Coffee Shop</td>\n      <td>Mexican Restaurant</td>\n      <td>Korean BBQ Restaurant</td>\n      <td>Women's Store</td>\n      <td>Donut Shop</td>\n      <td>Discount Store</td>\n      <td>Distribution Center</td>\n      <td>Dive Bar</td>\n      <td>Dog Run</td>\n      <td>Doner Restaurant</td>\n    </tr>\n    <tr>\n      <th>4</th>\n      <td>M1H</td>\n      <td>Scarborough</td>\n      <td>Cedarbrae</td>\n      <td>M1H</td>\n      <td>43.773136</td>\n      <td>-79.239476</td>\n      <td>1.0</td>\n      <td>Hakka Restaurant</td>\n      <td>Athletics &amp; Sports</td>\n      <td>Bakery</td>\n      <td>Gas Station</td>\n      <td>Caribbean Restaurant</td>\n      <td>Thai Restaurant</td>\n      <td>Bank</td>\n      <td>Fried Chicken Joint</td>\n      <td>Dive Bar</td>\n      <td>Distribution Center</td>\n    </tr>\n    <tr>\n      <th>5</th>\n      <td>M1J</td>\n      <td>Scarborough</td>\n      <td>Scarborough Village</td>\n      <td>M1J</td>\n      <td>43.744734</td>\n      <td>-79.239476</td>\n      <td>1.0</td>\n      <td>Playground</td>\n      <td>Smoke Shop</td>\n      <td>Jewelry Store</td>\n      <td>Women's Store</td>\n      <td>Doner Restaurant</td>\n      <td>Diner</td>\n      <td>Discount Store</td>\n      <td>Distribution Center</td>\n      <td>Dive Bar</td>\n      <td>Dog Run</td>\n    </tr>\n    <tr>\n      <th>6</th>\n      <td>M1K</td>\n      <td>Scarborough</td>\n      <td>Kennedy Park, Ionview, East Birchmount Park</td>\n      <td>M1K</td>\n      <td>43.727929</td>\n      <td>-79.262029</td>\n      <td>1.0</td>\n      <td>Department Store</td>\n      <td>Coffee Shop</td>\n      <td>Hobby Shop</td>\n      <td>Train Station</td>\n      <td>Drugstore</td>\n      <td>Discount Store</td>\n      <td>Distribution Center</td>\n      <td>Dive Bar</td>\n      <td>Dog Run</td>\n      <td>Doner Restaurant</td>\n    </tr>\n    <tr>\n      <th>7</th>\n      <td>M1L</td>\n      <td>Scarborough</td>\n      <td>Golden Mile, Clairlea, Oakridge</td>\n      <td>M1L</td>\n      <td>43.711112</td>\n      <td>-79.284577</td>\n      <td>1.0</td>\n      <td>Bus Line</td>\n      <td>Bakery</td>\n      <td>Soccer Field</td>\n      <td>Ice Cream Shop</td>\n      <td>Bus Station</td>\n      <td>Metro Station</td>\n      <td>Intersection</td>\n      <td>Park</td>\n      <td>German Restaurant</td>\n      <td>General Travel</td>\n    </tr>\n    <tr>\n      <th>8</th>\n      <td>M1M</td>\n      <td>Scarborough</td>\n      <td>Cliffside, Cliffcrest, Scarborough Village West</td>\n      <td>M1M</td>\n      <td>43.716316</td>\n      <td>-79.239476</td>\n      <td>1.0</td>\n      <td>Motel</td>\n      <td>American Restaurant</td>\n      <td>Women's Store</td>\n      <td>Dim Sum Restaurant</td>\n      <td>Discount Store</td>\n      <td>Distribution Center</td>\n      <td>Dive Bar</td>\n      <td>Dog Run</td>\n      <td>Doner Restaurant</td>\n      <td>Donut Shop</td>\n    </tr>\n    <tr>\n      <th>9</th>\n      <td>M1N</td>\n      <td>Scarborough</td>\n      <td>Birch Cliff, Cliffside West</td>\n      <td>M1N</td>\n      <td>43.692657</td>\n      <td>-79.264848</td>\n      <td>1.0</td>\n      <td>College Stadium</td>\n      <td>Skating Rink</td>\n      <td>General Entertainment</td>\n      <td>Café</td>\n      <td>Dog Run</td>\n      <td>Dim Sum Restaurant</td>\n      <td>Diner</td>\n      <td>Discount Store</td>\n      <td>Distribution Center</td>\n      <td>Dive Bar</td>\n    </tr>\n    <tr>\n      <th>10</th>\n      <td>M1P</td>\n      <td>Scarborough</td>\n      <td>Dorset Park, Wexford Heights, Scarborough Town...</td>\n      <td>M1P</td>\n      <td>43.757410</td>\n      <td>-79.273304</td>\n      <td>1.0</td>\n      <td>Indian Restaurant</td>\n      <td>Pet Store</td>\n      <td>Vietnamese Restaurant</td>\n      <td>Chinese Restaurant</td>\n      <td>Doner Restaurant</td>\n      <td>Diner</td>\n      <td>Discount Store</td>\n      <td>Distribution Center</td>\n      <td>Dive Bar</td>\n      <td>Dog Run</td>\n    </tr>\n    <tr>\n      <th>11</th>\n      <td>M1R</td>\n      <td>Scarborough</td>\n      <td>Wexford, Maryvale</td>\n      <td>M1R</td>\n      <td>43.750072</td>\n      <td>-79.295849</td>\n      <td>1.0</td>\n      <td>Auto Garage</td>\n      <td>Middle Eastern Restaurant</td>\n      <td>Sandwich Place</td>\n      <td>Bakery</td>\n      <td>Smoke Shop</td>\n      <td>Accessories Store</td>\n      <td>Concert Hall</td>\n      <td>Construction &amp; Landscaping</td>\n      <td>Ethiopian Restaurant</td>\n      <td>Escape Room</td>\n    </tr>\n    <tr>\n      <th>12</th>\n      <td>M1S</td>\n      <td>Scarborough</td>\n      <td>Agincourt</td>\n      <td>M1S</td>\n      <td>43.794200</td>\n      <td>-79.262029</td>\n      <td>1.0</td>\n      <td>Lounge</td>\n      <td>Skating Rink</td>\n      <td>Latin American Restaurant</td>\n      <td>Breakfast Spot</td>\n      <td>Clothing Store</td>\n      <td>Donut Shop</td>\n      <td>Discount Store</td>\n      <td>Distribution Center</td>\n      <td>Dive Bar</td>\n      <td>Dog Run</td>\n    </tr>\n    <tr>\n      <th>13</th>\n      <td>M1T</td>\n      <td>Scarborough</td>\n      <td>Clarks Corners, Tam O'Shanter, Sullivan</td>\n      <td>M1T</td>\n      <td>43.781638</td>\n      <td>-79.304302</td>\n      <td>1.0</td>\n      <td>Pizza Place</td>\n      <td>Pharmacy</td>\n      <td>Gas Station</td>\n      <td>Fried Chicken Joint</td>\n      <td>Italian Restaurant</td>\n      <td>Bank</td>\n      <td>Chinese Restaurant</td>\n      <td>Thai Restaurant</td>\n      <td>Intersection</td>\n      <td>Noodle House</td>\n    </tr>\n    <tr>\n      <th>14</th>\n      <td>M1V</td>\n      <td>Scarborough</td>\n      <td>Milliken, Agincourt North, Steeles East, L'Amo...</td>\n      <td>M1V</td>\n      <td>43.815252</td>\n      <td>-79.284577</td>\n      <td>0.0</td>\n      <td>Park</td>\n      <td>Playground</td>\n      <td>Bakery</td>\n      <td>Intersection</td>\n      <td>Women's Store</td>\n      <td>Doner Restaurant</td>\n      <td>Diner</td>\n      <td>Discount Store</td>\n      <td>Distribution Center</td>\n      <td>Dive Bar</td>\n    </tr>\n    <tr>\n      <th>15</th>\n      <td>M1W</td>\n      <td>Scarborough</td>\n      <td>Steeles West, L'Amoreaux West</td>\n      <td>M1W</td>\n      <td>43.799525</td>\n      <td>-79.318389</td>\n      <td>1.0</td>\n      <td>Fast Food Restaurant</td>\n      <td>Pharmacy</td>\n      <td>Bank</td>\n      <td>Grocery Store</td>\n      <td>Indian Restaurant</td>\n      <td>Pizza Place</td>\n      <td>Playground</td>\n      <td>Coffee Shop</td>\n      <td>Chinese Restaurant</td>\n      <td>Sandwich Place</td>\n    </tr>\n    <tr>\n      <th>16</th>\n      <td>M1X</td>\n      <td>Scarborough</td>\n      <td>Upper Rouge</td>\n      <td>M1X</td>\n      <td>43.836125</td>\n      <td>-79.205636</td>\n      <td>NaN</td>\n      <td>NaN</td>\n      <td>NaN</td>\n      <td>NaN</td>\n      <td>NaN</td>\n      <td>NaN</td>\n      <td>NaN</td>\n      <td>NaN</td>\n      <td>NaN</td>\n      <td>NaN</td>\n      <td>NaN</td>\n    </tr>\n    <tr>\n      <th>17</th>\n      <td>M2H</td>\n      <td>North York</td>\n      <td>Hillcrest Village</td>\n      <td>M2H</td>\n      <td>43.803762</td>\n      <td>-79.363452</td>\n      <td>1.0</td>\n      <td>Athletics &amp; Sports</td>\n      <td>Pool</td>\n      <td>Golf Course</td>\n      <td>Dog Run</td>\n      <td>Mediterranean Restaurant</td>\n      <td>Women's Store</td>\n      <td>Donut Shop</td>\n      <td>Discount Store</td>\n      <td>Distribution Center</td>\n      <td>Dive Bar</td>\n    </tr>\n    <tr>\n      <th>18</th>\n      <td>M2J</td>\n      <td>North York</td>\n      <td>Fairview, Henry Farm, Oriole</td>\n      <td>M2J</td>\n      <td>43.778517</td>\n      <td>-79.346556</td>\n      <td>1.0</td>\n      <td>Clothing Store</td>\n      <td>Coffee Shop</td>\n      <td>Fast Food Restaurant</td>\n      <td>Japanese Restaurant</td>\n      <td>Juice Bar</td>\n      <td>Women's Store</td>\n      <td>Food Court</td>\n      <td>Shoe Store</td>\n      <td>Bank</td>\n      <td>Bakery</td>\n    </tr>\n    <tr>\n      <th>19</th>\n      <td>M2K</td>\n      <td>North York</td>\n      <td>Bayview Village</td>\n      <td>M2K</td>\n      <td>43.786947</td>\n      <td>-79.385975</td>\n      <td>1.0</td>\n      <td>Café</td>\n      <td>Japanese Restaurant</td>\n      <td>Bank</td>\n      <td>Chinese Restaurant</td>\n      <td>Diner</td>\n      <td>Distribution Center</td>\n      <td>Dive Bar</td>\n      <td>Dog Run</td>\n      <td>Doner Restaurant</td>\n      <td>Donut Shop</td>\n    </tr>\n  </tbody>\n</table>\n</div>"
     },
     "metadata": {},
     "execution_count": 429
    }
   ],
   "source": [
    "# add clustering labels\n",
    "neighborhoods_venues_sorted.insert(0, 'Cluster Labels', kmeans.labels_)\n",
    "Toronto_merged = ta\n",
    "\n",
    "# merge toronto_grouped with toronto_data to add latitude/longitude for each neighborhood\n",
    "Toronto_merged = Toronto_merged.join(neighborhoods_venues_sorted.set_index('Neighborhood'), on='Neighborhood')\n",
    "Toronto_merged.head(20) # check the last columns!"
   ]
  },
  {
   "cell_type": "code",
   "execution_count": 430,
   "metadata": {},
   "outputs": [],
   "source": [
    "Toronto_merged['Cluster Labels'] = Toronto_merged['Cluster Labels'].fillna(0).astype(int)"
   ]
  },
  {
   "source": [
    "We show everything in the map"
   ],
   "cell_type": "markdown",
   "metadata": {}
  },
  {
   "cell_type": "code",
   "execution_count": 431,
   "metadata": {},
   "outputs": [
    {
     "output_type": "execute_result",
     "data": {
      "text/plain": [
       "<folium.folium.Map at 0x1a91b788190>"
      ],
      "text/html": "<div style=\"width:100%;\"><div style=\"position:relative;width:100%;height:0;padding-bottom:60%;\"><span style=\"color:#565656\">Make this Notebook Trusted to load map: File -> Trust Notebook</span><iframe src=\"about:blank\" style=\"position:absolute;width:100%;height:100%;left:0;top:0;border:none !important;\" data-html=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 onload=\"this.contentDocument.open();this.contentDocument.write(atob(this.getAttribute('data-html')));this.contentDocument.close();\" allowfullscreen webkitallowfullscreen mozallowfullscreen></iframe></div></div>"
     },
     "metadata": {},
     "execution_count": 431
    }
   ],
   "source": [
    "map_clusters = folium.Map(location=[latitude, longitude], zoom_start=11)\n",
    "\n",
    "x = np.arange(kclusters)\n",
    "ys = [i + x + (i*x)**2 for i in range(kclusters)]\n",
    "colors_array = cm.rainbow(np.linspace(0, 1, len(ys)))\n",
    "rainbow = [colors.rgb2hex(i) for i in colors_array]\n",
    "\n",
    "markers_colors = []\n",
    "for lat, lon, poi, cluster in zip(Toronto_merged['Latitude'], Toronto_merged['Longitude'], Toronto_merged['Neighborhood'], Toronto_merged['Cluster Labels']):\n",
    "    label = folium.Popup(str(poi) + ' Cluster ' + str(cluster), parse_html=True)\n",
    "    folium.CircleMarker(\n",
    "        [lat, lon],\n",
    "        radius=5,\n",
    "        popup=label,\n",
    "        color=rainbow[cluster-1],\n",
    "        fill=True,\n",
    "        fill_color=rainbow[cluster-1],\n",
    "        fill_opacity=0.7).add_to(map_clusters)\n",
    "       \n",
    "map_clusters"
   ]
  },
  {
   "cell_type": "code",
   "execution_count": 432,
   "metadata": {},
   "outputs": [
    {
     "output_type": "execute_result",
     "data": {
      "text/plain": [
       "{0, 1, 2, 3, 4, 5}"
      ]
     },
     "metadata": {},
     "execution_count": 432
    }
   ],
   "source": [
    "print('Complete the dataframe with the Cluster Labels')\n",
    "set(Toronto_merged['Cluster Labels'].sort_values())"
   ]
  },
  {
   "cell_type": "code",
   "execution_count": 433,
   "metadata": {},
   "outputs": [
    {
     "output_type": "execute_result",
     "data": {
      "text/plain": [
       "{0, 1, 2, 3, 4, 5}"
      ]
     },
     "metadata": {},
     "execution_count": 433
    }
   ],
   "source": [
    "set(kmeans.labels_)"
   ]
  },
  {
   "source": [
    "# Dataframe for the Cluster 0"
   ],
   "cell_type": "markdown",
   "metadata": {}
  },
  {
   "cell_type": "code",
   "execution_count": 435,
   "metadata": {},
   "outputs": [
    {
     "output_type": "stream",
     "name": "stdout",
     "text": [
      "Our Dataframe now is:\n"
     ]
    },
    {
     "output_type": "execute_result",
     "data": {
      "text/plain": [
       "                                         Neighborhood  Longitude  \\\n",
       "14  Milliken, Agincourt North, Steeles East, L'Amo... -79.284577   \n",
       "16                                        Upper Rouge -79.205636   \n",
       "21                            Willowdale, Newtonbrook -79.408493   \n",
       "23                                    York Mills West -79.400049   \n",
       "25                                          Parkwoods -79.329656   \n",
       "40      East Toronto, Broadview North (Old East York) -79.338106   \n",
       "44                                      Lawrence Park -79.388790   \n",
       "50                                           Rosedale -79.377529   \n",
       "74                                Caledonia-Fairbanks -79.453512   \n",
       "79           North Park, Maple Leaf Park, Upwood Park -79.490074   \n",
       "93            Islington Avenue, Humber Valley Village -79.532242   \n",
       "98                                             Weston -79.518188   \n",
       "\n",
       "    Cluster Labels 1st Most Common Venue 2nd Most Common Venue  \\\n",
       "14               0                  Park            Playground   \n",
       "16               0                   NaN                   NaN   \n",
       "21               0                   NaN                   NaN   \n",
       "23               0                  Park     Convenience Store   \n",
       "25               0     Food & Drink Shop                  Park   \n",
       "40               0                  Park     Convenience Store   \n",
       "44               0                  Park           Swim School   \n",
       "50               0                  Park            Playground   \n",
       "74               0                  Park         Women's Store   \n",
       "79               0                  Park                Bakery   \n",
       "93               0                   NaN                   NaN   \n",
       "98               0                  Park         Women's Store   \n",
       "\n",
       "         3rd Most Common Venue 4th Most Common Venue 5th Most Common Venue  \\\n",
       "14                      Bakery          Intersection         Women's Store   \n",
       "16                         NaN                   NaN                   NaN   \n",
       "21                         NaN                   NaN                   NaN   \n",
       "23               Women's Store            Donut Shop                 Diner   \n",
       "25                  Donut Shop                 Diner        Discount Store   \n",
       "40                Intersection         Women's Store            Donut Shop   \n",
       "44                    Bus Line         Women's Store      Doner Restaurant   \n",
       "50                Tennis Court                 Trail     Electronics Store   \n",
       "74                        Pool            Donut Shop                 Diner   \n",
       "79  Construction & Landscaping         Women's Store             Drugstore   \n",
       "93                         NaN                   NaN                   NaN   \n",
       "98                  Donut Shop                 Diner        Discount Store   \n",
       "\n",
       "          6th Most Common Venue 7th Most Common Venue 8th Most Common Venue  \\\n",
       "14             Doner Restaurant                 Diner        Discount Store   \n",
       "16                          NaN                   NaN                   NaN   \n",
       "21                          NaN                   NaN                   NaN   \n",
       "23               Discount Store   Distribution Center              Dive Bar   \n",
       "25          Distribution Center              Dive Bar               Dog Run   \n",
       "40               Discount Store   Distribution Center              Dive Bar   \n",
       "44               Discount Store   Distribution Center              Dive Bar   \n",
       "50  Eastern European Restaurant   Dumpling Restaurant             Drugstore   \n",
       "74               Discount Store   Distribution Center              Dive Bar   \n",
       "79          Distribution Center              Dive Bar               Dog Run   \n",
       "93                          NaN                   NaN                   NaN   \n",
       "98          Distribution Center              Dive Bar               Dog Run   \n",
       "\n",
       "   9th Most Common Venue 10th Most Common Venue  \n",
       "14   Distribution Center               Dive Bar  \n",
       "16                   NaN                    NaN  \n",
       "21                   NaN                    NaN  \n",
       "23               Dog Run       Doner Restaurant  \n",
       "25      Doner Restaurant          Women's Store  \n",
       "40               Dog Run       Doner Restaurant  \n",
       "44               Dog Run             Donut Shop  \n",
       "50            Donut Shop       Department Store  \n",
       "74               Dog Run       Doner Restaurant  \n",
       "79      Doner Restaurant             Donut Shop  \n",
       "93                   NaN                    NaN  \n",
       "98      Doner Restaurant              Drugstore  "
      ],
      "text/html": "<div>\n<style scoped>\n    .dataframe tbody tr th:only-of-type {\n        vertical-align: middle;\n    }\n\n    .dataframe tbody tr th {\n        vertical-align: top;\n    }\n\n    .dataframe thead th {\n        text-align: right;\n    }\n</style>\n<table border=\"1\" class=\"dataframe\">\n  <thead>\n    <tr style=\"text-align: right;\">\n      <th></th>\n      <th>Neighborhood</th>\n      <th>Longitude</th>\n      <th>Cluster Labels</th>\n      <th>1st Most Common Venue</th>\n      <th>2nd Most Common Venue</th>\n      <th>3rd Most Common Venue</th>\n      <th>4th Most Common Venue</th>\n      <th>5th Most Common Venue</th>\n      <th>6th Most Common Venue</th>\n      <th>7th Most Common Venue</th>\n      <th>8th Most Common Venue</th>\n      <th>9th Most Common Venue</th>\n      <th>10th Most Common Venue</th>\n    </tr>\n  </thead>\n  <tbody>\n    <tr>\n      <th>14</th>\n      <td>Milliken, Agincourt North, Steeles East, L'Amo...</td>\n      <td>-79.284577</td>\n      <td>0</td>\n      <td>Park</td>\n      <td>Playground</td>\n      <td>Bakery</td>\n      <td>Intersection</td>\n      <td>Women's Store</td>\n      <td>Doner Restaurant</td>\n      <td>Diner</td>\n      <td>Discount Store</td>\n      <td>Distribution Center</td>\n      <td>Dive Bar</td>\n    </tr>\n    <tr>\n      <th>16</th>\n      <td>Upper Rouge</td>\n      <td>-79.205636</td>\n      <td>0</td>\n      <td>NaN</td>\n      <td>NaN</td>\n      <td>NaN</td>\n      <td>NaN</td>\n      <td>NaN</td>\n      <td>NaN</td>\n      <td>NaN</td>\n      <td>NaN</td>\n      <td>NaN</td>\n      <td>NaN</td>\n    </tr>\n    <tr>\n      <th>21</th>\n      <td>Willowdale, Newtonbrook</td>\n      <td>-79.408493</td>\n      <td>0</td>\n      <td>NaN</td>\n      <td>NaN</td>\n      <td>NaN</td>\n      <td>NaN</td>\n      <td>NaN</td>\n      <td>NaN</td>\n      <td>NaN</td>\n      <td>NaN</td>\n      <td>NaN</td>\n      <td>NaN</td>\n    </tr>\n    <tr>\n      <th>23</th>\n      <td>York Mills West</td>\n      <td>-79.400049</td>\n      <td>0</td>\n      <td>Park</td>\n      <td>Convenience Store</td>\n      <td>Women's Store</td>\n      <td>Donut Shop</td>\n      <td>Diner</td>\n      <td>Discount Store</td>\n      <td>Distribution Center</td>\n      <td>Dive Bar</td>\n      <td>Dog Run</td>\n      <td>Doner Restaurant</td>\n    </tr>\n    <tr>\n      <th>25</th>\n      <td>Parkwoods</td>\n      <td>-79.329656</td>\n      <td>0</td>\n      <td>Food &amp; Drink Shop</td>\n      <td>Park</td>\n      <td>Donut Shop</td>\n      <td>Diner</td>\n      <td>Discount Store</td>\n      <td>Distribution Center</td>\n      <td>Dive Bar</td>\n      <td>Dog Run</td>\n      <td>Doner Restaurant</td>\n      <td>Women's Store</td>\n    </tr>\n    <tr>\n      <th>40</th>\n      <td>East Toronto, Broadview North (Old East York)</td>\n      <td>-79.338106</td>\n      <td>0</td>\n      <td>Park</td>\n      <td>Convenience Store</td>\n      <td>Intersection</td>\n      <td>Women's Store</td>\n      <td>Donut Shop</td>\n      <td>Discount Store</td>\n      <td>Distribution Center</td>\n      <td>Dive Bar</td>\n      <td>Dog Run</td>\n      <td>Doner Restaurant</td>\n    </tr>\n    <tr>\n      <th>44</th>\n      <td>Lawrence Park</td>\n      <td>-79.388790</td>\n      <td>0</td>\n      <td>Park</td>\n      <td>Swim School</td>\n      <td>Bus Line</td>\n      <td>Women's Store</td>\n      <td>Doner Restaurant</td>\n      <td>Discount Store</td>\n      <td>Distribution Center</td>\n      <td>Dive Bar</td>\n      <td>Dog Run</td>\n      <td>Donut Shop</td>\n    </tr>\n    <tr>\n      <th>50</th>\n      <td>Rosedale</td>\n      <td>-79.377529</td>\n      <td>0</td>\n      <td>Park</td>\n      <td>Playground</td>\n      <td>Tennis Court</td>\n      <td>Trail</td>\n      <td>Electronics Store</td>\n      <td>Eastern European Restaurant</td>\n      <td>Dumpling Restaurant</td>\n      <td>Drugstore</td>\n      <td>Donut Shop</td>\n      <td>Department Store</td>\n    </tr>\n    <tr>\n      <th>74</th>\n      <td>Caledonia-Fairbanks</td>\n      <td>-79.453512</td>\n      <td>0</td>\n      <td>Park</td>\n      <td>Women's Store</td>\n      <td>Pool</td>\n      <td>Donut Shop</td>\n      <td>Diner</td>\n      <td>Discount Store</td>\n      <td>Distribution Center</td>\n      <td>Dive Bar</td>\n      <td>Dog Run</td>\n      <td>Doner Restaurant</td>\n    </tr>\n    <tr>\n      <th>79</th>\n      <td>North Park, Maple Leaf Park, Upwood Park</td>\n      <td>-79.490074</td>\n      <td>0</td>\n      <td>Park</td>\n      <td>Bakery</td>\n      <td>Construction &amp; Landscaping</td>\n      <td>Women's Store</td>\n      <td>Drugstore</td>\n      <td>Distribution Center</td>\n      <td>Dive Bar</td>\n      <td>Dog Run</td>\n      <td>Doner Restaurant</td>\n      <td>Donut Shop</td>\n    </tr>\n    <tr>\n      <th>93</th>\n      <td>Islington Avenue, Humber Valley Village</td>\n      <td>-79.532242</td>\n      <td>0</td>\n      <td>NaN</td>\n      <td>NaN</td>\n      <td>NaN</td>\n      <td>NaN</td>\n      <td>NaN</td>\n      <td>NaN</td>\n      <td>NaN</td>\n      <td>NaN</td>\n      <td>NaN</td>\n      <td>NaN</td>\n    </tr>\n    <tr>\n      <th>98</th>\n      <td>Weston</td>\n      <td>-79.518188</td>\n      <td>0</td>\n      <td>Park</td>\n      <td>Women's Store</td>\n      <td>Donut Shop</td>\n      <td>Diner</td>\n      <td>Discount Store</td>\n      <td>Distribution Center</td>\n      <td>Dive Bar</td>\n      <td>Dog Run</td>\n      <td>Doner Restaurant</td>\n      <td>Drugstore</td>\n    </tr>\n  </tbody>\n</table>\n</div>"
     },
     "metadata": {},
     "execution_count": 435
    }
   ],
   "source": [
    "Toronto_merged.loc[Toronto_merged['Cluster Labels'] == 0, Toronto_merged.columns[[2] + list(range(5, Toronto_merged.shape[1]))]]"
   ]
  },
  {
   "source": [
    "### Dataframe for the Cluster 1"
   ],
   "cell_type": "markdown",
   "metadata": {}
  },
  {
   "cell_type": "code",
   "execution_count": 436,
   "metadata": {},
   "outputs": [
    {
     "output_type": "execute_result",
     "data": {
      "text/plain": [
       "                                          Neighborhood  Longitude  \\\n",
       "1               Rouge Hill, Port Union, Highland Creek -79.160497   \n",
       "2                    Guildwood, Morningside, West Hill -79.188711   \n",
       "3                                               Woburn -79.216917   \n",
       "4                                            Cedarbrae -79.239476   \n",
       "5                                  Scarborough Village -79.239476   \n",
       "..                                                 ...        ...   \n",
       "96                                       Humber Summit -79.565963   \n",
       "99                                           Westmount -79.532242   \n",
       "100  Kingsview Village, St. Phillips, Martin Grove ... -79.554724   \n",
       "101  South Steeles, Silverstone, Humbergate, Jamest... -79.588437   \n",
       "102                Northwest, West Humber - Clairville -79.594054   \n",
       "\n",
       "     Cluster Labels       1st Most Common Venue   2nd Most Common Venue  \\\n",
       "1                 1  Construction & Landscaping                     Bar   \n",
       "2                 1          Mexican Restaurant       Electronics Store   \n",
       "3                 1                 Coffee Shop      Mexican Restaurant   \n",
       "4                 1            Hakka Restaurant      Athletics & Sports   \n",
       "5                 1                  Playground              Smoke Shop   \n",
       "..              ...                         ...                     ...   \n",
       "96                1                 Pizza Place  Furniture / Home Store   \n",
       "99                1                 Pizza Place          Discount Store   \n",
       "100               1                 Pizza Place                    Park   \n",
       "101               1                 Pizza Place           Grocery Store   \n",
       "102               1               Garden Center     Rental Car Location   \n",
       "\n",
       "     3rd Most Common Venue 4th Most Common Venue 5th Most Common Venue  \\\n",
       "1            Women's Store             Drugstore   Distribution Center   \n",
       "2               Restaurant        Breakfast Spot   Rental Car Location   \n",
       "3    Korean BBQ Restaurant         Women's Store            Donut Shop   \n",
       "4                   Bakery           Gas Station  Caribbean Restaurant   \n",
       "5            Jewelry Store         Women's Store      Doner Restaurant   \n",
       "..                     ...                   ...                   ...   \n",
       "96    Ethiopian Restaurant           Escape Room     Electronics Store   \n",
       "99          Sandwich Place           Coffee Shop    Chinese Restaurant   \n",
       "100               Bus Line        Sandwich Place               Dog Run   \n",
       "101               Pharmacy  Fast Food Restaurant        Sandwich Place   \n",
       "102              Drugstore                   Bar         Women's Store   \n",
       "\n",
       "           6th Most Common Venue 7th Most Common Venue 8th Most Common Venue  \\\n",
       "1                       Dive Bar               Dog Run      Doner Restaurant   \n",
       "2                 Medical Center          Intersection                  Bank   \n",
       "3                 Discount Store   Distribution Center              Dive Bar   \n",
       "4                Thai Restaurant                  Bank   Fried Chicken Joint   \n",
       "5                          Diner        Discount Store   Distribution Center   \n",
       "..                           ...                   ...                   ...   \n",
       "96   Eastern European Restaurant   Dumpling Restaurant             Drugstore   \n",
       "99                  Intersection              Dive Bar    Dim Sum Restaurant   \n",
       "100                        Diner        Discount Store   Distribution Center   \n",
       "101                   Beer Store   Fried Chicken Joint          Liquor Store   \n",
       "102                      Dog Run                 Diner        Discount Store   \n",
       "\n",
       "           9th Most Common Venue 10th Most Common Venue  \n",
       "1                     Donut Shop    Dumpling Restaurant  \n",
       "2                  Women's Store         Discount Store  \n",
       "3                        Dog Run       Doner Restaurant  \n",
       "4                       Dive Bar    Distribution Center  \n",
       "5                       Dive Bar                Dog Run  \n",
       "..                           ...                    ...  \n",
       "96                  Dessert Shop       Doner Restaurant  \n",
       "99                         Diner    Distribution Center  \n",
       "100                     Dive Bar       Doner Restaurant  \n",
       "101  Eastern European Restaurant      Electronics Store  \n",
       "102          Distribution Center               Dive Bar  \n",
       "\n",
       "[86 rows x 13 columns]"
      ],
      "text/html": "<div>\n<style scoped>\n    .dataframe tbody tr th:only-of-type {\n        vertical-align: middle;\n    }\n\n    .dataframe tbody tr th {\n        vertical-align: top;\n    }\n\n    .dataframe thead th {\n        text-align: right;\n    }\n</style>\n<table border=\"1\" class=\"dataframe\">\n  <thead>\n    <tr style=\"text-align: right;\">\n      <th></th>\n      <th>Neighborhood</th>\n      <th>Longitude</th>\n      <th>Cluster Labels</th>\n      <th>1st Most Common Venue</th>\n      <th>2nd Most Common Venue</th>\n      <th>3rd Most Common Venue</th>\n      <th>4th Most Common Venue</th>\n      <th>5th Most Common Venue</th>\n      <th>6th Most Common Venue</th>\n      <th>7th Most Common Venue</th>\n      <th>8th Most Common Venue</th>\n      <th>9th Most Common Venue</th>\n      <th>10th Most Common Venue</th>\n    </tr>\n  </thead>\n  <tbody>\n    <tr>\n      <th>1</th>\n      <td>Rouge Hill, Port Union, Highland Creek</td>\n      <td>-79.160497</td>\n      <td>1</td>\n      <td>Construction &amp; Landscaping</td>\n      <td>Bar</td>\n      <td>Women's Store</td>\n      <td>Drugstore</td>\n      <td>Distribution Center</td>\n      <td>Dive Bar</td>\n      <td>Dog Run</td>\n      <td>Doner Restaurant</td>\n      <td>Donut Shop</td>\n      <td>Dumpling Restaurant</td>\n    </tr>\n    <tr>\n      <th>2</th>\n      <td>Guildwood, Morningside, West Hill</td>\n      <td>-79.188711</td>\n      <td>1</td>\n      <td>Mexican Restaurant</td>\n      <td>Electronics Store</td>\n      <td>Restaurant</td>\n      <td>Breakfast Spot</td>\n      <td>Rental Car Location</td>\n      <td>Medical Center</td>\n      <td>Intersection</td>\n      <td>Bank</td>\n      <td>Women's Store</td>\n      <td>Discount Store</td>\n    </tr>\n    <tr>\n      <th>3</th>\n      <td>Woburn</td>\n      <td>-79.216917</td>\n      <td>1</td>\n      <td>Coffee Shop</td>\n      <td>Mexican Restaurant</td>\n      <td>Korean BBQ Restaurant</td>\n      <td>Women's Store</td>\n      <td>Donut Shop</td>\n      <td>Discount Store</td>\n      <td>Distribution Center</td>\n      <td>Dive Bar</td>\n      <td>Dog Run</td>\n      <td>Doner Restaurant</td>\n    </tr>\n    <tr>\n      <th>4</th>\n      <td>Cedarbrae</td>\n      <td>-79.239476</td>\n      <td>1</td>\n      <td>Hakka Restaurant</td>\n      <td>Athletics &amp; Sports</td>\n      <td>Bakery</td>\n      <td>Gas Station</td>\n      <td>Caribbean Restaurant</td>\n      <td>Thai Restaurant</td>\n      <td>Bank</td>\n      <td>Fried Chicken Joint</td>\n      <td>Dive Bar</td>\n      <td>Distribution Center</td>\n    </tr>\n    <tr>\n      <th>5</th>\n      <td>Scarborough Village</td>\n      <td>-79.239476</td>\n      <td>1</td>\n      <td>Playground</td>\n      <td>Smoke Shop</td>\n      <td>Jewelry Store</td>\n      <td>Women's Store</td>\n      <td>Doner Restaurant</td>\n      <td>Diner</td>\n      <td>Discount Store</td>\n      <td>Distribution Center</td>\n      <td>Dive Bar</td>\n      <td>Dog Run</td>\n    </tr>\n    <tr>\n      <th>...</th>\n      <td>...</td>\n      <td>...</td>\n      <td>...</td>\n      <td>...</td>\n      <td>...</td>\n      <td>...</td>\n      <td>...</td>\n      <td>...</td>\n      <td>...</td>\n      <td>...</td>\n      <td>...</td>\n      <td>...</td>\n      <td>...</td>\n    </tr>\n    <tr>\n      <th>96</th>\n      <td>Humber Summit</td>\n      <td>-79.565963</td>\n      <td>1</td>\n      <td>Pizza Place</td>\n      <td>Furniture / Home Store</td>\n      <td>Ethiopian Restaurant</td>\n      <td>Escape Room</td>\n      <td>Electronics Store</td>\n      <td>Eastern European Restaurant</td>\n      <td>Dumpling Restaurant</td>\n      <td>Drugstore</td>\n      <td>Dessert Shop</td>\n      <td>Doner Restaurant</td>\n    </tr>\n    <tr>\n      <th>99</th>\n      <td>Westmount</td>\n      <td>-79.532242</td>\n      <td>1</td>\n      <td>Pizza Place</td>\n      <td>Discount Store</td>\n      <td>Sandwich Place</td>\n      <td>Coffee Shop</td>\n      <td>Chinese Restaurant</td>\n      <td>Intersection</td>\n      <td>Dive Bar</td>\n      <td>Dim Sum Restaurant</td>\n      <td>Diner</td>\n      <td>Distribution Center</td>\n    </tr>\n    <tr>\n      <th>100</th>\n      <td>Kingsview Village, St. Phillips, Martin Grove ...</td>\n      <td>-79.554724</td>\n      <td>1</td>\n      <td>Pizza Place</td>\n      <td>Park</td>\n      <td>Bus Line</td>\n      <td>Sandwich Place</td>\n      <td>Dog Run</td>\n      <td>Diner</td>\n      <td>Discount Store</td>\n      <td>Distribution Center</td>\n      <td>Dive Bar</td>\n      <td>Doner Restaurant</td>\n    </tr>\n    <tr>\n      <th>101</th>\n      <td>South Steeles, Silverstone, Humbergate, Jamest...</td>\n      <td>-79.588437</td>\n      <td>1</td>\n      <td>Pizza Place</td>\n      <td>Grocery Store</td>\n      <td>Pharmacy</td>\n      <td>Fast Food Restaurant</td>\n      <td>Sandwich Place</td>\n      <td>Beer Store</td>\n      <td>Fried Chicken Joint</td>\n      <td>Liquor Store</td>\n      <td>Eastern European Restaurant</td>\n      <td>Electronics Store</td>\n    </tr>\n    <tr>\n      <th>102</th>\n      <td>Northwest, West Humber - Clairville</td>\n      <td>-79.594054</td>\n      <td>1</td>\n      <td>Garden Center</td>\n      <td>Rental Car Location</td>\n      <td>Drugstore</td>\n      <td>Bar</td>\n      <td>Women's Store</td>\n      <td>Dog Run</td>\n      <td>Diner</td>\n      <td>Discount Store</td>\n      <td>Distribution Center</td>\n      <td>Dive Bar</td>\n    </tr>\n  </tbody>\n</table>\n<p>86 rows × 13 columns</p>\n</div>"
     },
     "metadata": {},
     "execution_count": 436
    }
   ],
   "source": [
    "Toronto_merged.loc[Toronto_merged['Cluster Labels'] == 1, Toronto_merged.columns[[2] + list(range(5, Toronto_merged.shape[1]))]]\n"
   ]
  },
  {
   "source": [
    "### Dataframe for the Cluster 2"
   ],
   "cell_type": "markdown",
   "metadata": {}
  },
  {
   "cell_type": "code",
   "execution_count": 437,
   "metadata": {},
   "outputs": [
    {
     "output_type": "execute_result",
     "data": {
      "text/plain": [
       "                Neighborhood  Longitude  Cluster Labels 1st Most Common Venue  \\\n",
       "20  York Mills, Silver Hills -79.374714               2   Martial Arts School   \n",
       "\n",
       "   2nd Most Common Venue 3rd Most Common Venue 4th Most Common Venue  \\\n",
       "20         Women's Store            Donut Shop                 Diner   \n",
       "\n",
       "   5th Most Common Venue 6th Most Common Venue 7th Most Common Venue  \\\n",
       "20        Discount Store   Distribution Center              Dive Bar   \n",
       "\n",
       "   8th Most Common Venue 9th Most Common Venue 10th Most Common Venue  \n",
       "20               Dog Run      Doner Restaurant              Drugstore  "
      ],
      "text/html": "<div>\n<style scoped>\n    .dataframe tbody tr th:only-of-type {\n        vertical-align: middle;\n    }\n\n    .dataframe tbody tr th {\n        vertical-align: top;\n    }\n\n    .dataframe thead th {\n        text-align: right;\n    }\n</style>\n<table border=\"1\" class=\"dataframe\">\n  <thead>\n    <tr style=\"text-align: right;\">\n      <th></th>\n      <th>Neighborhood</th>\n      <th>Longitude</th>\n      <th>Cluster Labels</th>\n      <th>1st Most Common Venue</th>\n      <th>2nd Most Common Venue</th>\n      <th>3rd Most Common Venue</th>\n      <th>4th Most Common Venue</th>\n      <th>5th Most Common Venue</th>\n      <th>6th Most Common Venue</th>\n      <th>7th Most Common Venue</th>\n      <th>8th Most Common Venue</th>\n      <th>9th Most Common Venue</th>\n      <th>10th Most Common Venue</th>\n    </tr>\n  </thead>\n  <tbody>\n    <tr>\n      <th>20</th>\n      <td>York Mills, Silver Hills</td>\n      <td>-79.374714</td>\n      <td>2</td>\n      <td>Martial Arts School</td>\n      <td>Women's Store</td>\n      <td>Donut Shop</td>\n      <td>Diner</td>\n      <td>Discount Store</td>\n      <td>Distribution Center</td>\n      <td>Dive Bar</td>\n      <td>Dog Run</td>\n      <td>Doner Restaurant</td>\n      <td>Drugstore</td>\n    </tr>\n  </tbody>\n</table>\n</div>"
     },
     "metadata": {},
     "execution_count": 437
    }
   ],
   "source": [
    "Toronto_merged.loc[Toronto_merged['Cluster Labels'] == 2, Toronto_merged.columns[[2] + list(range(5, Toronto_merged.shape[1]))]]"
   ]
  },
  {
   "source": [
    "### Dataframe for the Cluster 3"
   ],
   "cell_type": "markdown",
   "metadata": {}
  },
  {
   "cell_type": "code",
   "execution_count": 438,
   "metadata": {},
   "outputs": [
    {
     "output_type": "execute_result",
     "data": {
      "text/plain": [
       "                                         Neighborhood  Longitude  \\\n",
       "94  West Deane Park, Princess Gardens, Martin Grov... -79.554724   \n",
       "\n",
       "    Cluster Labels 1st Most Common Venue 2nd Most Common Venue  \\\n",
       "94               3            Print Shop            Donut Shop   \n",
       "\n",
       "   3rd Most Common Venue 4th Most Common Venue 5th Most Common Venue  \\\n",
       "94                 Diner        Discount Store   Distribution Center   \n",
       "\n",
       "   6th Most Common Venue 7th Most Common Venue 8th Most Common Venue  \\\n",
       "94              Dive Bar               Dog Run      Doner Restaurant   \n",
       "\n",
       "   9th Most Common Venue 10th Most Common Venue  \n",
       "94         Women's Store           Dessert Shop  "
      ],
      "text/html": "<div>\n<style scoped>\n    .dataframe tbody tr th:only-of-type {\n        vertical-align: middle;\n    }\n\n    .dataframe tbody tr th {\n        vertical-align: top;\n    }\n\n    .dataframe thead th {\n        text-align: right;\n    }\n</style>\n<table border=\"1\" class=\"dataframe\">\n  <thead>\n    <tr style=\"text-align: right;\">\n      <th></th>\n      <th>Neighborhood</th>\n      <th>Longitude</th>\n      <th>Cluster Labels</th>\n      <th>1st Most Common Venue</th>\n      <th>2nd Most Common Venue</th>\n      <th>3rd Most Common Venue</th>\n      <th>4th Most Common Venue</th>\n      <th>5th Most Common Venue</th>\n      <th>6th Most Common Venue</th>\n      <th>7th Most Common Venue</th>\n      <th>8th Most Common Venue</th>\n      <th>9th Most Common Venue</th>\n      <th>10th Most Common Venue</th>\n    </tr>\n  </thead>\n  <tbody>\n    <tr>\n      <th>94</th>\n      <td>West Deane Park, Princess Gardens, Martin Grov...</td>\n      <td>-79.554724</td>\n      <td>3</td>\n      <td>Print Shop</td>\n      <td>Donut Shop</td>\n      <td>Diner</td>\n      <td>Discount Store</td>\n      <td>Distribution Center</td>\n      <td>Dive Bar</td>\n      <td>Dog Run</td>\n      <td>Doner Restaurant</td>\n      <td>Women's Store</td>\n      <td>Dessert Shop</td>\n    </tr>\n  </tbody>\n</table>\n</div>"
     },
     "metadata": {},
     "execution_count": 438
    }
   ],
   "source": [
    "Toronto_merged.loc[Toronto_merged['Cluster Labels'] == 3, Toronto_merged.columns[[2] + list(range(5, Toronto_merged.shape[1]))]]"
   ]
  },
  {
   "source": [
    "### Dataframe for the Cluster 4"
   ],
   "cell_type": "markdown",
   "metadata": {}
  },
  {
   "cell_type": "code",
   "execution_count": 439,
   "metadata": {},
   "outputs": [
    {
     "output_type": "execute_result",
     "data": {
      "text/plain": [
       "     Neighborhood  Longitude  Cluster Labels 1st Most Common Venue  \\\n",
       "0  Malvern, Rouge -79.194353               4  Fast Food Restaurant   \n",
       "\n",
       "  2nd Most Common Venue 3rd Most Common Venue 4th Most Common Venue  \\\n",
       "0            Donut Shop                 Diner        Discount Store   \n",
       "\n",
       "  5th Most Common Venue 6th Most Common Venue 7th Most Common Venue  \\\n",
       "0   Distribution Center              Dive Bar               Dog Run   \n",
       "\n",
       "  8th Most Common Venue 9th Most Common Venue 10th Most Common Venue  \n",
       "0      Doner Restaurant             Drugstore         Farmers Market  "
      ],
      "text/html": "<div>\n<style scoped>\n    .dataframe tbody tr th:only-of-type {\n        vertical-align: middle;\n    }\n\n    .dataframe tbody tr th {\n        vertical-align: top;\n    }\n\n    .dataframe thead th {\n        text-align: right;\n    }\n</style>\n<table border=\"1\" class=\"dataframe\">\n  <thead>\n    <tr style=\"text-align: right;\">\n      <th></th>\n      <th>Neighborhood</th>\n      <th>Longitude</th>\n      <th>Cluster Labels</th>\n      <th>1st Most Common Venue</th>\n      <th>2nd Most Common Venue</th>\n      <th>3rd Most Common Venue</th>\n      <th>4th Most Common Venue</th>\n      <th>5th Most Common Venue</th>\n      <th>6th Most Common Venue</th>\n      <th>7th Most Common Venue</th>\n      <th>8th Most Common Venue</th>\n      <th>9th Most Common Venue</th>\n      <th>10th Most Common Venue</th>\n    </tr>\n  </thead>\n  <tbody>\n    <tr>\n      <th>0</th>\n      <td>Malvern, Rouge</td>\n      <td>-79.194353</td>\n      <td>4</td>\n      <td>Fast Food Restaurant</td>\n      <td>Donut Shop</td>\n      <td>Diner</td>\n      <td>Discount Store</td>\n      <td>Distribution Center</td>\n      <td>Dive Bar</td>\n      <td>Dog Run</td>\n      <td>Doner Restaurant</td>\n      <td>Drugstore</td>\n      <td>Farmers Market</td>\n    </tr>\n  </tbody>\n</table>\n</div>"
     },
     "metadata": {},
     "execution_count": 439
    }
   ],
   "source": [
    "Toronto_merged.loc[Toronto_merged['Cluster Labels'] == 4, Toronto_merged.columns[[2] + list(range(5, Toronto_merged.shape[1]))]]"
   ]
  },
  {
   "source": [
    "### Dataframe for the Cluster 5"
   ],
   "cell_type": "markdown",
   "metadata": {}
  },
  {
   "cell_type": "code",
   "execution_count": 440,
   "metadata": {},
   "outputs": [
    {
     "output_type": "execute_result",
     "data": {
      "text/plain": [
       "                                         Neighborhood  Longitude  \\\n",
       "91  Old Mill South, King's Mill Park, Sunnylea, Hu... -79.498509   \n",
       "97                                   Humberlea, Emery -79.532242   \n",
       "\n",
       "    Cluster Labels 1st Most Common Venue       2nd Most Common Venue  \\\n",
       "91               5        Baseball Field  Construction & Landscaping   \n",
       "97               5        Baseball Field               Women's Store   \n",
       "\n",
       "   3rd Most Common Venue 4th Most Common Venue 5th Most Common Venue  \\\n",
       "91         Women's Store   Distribution Center              Dive Bar   \n",
       "97   Distribution Center              Dive Bar               Dog Run   \n",
       "\n",
       "   6th Most Common Venue 7th Most Common Venue 8th Most Common Venue  \\\n",
       "91               Dog Run      Doner Restaurant            Donut Shop   \n",
       "97      Doner Restaurant            Donut Shop             Drugstore   \n",
       "\n",
       "   9th Most Common Venue 10th Most Common Venue  \n",
       "91             Drugstore    Dumpling Restaurant  \n",
       "97   Dumpling Restaurant                  Diner  "
      ],
      "text/html": "<div>\n<style scoped>\n    .dataframe tbody tr th:only-of-type {\n        vertical-align: middle;\n    }\n\n    .dataframe tbody tr th {\n        vertical-align: top;\n    }\n\n    .dataframe thead th {\n        text-align: right;\n    }\n</style>\n<table border=\"1\" class=\"dataframe\">\n  <thead>\n    <tr style=\"text-align: right;\">\n      <th></th>\n      <th>Neighborhood</th>\n      <th>Longitude</th>\n      <th>Cluster Labels</th>\n      <th>1st Most Common Venue</th>\n      <th>2nd Most Common Venue</th>\n      <th>3rd Most Common Venue</th>\n      <th>4th Most Common Venue</th>\n      <th>5th Most Common Venue</th>\n      <th>6th Most Common Venue</th>\n      <th>7th Most Common Venue</th>\n      <th>8th Most Common Venue</th>\n      <th>9th Most Common Venue</th>\n      <th>10th Most Common Venue</th>\n    </tr>\n  </thead>\n  <tbody>\n    <tr>\n      <th>91</th>\n      <td>Old Mill South, King's Mill Park, Sunnylea, Hu...</td>\n      <td>-79.498509</td>\n      <td>5</td>\n      <td>Baseball Field</td>\n      <td>Construction &amp; Landscaping</td>\n      <td>Women's Store</td>\n      <td>Distribution Center</td>\n      <td>Dive Bar</td>\n      <td>Dog Run</td>\n      <td>Doner Restaurant</td>\n      <td>Donut Shop</td>\n      <td>Drugstore</td>\n      <td>Dumpling Restaurant</td>\n    </tr>\n    <tr>\n      <th>97</th>\n      <td>Humberlea, Emery</td>\n      <td>-79.532242</td>\n      <td>5</td>\n      <td>Baseball Field</td>\n      <td>Women's Store</td>\n      <td>Distribution Center</td>\n      <td>Dive Bar</td>\n      <td>Dog Run</td>\n      <td>Doner Restaurant</td>\n      <td>Donut Shop</td>\n      <td>Drugstore</td>\n      <td>Dumpling Restaurant</td>\n      <td>Diner</td>\n    </tr>\n  </tbody>\n</table>\n</div>"
     },
     "metadata": {},
     "execution_count": 440
    }
   ],
   "source": [
    "Toronto_merged.loc[Toronto_merged['Cluster Labels'] == 5, Toronto_merged.columns[[2] + list(range(5, Toronto_merged.shape[1]))]]"
   ]
  }
 ],
 "metadata": {
  "kernelspec": {
   "name": "python3",
   "display_name": "Python 3.8.6 64-bit",
   "metadata": {
    "interpreter": {
     "hash": "dc3ed4a2de3c1116da98ab5f2b5f7991e93d17ed1f30b450c1bebbe4030ecc78"
    }
   }
  },
  "language_info": {
   "codemirror_mode": {
    "name": "ipython",
    "version": 3
   },
   "file_extension": ".py",
   "mimetype": "text/x-python",
   "name": "python",
   "nbconvert_exporter": "python",
   "pygments_lexer": "ipython3",
   "version": "3.8.6-final"
  }
 },
 "nbformat": 4,
 "nbformat_minor": 2
}